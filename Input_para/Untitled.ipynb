{
 "cells": [
  {
   "cell_type": "code",
   "execution_count": 1,
   "metadata": {},
   "outputs": [],
   "source": [
    "import matplotlib.pyplot as plt\n",
    "import numpy as np"
   ]
  },
  {
   "cell_type": "code",
   "execution_count": 2,
   "metadata": {},
   "outputs": [],
   "source": [
    "def where_value(value, array):\n",
    "    \"\"\"\n",
    "        Function that returns the indice of a value in a !!! sorted !!! array.\n",
    "        Essentially a dichotomy (bisection in english).\n",
    "        It returns indice for which :\n",
    "        array[indice] < value <=  array[indice+1]\n",
    "        Returns -1 if value is out of bounds.\n",
    "\n",
    "        Parameters :\n",
    "        ------------\n",
    "        value : [float]\n",
    "            Value to find in the array.\n",
    "\n",
    "        array : [array]\n",
    "            Array in which to look.\n",
    "\n",
    "        Returns :\n",
    "        ---------\n",
    "        indice : [int]\n",
    "            The indice where the value was found in the array.\n",
    "    \"\"\"\n",
    "    imin = 0\n",
    "    imax = len(array)-1\n",
    "    if(value < array[0] or value > array[-1]):\n",
    "        print(\"[Warning] in where_value : value is out of range of the array, indice returned : -1\")\n",
    "        indice = -1\n",
    "    else:\n",
    "        jj = 0\n",
    "        while True:\n",
    "            if (jj > 100000):\n",
    "                print(\"[Error] in where_value : looping over 100000 times, aborting.\")\n",
    "                print(\"[Error] in where_value : imax, imin, j = \", imax, imin, j)\n",
    "                break\n",
    "            j = int((imin + imax)/2)\n",
    "            jj += 1\n",
    "            if(value > array[j]):\n",
    "                imin = j+1\n",
    "            elif(value < array[j-1]):\n",
    "                imax = j\n",
    "            else:\n",
    "                break\n",
    "        indice = j-1\n",
    "\n",
    "    return indice"
   ]
  },
  {
   "cell_type": "code",
   "execution_count": 5,
   "metadata": {},
   "outputs": [],
   "source": [
    "def GRBrate_exp(z, a=1.1, b=-0.57, zm=1.9, norm=0.00033313):\n",
    "    \"\"\"\n",
    "        GRB rate as parametrized by a broken exponential function. Default values are chosen as best fit from SFR of Vangioni+15\n",
    "        Normalization is done on the same SFR, yielding units of yr-1 Mpc-3\n",
    "    \"\"\"\n",
    "    if isinstance(z, np.ndarray):\n",
    "        w = np.where(z > zm)[0]\n",
    "        rate = np.exp(a*z)\n",
    "        rate[w] = np.exp(b*z[w]) * np.exp((a-b)*zm)\n",
    "    else:\n",
    "        if z <= zm:\n",
    "            rate = np.exp(a*z)\n",
    "        else:\n",
    "            rate = np.exp(b*z) * np.exp((a-b)*zm)\n",
    "    return norm*rate"
   ]
  },
  {
   "cell_type": "code",
   "execution_count": 57,
   "metadata": {},
   "outputs": [],
   "source": [
    "def sample_from(x, pdf, N_sample, pdf_is_unnormed=False):\n",
    "    N = pdf.shape[0]\n",
    "    cdf = np.zeros(N)\n",
    "    for i in range(1, N):\n",
    "        cdf[i] = cdf[i-1] + (x[i]-x[i-1]) * (pdf[i-1] + pdf[i])/2.0\n",
    "\n",
    "    x_sample = np.zeros(N_sample)\n",
    "\n",
    "    print(cdf[-1])\n",
    "    if pdf_is_unnormed:\n",
    "        norm = cdf[-1]\n",
    "        pdf = pdf / norm\n",
    "        cdf /= norm\n",
    "    print(cdf[-1])\n",
    "    t = np.random.rand(N_sample)\n",
    "    for i in range(N_sample):\n",
    "        j = where_value(t[i], cdf)\n",
    "        x_sample[i] = x[j]\n",
    "\n",
    "    return x_sample"
   ]
  },
  {
   "cell_type": "code",
   "execution_count": 73,
   "metadata": {},
   "outputs": [
    {
     "name": "stdout",
     "output_type": "stream",
     "text": [
      "0.0068709484389135374\n"
     ]
    }
   ],
   "source": [
    "z = np.linspace(0,20, 10000)\n",
    "z_pdf = GRBrate_exp(z)\n",
    "delta_z = z[1]-z[0]\n",
    "summ = z_pdf.sum() * delta_z\n",
    "z_pdf_normed2 = z_pdf / summ\n",
    "z_pdf_normed = z_pdf / z_pdf.sum()\n",
    "print(summ)"
   ]
  },
  {
   "cell_type": "code",
   "execution_count": 74,
   "metadata": {},
   "outputs": [
    {
     "name": "stdout",
     "output_type": "stream",
     "text": [
      "0.9999514983431699\n",
      "1.0\n"
     ]
    }
   ],
   "source": [
    "z_sampled = sample_from(z, z_pdf_normed2, 1000000, True)\n",
    "#z_sampled3 = sample_from(z, z_pdf, 10, False)\n",
    "z_sampled2 = np.random.choice(z, size=1000000, p=z_pdf_normed)"
   ]
  },
  {
   "cell_type": "code",
   "execution_count": 76,
   "metadata": {},
   "outputs": [
    {
     "data": {
      "image/png": "[encoded data removed]",
      "text/plain": [
       "<Figure size 432x288 with 1 Axes>"
      ]
     },
     "metadata": {
      "needs_background": "light"
     },
     "output_type": "display_data"
    }
   ],
   "source": [
    "plt.hist(z_sampled, bins=50, density=True, alpha=0.8)\n",
    "plt.hist(z_sampled2, bins=50, density=True, alpha=0.8)\n",
    "plt.plot(z, z_pdf_normed)\n",
    "plt.plot(z, z_pdf_normed2)\n",
    "plt.yscale('log')"
   ]
  },
  {
   "cell_type": "code",
   "execution_count": 28,
   "metadata": {},
   "outputs": [
    {
     "name": "stdout",
     "output_type": "stream",
     "text": [
      "62 ms ± 3.2 ms per loop (mean ± std. dev. of 7 runs, 10 loops each)\n"
     ]
    }
   ],
   "source": [
    "%timeit z_sampled = sample_from(z, z_pdf, 10000, True)"
   ]
  },
  {
   "cell_type": "code",
   "execution_count": 29,
   "metadata": {},
   "outputs": [
    {
     "name": "stdout",
     "output_type": "stream",
     "text": [
      "868 µs ± 8.94 µs per loop (mean ± std. dev. of 7 runs, 1000 loops each)\n"
     ]
    }
   ],
   "source": [
    "%timeit z_sampled2 = np.random.choice(z, size=10000, p=z_pdf_normed)"
   ]
  },
  {
   "cell_type": "code",
   "execution_count": 77,
   "metadata": {},
   "outputs": [],
   "source": [
    "def xBtild(x, ktild, alpha, beta, spec='Band'):\n",
    "    \"\"\"\n",
    "        Unitless spectral shape (of N_E, i.e. photon spectrum in ph/cm2/s)\n",
    "    \"\"\"\n",
    "\n",
    "    if isinstance(x, np.ndarray):\n",
    "        xBtild = np.zeros(len(x))\n",
    "        for i in range(len(x)):\n",
    "            if spec == 'Band':\n",
    "                x_c = (beta - alpha) / (2.0 - alpha)\n",
    "                if(x[i] < x_c):\n",
    "                    xBtild[i] = ktild * x[i]**(1.0-alpha) * np.exp((alpha - 2.0) * x[i])\n",
    "                elif (x[i] > x_c):\n",
    "                    xBtild[i] = ktild * x[i]**(1.0-beta) * np.exp(alpha - beta) * x_c**(beta - alpha)\n",
    "                else:\n",
    "                    xBtild[i] = ktild * x_c**(1.0-alpha) * np.exp(alpha - beta)\n",
    "\n",
    "            elif spec == 'BPL':\n",
    "                ktild = (2.0-alpha) * (beta-2.0) / (beta-alpha)\n",
    "                if(x[i] < 1.0):\n",
    "                    xBtild[i] = ktild * x[i]**(1.-alpha)\n",
    "                elif(x[i] > 1.0):\n",
    "                    xBtild[i] = ktild * x[i]**(1.-beta)\n",
    "                else:\n",
    "                    xBtild[i] = ktild\n",
    "    else:\n",
    "        if spec == 'Band':\n",
    "            x_c = (beta - alpha) / (2.0 - alpha)\n",
    "            if(x < x_c):\n",
    "                xBtild = ktild * x**(1.0-alpha) * np.exp((alpha - 2.0) * x)\n",
    "            elif (x > x_c):\n",
    "                xBtild = ktild * x**(1.0-beta) * np.exp(alpha - beta) * x_c**(beta - alpha)\n",
    "            else:\n",
    "                xBtild = ktild * x_c**(1.0-alpha) * np.exp(alpha - beta)\n",
    "        elif spec == 'BPL':\n",
    "            ktild = (2.0-alpha) * (beta-2.0) / (beta-alpha)\n",
    "            if(x < 1.0):\n",
    "                xBtild = ktild * x**(1.-alpha)\n",
    "            elif(x > 1.0):\n",
    "                xBtild = ktild * x**(1.-beta)\n",
    "            else:\n",
    "                xBtild = ktild\n",
    "\n",
    "    return xBtild"
   ]
  },
  {
   "cell_type": "code",
   "execution_count": 83,
   "metadata": {},
   "outputs": [],
   "source": [
    "def xBtild2(x, ktild, alpha, beta, spec='Band'):\n",
    "    \"\"\"\n",
    "        Unitless spectral shape (of N_E, i.e. photon spectrum in ph/cm2/s)\n",
    "    \"\"\"\n",
    "\n",
    "    if isinstance(x, np.ndarray):\n",
    "        if spec == 'Band':\n",
    "            x_c = (beta - alpha) / (2.0 - alpha)\n",
    "            xBtild = ktild * x**(1.0-alpha) * np.exp((alpha - 2.0) * x)\n",
    "            w = np.where(x > x_c)[0]\n",
    "            xBtild[w] = ktild * x[w]**(1.0-beta) * np.exp(alpha - beta) * x_c**(beta - alpha)\n",
    "        elif spec == 'BPL':\n",
    "            print('ktild in:',ktild)\n",
    "            ktild = (2.0-alpha) * (beta-2.0) / (beta-alpha)\n",
    "            print('ktild comp:',ktild)\n",
    "            xBtild = ktild * x**(1.-alpha)\n",
    "            w = np.where(x > 1.0)[0]\n",
    "            xBtild[w] = ktild * x[w]**(1.-beta)\n",
    "            \n",
    "        else:\n",
    "            raise IOError\n",
    "    \n",
    "    else:\n",
    "        if spec == 'Band':\n",
    "            x_c = (beta - alpha) / (2.0 - alpha)\n",
    "            if(x <= x_c):\n",
    "                xBtild = ktild * x**(1.0-alpha) * np.exp((alpha - 2.0) * x)\n",
    "            elif (x > x_c):\n",
    "                xBtild = ktild * x**(1.0-beta) * np.exp(alpha - beta) * x_c**(beta - alpha)\n",
    "\n",
    "        elif spec == 'BPL':\n",
    "            ktild = (2.0-alpha) * (beta-2.0) / (beta-alpha)\n",
    "            if(x <= 1.0):\n",
    "                xBtild = ktild * x**(1.-alpha)\n",
    "            elif(x > 1.0):\n",
    "                xBtild = ktild * x**(1.-beta)\n",
    "\n",
    "    return xBtild"
   ]
  },
  {
   "cell_type": "code",
   "execution_count": 78,
   "metadata": {},
   "outputs": [
    {
     "name": "stdout",
     "output_type": "stream",
     "text": [
      "208 µs ± 12.2 µs per loop (mean ± std. dev. of 7 runs, 1000 loops each)\n"
     ]
    }
   ],
   "source": [
    "%timeit xBtild(np.logspace(-1,2,100),ktild=1.1476101551496523,alpha=0.6,beta=2.5)"
   ]
  },
  {
   "cell_type": "code",
   "execution_count": 80,
   "metadata": {},
   "outputs": [
    {
     "name": "stdout",
     "output_type": "stream",
     "text": [
      "42.1 µs ± 4.88 µs per loop (mean ± std. dev. of 7 runs, 10000 loops each)\n"
     ]
    }
   ],
   "source": [
    "%timeit xBtild2(np.logspace(-1,2,100),ktild=1.1476101551496523,alpha=0.6,beta=2.5)"
   ]
  },
  {
   "cell_type": "code",
   "execution_count": 84,
   "metadata": {},
   "outputs": [
    {
     "name": "stdout",
     "output_type": "stream",
     "text": [
      "ktild in: 1.1476101551496523\n",
      "ktild comp: 0.3684210526315789\n"
     ]
    }
   ],
   "source": [
    "aa = xBtild2(np.logspace(-1,2,100),ktild=1.1476101551496523,alpha=0.6,beta=2.5, spec='BPL')"
   ]
  },
  {
   "cell_type": "code",
   "execution_count": 85,
   "metadata": {},
   "outputs": [
    {
     "data": {
      "text/plain": [
       "1"
      ]
     },
     "execution_count": 85,
     "metadata": {},
     "output_type": "execute_result"
    }
   ],
   "source": [
    "np.logspace(-1,2,100).ndim"
   ]
  },
  {
   "cell_type": "code",
   "execution_count": 92,
   "metadata": {},
   "outputs": [
    {
     "data": {
      "text/plain": [
       "array([[0., 1., 2.],\n",
       "       [7., 8., 9.]])"
      ]
     },
     "execution_count": 92,
     "metadata": {},
     "output_type": "execute_result"
    }
   ],
   "source": [
    "NGRB = 2\n",
    "x = np.zeros((NGRB,3))\n",
    "x[0] = np.arange(len(x[0]))\n",
    "x[1] = 7+np.arange(len(x[1]))\n",
    "x"
   ]
  },
  {
   "cell_type": "code",
   "execution_count": 94,
   "metadata": {},
   "outputs": [
    {
     "data": {
      "text/plain": [
       "array([1.33333333, 0.83333333])"
      ]
     },
     "execution_count": 94,
     "metadata": {},
     "output_type": "execute_result"
    }
   ],
   "source": [
    "alpha = np.array([0.5,0.8])\n",
    "beta  = np.array([2.5,1.8])\n",
    "ktild = np.array([1.1,0.7])\n",
    "x_c = (beta - alpha) / (2.0 - alpha)\n",
    "x_c"
   ]
  },
  {
   "cell_type": "code",
   "execution_count": 107,
   "metadata": {},
   "outputs": [],
   "source": [
    "import scipy as sp\n",
    "import scipy.integrate as integrate"
   ]
  },
  {
   "cell_type": "code",
   "execution_count": 104,
   "metadata": {},
   "outputs": [],
   "source": [
    "xmin = (1.+2)*50/600\n",
    "xmax = (1.+2)*300/600\n",
    "x = np.logspace(np.log10(xmin), np.log10(xmax), 100)"
   ]
  },
  {
   "cell_type": "code",
   "execution_count": 119,
   "metadata": {},
   "outputs": [
    {
     "name": "stdout",
     "output_type": "stream",
     "text": [
      "-0.00100124363633083\n"
     ]
    }
   ],
   "source": [
    "B = integrate.simps(xBtild2(x, 1.148, 0.6, 2.5), x, axis=0)\n",
    "B2 = integrate.cumtrapz(xBtild2(x, 1.148, 0.6, 2.5), x, axis=0)\n",
    "B3 = integrate.trapz(xBtild2(x, 1.148, 0.6, 2.5), x, axis=0)\n",
    "print((B-B3)/B3 * 100)"
   ]
  },
  {
   "cell_type": "code",
   "execution_count": 109,
   "metadata": {},
   "outputs": [
    {
     "name": "stdout",
     "output_type": "stream",
     "text": [
      "73.9 µs ± 2.66 µs per loop (mean ± std. dev. of 7 runs, 10000 loops each)\n"
     ]
    }
   ],
   "source": [
    "%timeit B = integrate.simps(xBtild2(x, 1.148, 0.6, 2.5), x, axis=0)"
   ]
  },
  {
   "cell_type": "code",
   "execution_count": 111,
   "metadata": {},
   "outputs": [
    {
     "name": "stdout",
     "output_type": "stream",
     "text": [
      "25.2 µs ± 1.25 µs per loop (mean ± std. dev. of 7 runs, 10000 loops each)\n"
     ]
    }
   ],
   "source": [
    "%timeit B = integrate.cumtrapz(xBtild2(x, 1.148, 0.6, 2.5), x, axis=0)"
   ]
  },
  {
   "cell_type": "code",
   "execution_count": 117,
   "metadata": {},
   "outputs": [
    {
     "name": "stdout",
     "output_type": "stream",
     "text": [
      "24.8 µs ± 1.59 µs per loop (mean ± std. dev. of 7 runs, 10000 loops each)\n"
     ]
    }
   ],
   "source": [
    "%timeit B = integrate.trapz(xBtild2(x, 1.148, 0.6, 2.5), x, axis=0)"
   ]
  },
  {
   "cell_type": "code",
   "execution_count": 122,
   "metadata": {},
   "outputs": [],
   "source": [
    "import time\n",
    "import datetime"
   ]
  },
  {
   "cell_type": "code",
   "execution_count": 126,
   "metadata": {},
   "outputs": [
    {
     "data": {
      "text/plain": [
       "'190322'"
      ]
     },
     "execution_count": 126,
     "metadata": {},
     "output_type": "execute_result"
    }
   ],
   "source": [
    "datetime.datetime.now().strftime('%y%m%d')"
   ]
  },
  {
   "cell_type": "code",
   "execution_count": 136,
   "metadata": {},
   "outputs": [],
   "source": [
    "x = np.linspace(0, 100, 101) -1"
   ]
  },
  {
   "cell_type": "code",
   "execution_count": 145,
   "metadata": {},
   "outputs": [
    {
     "name": "stdout",
     "output_type": "stream",
     "text": [
      "10.0 11\n"
     ]
    }
   ],
   "source": []
  },
  {
   "cell_type": "code",
   "execution_count": 142,
   "metadata": {},
   "outputs": [],
   "source": [
    "def where_value(value, array):\n",
    "    \"\"\"\n",
    "        Function that returns the indice of a value in a !!! sorted !!! array.\n",
    "        Essentially a dichotomy (bisection in english).\n",
    "        It returns indice for which :\n",
    "        array[indice] < value <=  array[indice+1]\n",
    "        Returns -1 if value is out of bounds.\n",
    "\n",
    "        Parameters :\n",
    "        ------------\n",
    "        value : [float]\n",
    "            Value to find in the array.\n",
    "\n",
    "        array : [array]\n",
    "            Array in which to look.\n",
    "\n",
    "        Returns :\n",
    "        ---------\n",
    "        indice : [int]\n",
    "            The indice where the value was found in the array.\n",
    "    \"\"\"\n",
    "    imin = 0\n",
    "    imax = len(array)-1\n",
    "    if(value < array[0] or value > array[-1]):\n",
    "        print(\"[Warning] in where_value : value is out of range of the array, indice returned : -1\")\n",
    "        indice = -1\n",
    "    else:\n",
    "        jj = 0\n",
    "        while True:\n",
    "            if (jj > 100000):\n",
    "                print(\"[Error] in where_value : looping over 100000 times, aborting.\")\n",
    "                print(\"[Error] in where_value : imax, imin, j = \", imax, imin, j)\n",
    "                break\n",
    "            j = int((imin + imax)/2)\n",
    "            jj += 1\n",
    "            if(value > array[j]):\n",
    "                imin = j+1\n",
    "            elif(value < array[j-1]):\n",
    "                imax = j\n",
    "            else:\n",
    "                break\n",
    "        indice = j-1\n",
    "\n",
    "    return indice\n"
   ]
  },
  {
   "cell_type": "code",
   "execution_count": 148,
   "metadata": {},
   "outputs": [
    {
     "name": "stdout",
     "output_type": "stream",
     "text": [
      "9.0 10\n",
      "10.0 11\n"
     ]
    }
   ],
   "source": [
    "i2 = where_value(9.4, x)\n",
    "print(x[i2],i2)\n",
    "i = x.searchsorted(9.4)\n",
    "print(x[i],i)"
   ]
  },
  {
   "cell_type": "code",
   "execution_count": 149,
   "metadata": {},
   "outputs": [
    {
     "name": "stdout",
     "output_type": "stream",
     "text": [
      "3.26 µs ± 150 ns per loop (mean ± std. dev. of 7 runs, 100000 loops each)\n"
     ]
    }
   ],
   "source": [
    "%timeit i2 = where_value(9.4, x)"
   ]
  },
  {
   "cell_type": "code",
   "execution_count": 150,
   "metadata": {},
   "outputs": [
    {
     "name": "stdout",
     "output_type": "stream",
     "text": [
      "537 ns ± 7.75 ns per loop (mean ± std. dev. of 7 runs, 1000000 loops each)\n"
     ]
    }
   ],
   "source": [
    "%timeit i = x.searchsorted(9.4)"
   ]
  },
  {
   "cell_type": "code",
   "execution_count": 151,
   "metadata": {},
   "outputs": [],
   "source": [
    "xmin = np.array([3,2,4,1])\n",
    "xmax = np.array([5,6,5,4])"
   ]
  },
  {
   "cell_type": "code",
   "execution_count": 162,
   "metadata": {},
   "outputs": [],
   "source": [
    "x = np.linspace(xmin,xmax, 10, axis=-1)"
   ]
  },
  {
   "cell_type": "code",
   "execution_count": 164,
   "metadata": {},
   "outputs": [
    {
     "data": {
      "text/plain": [
       "array([3.        , 3.22222222, 3.44444444, 3.66666667, 3.88888889,\n",
       "       4.11111111, 4.33333333, 4.55555556, 4.77777778, 5.        ])"
      ]
     },
     "execution_count": 164,
     "metadata": {},
     "output_type": "execute_result"
    }
   ],
   "source": [
    "x[0]"
   ]
  },
  {
   "cell_type": "code",
   "execution_count": 161,
   "metadata": {},
   "outputs": [],
   "source": [
    "np.linspace??"
   ]
  },
  {
   "cell_type": "code",
   "execution_count": null,
   "metadata": {},
   "outputs": [],
   "source": []
  }
 ],
 "metadata": {
  "kernelspec": {
   "display_name": "Python 3",
   "language": "python",
   "name": "python3"
  },
  "language_info": {
   "codemirror_mode": {
    "name": "ipython",
    "version": 3
   },
   "file_extension": ".py",
   "mimetype": "text/x-python",
   "name": "python",
   "nbconvert_exporter": "python",
   "pygments_lexer": "ipython3",
   "version": "3.7.2"
  }
 },
 "nbformat": 4,
 "nbformat_minor": 2
}
