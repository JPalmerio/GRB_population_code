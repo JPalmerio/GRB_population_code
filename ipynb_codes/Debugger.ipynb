{
 "cells": [
  {
   "cell_type": "code",
   "execution_count": 1,
   "metadata": {},
   "outputs": [],
   "source": [
    "import sys\n",
    "src_dir = '/Users/palmerio/Science_projects/GRB_population_model/grbpop/'\n",
    "sys.path.insert(0, src_dir)\n",
    "from GRB_population import GRBPopulation, create_GRB_population_from\n",
    "import physics as ph\n",
    "import numpy as np\n",
    "import io_grb_pop as io\n",
    "import miscellaneous as msc\n",
    "from cosmology import init_cosmology, Lum_dist\n",
    "from ECLAIRs import init_ECLAIRs\n",
    "import plotting_functions as pf\n",
    "import functional_forms as ff\n",
    "import pandas as pd\n",
    "import matplotlib\n",
    "import matplotlib.pyplot as plt\n",
    "import logging\n",
    "import f90_functions as f90f\n",
    "from pathlib import Path\n",
    "\n",
    "log = logging.getLogger(__name__)\n",
    "logging.basicConfig(stream=sys.stdout, level=logging.DEBUG,\n",
    "                    format='%(asctime)s.%(msecs)03d [%(levelname)s] %(message)s',\n",
    "                    datefmt='%H:%M:%S')\n",
    "logging.getLogger('matplotlib').setLevel(logging.WARNING)\n",
    "plt.style.use('presentation')"
   ]
  },
  {
   "cell_type": "code",
   "execution_count": 15,
   "metadata": {},
   "outputs": [
    {
     "name": "stdout",
     "output_type": "stream",
     "text": [
      "10:46:52.185 [DEBUG] Root directory is /Users/palmerio/Science_projects/GRB_population_model\n",
      "10:46:52.186 [DEBUG] Directory paths :\n",
      "    'root'    : /Users/palmerio/Science_projects/GRB_population_model\n",
      "    'obs'     : /Users/palmerio/Science_projects/GRB_population_model/observational_constraints\n",
      "    'init'    : /Users/palmerio/Science_projects/GRB_population_model/init\n",
      "    'output'  : /Users/palmerio/Science_projects/GRB_population_model/model_outputs\n",
      "    'data'    : /Users/palmerio/Science_projects/GRB_population_model/data\n",
      "    'cosmo'   : /Users/palmerio/Science_projects/GRB_population_model/data/cosmology\n",
      "    'ECLAIRs' : /Users/palmerio/Science_projects/GRB_population_model/data/ECLAIRs\n",
      "10:46:52.187 [DEBUG] File paths :\n",
      "    'config'          : /Users/palmerio/Science_projects/GRB_population_model/init/config.yml\n",
      "    'param'           : /Users/palmerio/Science_projects/GRB_population_model/init/parameters.yml\n",
      "    'instrum'         : /Users/palmerio/Science_projects/GRB_population_model/init/instruments.yml\n",
      "    'sample'          : /Users/palmerio/Science_projects/GRB_population_model/init/samples.yml\n",
      "    'obs_constraints' : /Users/palmerio/Science_projects/GRB_population_model/init/obs_constraints.yml\n"
     ]
    }
   ],
   "source": [
    "paths_to_dir, paths_to_files = io.generate_paths()"
   ]
  },
  {
   "cell_type": "code",
   "execution_count": 32,
   "metadata": {},
   "outputs": [
    {
     "name": "stdout",
     "output_type": "stream",
     "text": [
      "10:49:55.989 [DEBUG] Input configuration:\n",
      "Nb_GRBs: 1e5\n",
      "constraints:\n",
      "- Stern\n",
      "- EpGBM\n",
      "- eBAT6\n",
      "output_dir: debugger\n",
      "samples:\n",
      "- Stern\n",
      "- EpGBM\n",
      "- eBAT6\n",
      "- Swift\n",
      "- ECLAIRs\n",
      "- SHOALS\n",
      "- GBM_sample\n",
      "- BATSE_5B_sample\n",
      "\n",
      "10:49:55.992 [DEBUG] Input parameters:\n",
      "Cvar_distribution:\n",
      "    correl_slope: -0.413\n",
      "    mu: 0.04\n",
      "    sigma: 0.22\n",
      "luminosity_function:\n",
      "    k_evol: 1.0\n",
      "    logLbreak: 52.56\n",
      "    logLmax: 53.0\n",
      "    logLmin: 49.6989700043\n",
      "    model: ES\n",
      "    slope: 1.41\n",
      "peak_energy_distribution:\n",
      "    Ep0: 690\n",
      "    alpha_amati: 0.3\n",
      "    model: LN\n",
      "    sigmaEp: 0.45\n",
      "redshift_distribution:\n",
      "    a: 0.94\n",
      "    b: -0.52\n",
      "    model: BExp\n",
      "    zeta: null\n",
      "    zm: 2.18\n",
      "    zmax: 20\n",
      "spectral_shape:\n",
      "    alpha: 0.6\n",
      "    beta: 2.5\n",
      "    model: GBM\n",
      "    shape: Band\n",
      "t90obs_distribution:\n",
      "    mu: 1.45\n",
      "    sigma: 0.47\n",
      "\n"
     ]
    }
   ],
   "source": [
    "config, params, instruments, samples, obs_constraints = io.read_init_files(paths_to_files)\n",
    "config['Nb_GRBs'] = '1e5'\n",
    "config['samples'] = ['Stern']\n",
    "config['constraints'] = ['Stern']\n",
    "config['output_dir'] = 'debugger'\n",
    "# paths_to_dir['output'] = paths_to_dir['output']/config['output_dir']\n",
    "paths_to_dir['output']=Path('/Users/palmerio/Science_projects/GRB_population_model/model_outputs/debugger/')"
   ]
  },
  {
   "cell_type": "code",
   "execution_count": 33,
   "metadata": {
    "scrolled": true
   },
   "outputs": [
    {
     "name": "stdout",
     "output_type": "stream",
     "text": [
      "10:49:56.154 [DEBUG] Read cosmology from directory /Users/palmerio/Science_projects/GRB_population_model/data/cosmology: [0.3, 0.7, 0.7]\n",
      "10:49:56.155 [DEBUG] ==============================================\n",
      "10:49:56.155 [DEBUG] ===           ECLAIRs instrument           ===\n",
      "10:49:56.156 [DEBUG] ==============================================\n",
      "10:49:56.157 [DEBUG] ECLAIRs energy channel: 4.0 to 150.0 keV\n",
      "10:49:56.158 [DEBUG] ECLAIRs detection level: 6.5 sigmas\n",
      "10:49:56.186 [DEBUG] Effective area: from 1.013650e+02 cm2 at 4.00 keV\n",
      "10:49:56.187 [DEBUG] Effective area: to   1.811580e+02 cm2 at 250.00 keV\n",
      "10:49:56.187 [DEBUG] Background: from 2.819620e+02 cts/s/keV at 4.00 keV\n",
      "10:49:56.188 [DEBUG] Background: to   8.730200e-02 cts/s/keV at 250.00 keV\n",
      "10:49:56.189 [DEBUG] ECLAIRs background: 3.098396e+03 cts/s from 4.00 keV to 150.00 keV\n",
      "10:49:56.189 [DEBUG] ==============================================\n",
      "10:49:56.190 [INFO] Including samples: ['Stern']\n",
      "10:49:56.192 [DEBUG] Including samples:\n",
      "Stern:\n",
      "    instrument: BATSE\n",
      "    pflx_min: 0.066825\n",
      "\n",
      "10:49:56.192 [INFO] Including instruments: ['BATSE']\n",
      "10:49:56.193 [DEBUG] Including instruments:\n",
      "BATSE:\n",
      "    Emax: 300.0\n",
      "    Emin: 50.0\n",
      "\n",
      "10:49:56.194 [INFO] Including constraints: ['Stern']\n",
      "10:49:56.196 [DEBUG] Including constraints:\n",
      "Stern:\n",
      "    instrument: BATSE\n",
      "    last_bin: 50.0\n",
      "    prop_min: pht_pflx_BATSE\n",
      "    quantity: pht_pflx_BATSE\n",
      "    sum_ln_oi_factorial: 36306.10949982049\n",
      "    val_min: 0.066825\n",
      "\n"
     ]
    }
   ],
   "source": [
    "cosmo = init_cosmology(paths_to_dir['cosmo'])\n",
    "ECLAIRs_prop = init_ECLAIRs(ECLAIRs_dir=paths_to_dir['ECLAIRs'],\n",
    "                            ECLAIRs_config=instruments['ECLAIRs'])\n",
    "samples['ECLAIRs']['pflx_min'] = ECLAIRs_prop['bkg_total']\n",
    "\n",
    "incl_samples, incl_instruments, incl_constraints = io.create_config(config=config,\n",
    "                                                       samples=samples,\n",
    "                                                       instruments=instruments,\n",
    "                                                       obs_constraints=obs_constraints)"
   ]
  },
  {
   "cell_type": "code",
   "execution_count": null,
   "metadata": {},
   "outputs": [],
   "source": []
  },
  {
   "cell_type": "code",
   "execution_count": 37,
   "metadata": {
    "scrolled": true
   },
   "outputs": [
    {
     "name": "stdout",
     "output_type": "stream",
     "text": [
      "10:51:10.214 [INFO] Starting calculations of peak photon fluxes...\n",
      "10:51:10.214 [DEBUG] For BATSE instrument [50, 300 keV]:\n",
      "10:51:11.059 [DEBUG] Done in 0.843 s\n",
      "10:51:11.086 [INFO] Starting calculations of peak photon fluxes...\n",
      "10:51:11.087 [INFO] Starting calculations of peak energy fluxes...\n",
      "10:51:11.087 [DEBUG] For BATSE instrument [50.0, 300.0 keV]:\n",
      "10:51:11.919 [DEBUG] Done in 0.832 s\n",
      "10:51:11.920 [DEBUG] Starting calculations of photon fluences...\n",
      "10:51:11.923 [DEBUG] Done in 0.002 s\n",
      "10:51:11.924 [DEBUG] Starting calculations of energy fluences...\n",
      "10:51:11.927 [DEBUG] Done in 0.002 s\n",
      "10:51:11.928 [INFO] Starting calculations of detection probability...\n",
      "10:51:11.929 [DEBUG] Stern sample:\n",
      "10:51:11.932 [DEBUG] Done in 0.002 s\n",
      "\n",
      "================================================================================\n",
      "|                                   SUMMARY                                    |\n",
      "================================================================================\n",
      "|                              Nb_GRBs = 1.00e+05                              |\n",
      "|                     Output directory = debugger                              |\n",
      "================================================================================\n",
      "|                                  Parameters                                  |\n",
      "================================================================================\n",
      "|                                  cosmology                                   |\n",
      "--------------------------------------------------------------------------------\n",
      "|                               OmegaM = 0.3                                   |\n",
      "|                               OmegaL = 0.7                                   |\n",
      "|                                    h = 0.7                                   |\n",
      "--------------------------------------------------------------------------------\n",
      "|                            redshift_distribution                             |\n",
      "--------------------------------------------------------------------------------\n",
      "|                                model = BExp                                  |\n",
      "|                                   zm = 2.18                                  |\n",
      "|                                    a = 0.94                                  |\n",
      "|                                    b = -0.52                                 |\n",
      "|                                 zeta = None                                  |\n",
      "--------------------------------------------------------------------------------\n",
      "|                             luminosity_function                              |\n",
      "--------------------------------------------------------------------------------\n",
      "|                                model = ES                                    |\n",
      "|                              logLmin = 49.6989700043                         |\n",
      "|                              logLmax = 53.0                                  |\n",
      "|                            logLbreak = 52.56                                 |\n",
      "|                                slope = 1.41                                  |\n",
      "|                               k_evol = 1.0                                   |\n",
      "--------------------------------------------------------------------------------\n",
      "|                           peak_energy_distribution                           |\n",
      "--------------------------------------------------------------------------------\n",
      "|                                model = LN                                    |\n",
      "|                                  Ep0 = 690                                   |\n",
      "|                              sigmaEp = 0.45                                  |\n",
      "|                          alpha_amati = 0.3                                   |\n",
      "--------------------------------------------------------------------------------\n",
      "|                                spectral_shape                                |\n",
      "--------------------------------------------------------------------------------\n",
      "|                                model = D06                                   |\n",
      "|                                shape = Band                                  |\n",
      "|                                alpha = 0.6                                   |\n",
      "|                                 beta = 2.5                                   |\n",
      "--------------------------------------------------------------------------------\n",
      "|                             t90obs_distribution                              |\n",
      "--------------------------------------------------------------------------------\n",
      "|                                   mu = 1.45                                  |\n",
      "|                                sigma = 0.47                                  |\n",
      "--------------------------------------------------------------------------------\n",
      "|                              Cvar_distribution                               |\n",
      "--------------------------------------------------------------------------------\n",
      "|                                   mu = 0.04                                  |\n",
      "|                                sigma = 0.22                                  |\n",
      "|                         correl_slope = -0.413                                |\n",
      "--------------------------------------------------------------------------------\n",
      "================================================================================\n",
      "|                                  Properties                                  |\n",
      "================================================================================\n",
      " prop          |     median    |     stdev     |      min      |      max      \n",
      "--------------------------------------------------------------------------------\n",
      " z             |   2.3600e+00  |   1.3936e+00  |   3.8000e-02  |   1.5963e+01   \n",
      " D_L           |   1.9291e+04  |   1.4717e+04  |   1.6526e+02  |   1.8011e+05   \n",
      " L             |   7.5896e+50  |   2.1976e+52  |   5.7374e+49  |   7.7427e+53   \n",
      " Ep            |   6.8247e+02  |   1.6585e+03  |   3.9910e+00  |   5.8990e+04   \n",
      " alpha         |   9.9748e-01  |   3.5281e-01  |  -4.2856e-01  |   1.9991e+00   \n",
      " beta          |   2.5611e+00  |   3.5192e-01  |   2.0019e+00  |   3.5962e+00   \n",
      " ktild         |   6.5607e-01  |   4.5361e-01  |   8.7999e-04  |   5.4876e+00   \n",
      " Epobs         |   2.0121e+02  |   5.6742e+02  |   5.3142e-01  |   3.3304e+04   \n",
      " pht_pflx_BATSE|   2.8365e-02  |   1.0097e+01  |   4.2529e-05  |   2.8396e+03   \n",
      " t90           |   1.0561e+01  |   2.8622e+01  |   1.0606e-01  |   2.0554e+03   \n",
      " t90obs        |   3.5904e+01  |   1.1384e+02  |   3.2244e-01  |   5.4412e+03   \n",
      " Cvar          |   2.4936e-01  |   2.1306e-01  |   1.1325e-02  |   1.0000e+00   \n",
      " Eiso          |   2.1993e+51  |   1.1277e+53  |   1.7374e+49  |   9.0139e+54   \n",
      " erg_pflx_BATSE|   5.2147e-09  |   2.0787e-06  |   7.9099e-12  |   5.8298e-04   \n",
      " pht_flnc_BATSE|   2.6580e-01  |   4.9303e+01  |   2.9703e-04  |   9.4395e+03   \n",
      " erg_flnc_BATSE|   4.8937e-08  |   1.0431e-05  |   5.9066e-11  |   2.2904e-03   \n",
      " pdet_Stern    |   0.0000e+00  |   4.7171e-01  |   0.0000e+00  |   1.0000e+00   \n",
      "================================================================================\n",
      "|                                  Likelihood                                  |\n",
      "================================================================================\n",
      "|                           chi2_Stern = 24.464                                |\n",
      "|                             chi2_tot = 24.464                                |\n",
      "|                            lnL_Stern = -12.232                               |\n",
      "|                              lnL_tot = -12.232                               |\n",
      "================================================================================\n",
      "|                                Normalization                                 |\n",
      "================================================================================\n",
      "|                               R_intr = 3.328e+03                             |\n",
      "|                           R_intr_err = 1.199e+02                             |\n",
      "|                                T_sim = 3.005e+01                             |\n",
      "|                            T_sim_err = 1.083e+00                             |\n",
      "|                                nGRB0 = 1.211e-09                             |\n",
      "|                            nGRB0_err = 4.364e-11                             |\n",
      "|                 pseudo_collapse_rate = 2.748e+12                             |\n",
      "================================================================================\n",
      "\n"
     ]
    }
   ],
   "source": [
    "# params['luminosity_function']['model'] = 'Fixed'\n",
    "# params['luminosity_function']['logL0'] = 52.\n",
    "# params['redshift_distribution']['model'] = 'Fixed'\n",
    "# params['redshift_distribution']['z0'] = 2.\n",
    "# params['peak_energy_distribution']['model'] = 'Fixed'\n",
    "# params['peak_energy_distribution']['Ep0'] = 500.\n",
    "params['spectral_shape']['model'] = 'D06'\n",
    "params['spectral_shape']['shape'] = 'Band'\n",
    "np.random.seed(12)\n",
    "gp = create_GRB_population_from(Nb_GRBs=config['Nb_GRBs'],\n",
    "                                cosmo=cosmo,\n",
    "                                params=params,\n",
    "                                incl_samples=incl_samples,\n",
    "                                incl_instruments=incl_instruments,\n",
    "                                incl_constraints=incl_constraints,\n",
    "                                ECLAIRs_prop=ECLAIRs_prop,\n",
    "                                output_dir=paths_to_dir['output'])\n"
   ]
  },
  {
   "cell_type": "code",
   "execution_count": 38,
   "metadata": {},
   "outputs": [
    {
     "name": "stdout",
     "output_type": "stream",
     "text": [
      "10:51:13.143 [INFO] Starting calculations of peak photon fluxes...\n",
      "10:51:13.144 [DEBUG] For BATSE instrument [50, 300 keV]:\n",
      "10:51:13.850 [DEBUG] Done in 0.706 s\n",
      "10:51:13.877 [INFO] Starting calculations of peak photon fluxes...\n",
      "10:51:13.878 [INFO] Starting calculations of peak energy fluxes...\n",
      "10:51:13.878 [DEBUG] For BATSE instrument [50.0, 300.0 keV]:\n",
      "10:51:14.586 [DEBUG] Done in 0.708 s\n",
      "10:51:14.587 [DEBUG] Starting calculations of photon fluences...\n",
      "10:51:14.589 [DEBUG] Done in 0.001 s\n",
      "10:51:14.590 [DEBUG] Starting calculations of energy fluences...\n",
      "10:51:14.592 [DEBUG] Done in 0.001 s\n",
      "10:51:14.593 [INFO] Starting calculations of detection probability...\n",
      "10:51:14.594 [DEBUG] Stern sample:\n",
      "10:51:14.596 [DEBUG] Done in 0.002 s\n",
      "\n",
      "================================================================================\n",
      "|                                   SUMMARY                                    |\n",
      "================================================================================\n",
      "|                              Nb_GRBs = 1.00e+05                              |\n",
      "|                     Output directory = debugger                              |\n",
      "================================================================================\n",
      "|                                  Parameters                                  |\n",
      "================================================================================\n",
      "|                                  cosmology                                   |\n",
      "--------------------------------------------------------------------------------\n",
      "|                               OmegaM = 0.3                                   |\n",
      "|                               OmegaL = 0.7                                   |\n",
      "|                                    h = 0.7                                   |\n",
      "--------------------------------------------------------------------------------\n",
      "|                            redshift_distribution                             |\n",
      "--------------------------------------------------------------------------------\n",
      "|                                model = BExp                                  |\n",
      "|                                   zm = 2.18                                  |\n",
      "|                                    a = 0.94                                  |\n",
      "|                                    b = -0.52                                 |\n",
      "|                                 zeta = None                                  |\n",
      "--------------------------------------------------------------------------------\n",
      "|                             luminosity_function                              |\n",
      "--------------------------------------------------------------------------------\n",
      "|                                model = ES                                    |\n",
      "|                              logLmin = 49.6989700043                         |\n",
      "|                              logLmax = 53.0                                  |\n",
      "|                            logLbreak = 52.56                                 |\n",
      "|                                slope = 1.41                                  |\n",
      "|                               k_evol = 1.0                                   |\n",
      "--------------------------------------------------------------------------------\n",
      "|                           peak_energy_distribution                           |\n",
      "--------------------------------------------------------------------------------\n",
      "|                                model = LN                                    |\n",
      "|                                  Ep0 = 690                                   |\n",
      "|                              sigmaEp = 0.45                                  |\n",
      "|                          alpha_amati = 0.3                                   |\n",
      "--------------------------------------------------------------------------------\n",
      "|                                spectral_shape                                |\n",
      "--------------------------------------------------------------------------------\n",
      "|                                model = D06                                   |\n",
      "|                                shape = BPL                                   |\n",
      "|                                alpha = 0.6                                   |\n",
      "|                                 beta = 2.5                                   |\n",
      "--------------------------------------------------------------------------------\n",
      "|                             t90obs_distribution                              |\n",
      "--------------------------------------------------------------------------------\n",
      "|                                   mu = 1.45                                  |\n",
      "|                                sigma = 0.47                                  |\n",
      "--------------------------------------------------------------------------------\n",
      "|                              Cvar_distribution                               |\n",
      "--------------------------------------------------------------------------------\n",
      "|                                   mu = 0.04                                  |\n",
      "|                                sigma = 0.22                                  |\n",
      "|                         correl_slope = -0.413                                |\n",
      "--------------------------------------------------------------------------------\n",
      "================================================================================\n",
      "|                                  Properties                                  |\n",
      "================================================================================\n",
      " prop          |     median    |     stdev     |      min      |      max      \n",
      "--------------------------------------------------------------------------------\n",
      " z             |   2.3600e+00  |   1.3936e+00  |   3.8000e-02  |   1.5963e+01   \n",
      " D_L           |   1.9291e+04  |   1.4717e+04  |   1.6526e+02  |   1.8011e+05   \n",
      " L             |   7.5896e+50  |   2.1976e+52  |   5.7374e+49  |   7.7427e+53   \n",
      " Ep            |   6.8247e+02  |   1.6585e+03  |   3.9910e+00  |   5.8990e+04   \n",
      " alpha         |   9.9748e-01  |   3.5281e-01  |  -4.2856e-01  |   1.9991e+00   \n",
      " beta          |   2.5611e+00  |   3.5192e-01  |   2.0019e+00  |   3.5962e+00   \n",
      " ktild         |   3.3350e-01  |   1.4914e-01  |   8.8432e-04  |   8.9824e-01   \n",
      " Epobs         |   2.0121e+02  |   5.6742e+02  |   5.3142e-01  |   3.3304e+04   \n",
      " pht_pflx_BATSE|   2.4940e-02  |   6.4506e+00  |   1.1261e-05  |   1.6735e+03   \n",
      " t90           |   1.0428e+01  |   2.8263e+01  |   1.0472e-01  |   2.0296e+03   \n",
      " t90obs        |   3.5454e+01  |   1.1241e+02  |   3.1840e-01  |   5.3729e+03   \n",
      " Cvar          |   2.5066e-01  |   2.1380e-01  |   1.1384e-02  |   1.0000e+00   \n",
      " Eiso          |   2.1828e+51  |   1.1193e+53  |   1.7245e+49  |   8.9473e+54   \n",
      " erg_pflx_BATSE|   4.8096e-09  |   1.3376e-06  |   1.5752e-12  |   3.5320e-04   \n",
      " pht_flnc_BATSE|   2.3055e-01  |   3.5834e+01  |   1.1011e-04  |   4.0714e+03   \n",
      " erg_flnc_BATSE|   4.4462e-08  |   7.1667e-06  |   2.5755e-11  |   9.7329e-04   \n",
      " pdet_Stern    |   0.0000e+00  |   4.6347e-01  |   0.0000e+00  |   1.0000e+00   \n",
      "================================================================================\n",
      "|                                  Likelihood                                  |\n",
      "================================================================================\n",
      "|                           chi2_Stern = 24.828                                |\n",
      "|                             chi2_tot = 24.828                                |\n",
      "|                            lnL_Stern = -12.414                               |\n",
      "|                              lnL_tot = -12.414                               |\n",
      "================================================================================\n",
      "|                                Normalization                                 |\n",
      "================================================================================\n",
      "|                               R_intr = 3.566e+03                             |\n",
      "|                           R_intr_err = 1.285e+02                             |\n",
      "|                                T_sim = 2.804e+01                             |\n",
      "|                            T_sim_err = 1.010e+00                             |\n",
      "|                                nGRB0 = 1.298e-09                             |\n",
      "|                            nGRB0_err = 4.677e-11                             |\n",
      "|                 pseudo_collapse_rate = 2.748e+12                             |\n",
      "================================================================================\n",
      "\n"
     ]
    }
   ],
   "source": [
    "params['spectral_shape']['shape'] = 'BPL'\n",
    "np.random.seed(12)\n",
    "gp2 = create_GRB_population_from(Nb_GRBs=config['Nb_GRBs'],\n",
    "                                cosmo=cosmo,\n",
    "                                params=params,\n",
    "                                incl_samples=incl_samples,\n",
    "                                incl_instruments=incl_instruments,\n",
    "                                incl_constraints=incl_constraints,\n",
    "                                ECLAIRs_prop=ECLAIRs_prop,\n",
    "                                output_dir=paths_to_dir['output'])"
   ]
  },
  {
   "cell_type": "code",
   "execution_count": 2,
   "metadata": {},
   "outputs": [
    {
     "data": {
      "text/plain": [
       "[<matplotlib.lines.Line2D at 0x7fd188708908>]"
      ]
     },
     "execution_count": 2,
     "metadata": {},
     "output_type": "execute_result"
    },
    {
     "data": {
      "image/png": "[encoded data removed]",
      "text/plain": [
       "<Figure size 432x288 with 1 Axes>"
      ]
     },
     "metadata": {
      "needs_background": "light"
     },
     "output_type": "display_data"
    }
   ],
   "source": [
    "z = np.linspace(0,10)\n",
    "y = ff.S12(z)\n",
    "plt.plot(z,y)"
   ]
  },
  {
   "cell_type": "code",
   "execution_count": 9,
   "metadata": {},
   "outputs": [
    {
     "data": {
      "text/plain": [
       "[<matplotlib.lines.Line2D at 0x7fb7d0583c50>]"
      ]
     },
     "execution_count": 9,
     "metadata": {},
     "output_type": "execute_result"
    },
    {
     "data": {
      "image/png": "[encoded data removed]",
      "text/plain": [
       "<Figure size 432x288 with 1 Axes>"
      ]
     },
     "metadata": {
      "needs_background": "light"
     },
     "output_type": "display_data"
    }
   ],
   "source": [
    "import scipy as sp\n",
    "z = np.arange(0.1,10, 0.5)\n",
    "Zth=0.15*0.015\n",
    "Zsun=0.015\n",
    "norm = sp.special.gammainc(0.84, (Zth/Zsun)**2 * 10**(0.3*z))\n",
    "plt.plot(z,norm)"
   ]
  },
  {
   "cell_type": "code",
   "execution_count": 12,
   "metadata": {},
   "outputs": [
    {
     "data": {
      "text/plain": [
       "<matplotlib.lines.Line2D at 0x7fd1996342e8>"
      ]
     },
     "execution_count": 12,
     "metadata": {},
     "output_type": "execute_result"
    },
    {
     "data": {
      "image/png": "[encoded data removed]",
      "text/plain": [
       "<Figure size 864x720 with 4 Axes>"
      ]
     },
     "metadata": {
      "needs_background": "light"
     },
     "output_type": "display_data"
    }
   ],
   "source": [
    "fig, axarr = plt.subplots(2,2, figsize=(12,10), tight_layout=True)\n",
    "axes = axarr.flatten()\n",
    "axes[2].axvline(2)"
   ]
  },
  {
   "cell_type": "code",
   "execution_count": null,
   "metadata": {},
   "outputs": [],
   "source": []
  },
  {
   "cell_type": "code",
   "execution_count": null,
   "metadata": {},
   "outputs": [],
   "source": []
  },
  {
   "cell_type": "code",
   "execution_count": null,
   "metadata": {},
   "outputs": [],
   "source": []
  },
  {
   "cell_type": "code",
   "execution_count": null,
   "metadata": {},
   "outputs": [],
   "source": []
  },
  {
   "cell_type": "code",
   "execution_count": null,
   "metadata": {},
   "outputs": [],
   "source": []
  },
  {
   "cell_type": "code",
   "execution_count": null,
   "metadata": {},
   "outputs": [],
   "source": []
  },
  {
   "cell_type": "code",
   "execution_count": null,
   "metadata": {},
   "outputs": [],
   "source": []
  },
  {
   "cell_type": "code",
   "execution_count": null,
   "metadata": {
    "scrolled": false
   },
   "outputs": [],
   "source": []
  },
  {
   "cell_type": "code",
   "execution_count": null,
   "metadata": {},
   "outputs": [],
   "source": []
  },
  {
   "cell_type": "code",
   "execution_count": null,
   "metadata": {},
   "outputs": [],
   "source": []
  },
  {
   "cell_type": "code",
   "execution_count": null,
   "metadata": {},
   "outputs": [],
   "source": []
  },
  {
   "cell_type": "code",
   "execution_count": null,
   "metadata": {},
   "outputs": [],
   "source": []
  },
  {
   "cell_type": "code",
   "execution_count": null,
   "metadata": {},
   "outputs": [],
   "source": []
  },
  {
   "cell_type": "code",
   "execution_count": null,
   "metadata": {
    "scrolled": false
   },
   "outputs": [],
   "source": []
  },
  {
   "cell_type": "code",
   "execution_count": null,
   "metadata": {},
   "outputs": [],
   "source": []
  },
  {
   "cell_type": "code",
   "execution_count": null,
   "metadata": {},
   "outputs": [],
   "source": []
  },
  {
   "cell_type": "code",
   "execution_count": null,
   "metadata": {},
   "outputs": [],
   "source": []
  },
  {
   "cell_type": "code",
   "execution_count": null,
   "metadata": {},
   "outputs": [],
   "source": []
  },
  {
   "cell_type": "code",
   "execution_count": null,
   "metadata": {},
   "outputs": [],
   "source": []
  },
  {
   "cell_type": "code",
   "execution_count": null,
   "metadata": {},
   "outputs": [],
   "source": []
  },
  {
   "cell_type": "code",
   "execution_count": null,
   "metadata": {},
   "outputs": [],
   "source": []
  },
  {
   "cell_type": "code",
   "execution_count": null,
   "metadata": {},
   "outputs": [],
   "source": []
  },
  {
   "cell_type": "code",
   "execution_count": null,
   "metadata": {},
   "outputs": [],
   "source": []
  },
  {
   "cell_type": "code",
   "execution_count": null,
   "metadata": {},
   "outputs": [],
   "source": []
  },
  {
   "cell_type": "code",
   "execution_count": null,
   "metadata": {},
   "outputs": [],
   "source": []
  },
  {
   "cell_type": "code",
   "execution_count": null,
   "metadata": {},
   "outputs": [],
   "source": []
  },
  {
   "cell_type": "code",
   "execution_count": null,
   "metadata": {},
   "outputs": [],
   "source": []
  },
  {
   "cell_type": "code",
   "execution_count": null,
   "metadata": {},
   "outputs": [],
   "source": []
  },
  {
   "cell_type": "code",
   "execution_count": null,
   "metadata": {},
   "outputs": [],
   "source": []
  },
  {
   "cell_type": "code",
   "execution_count": null,
   "metadata": {},
   "outputs": [],
   "source": []
  },
  {
   "cell_type": "code",
   "execution_count": null,
   "metadata": {},
   "outputs": [],
   "source": []
  },
  {
   "cell_type": "code",
   "execution_count": null,
   "metadata": {},
   "outputs": [],
   "source": []
  },
  {
   "cell_type": "code",
   "execution_count": null,
   "metadata": {},
   "outputs": [],
   "source": []
  }
 ],
 "metadata": {
  "kernelspec": {
   "display_name": "Python 3",
   "language": "python",
   "name": "python3"
  },
  "language_info": {
   "codemirror_mode": {
    "name": "ipython",
    "version": 3
   },
   "file_extension": ".py",
   "mimetype": "text/x-python",
   "name": "python",
   "nbconvert_exporter": "python",
   "pygments_lexer": "ipython3",
   "version": "3.7.2"
  }
 },
 "nbformat": 4,
 "nbformat_minor": 2
}
