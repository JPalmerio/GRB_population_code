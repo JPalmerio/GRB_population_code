{
 "cells": [
  {
   "cell_type": "code",
   "execution_count": 1,
   "metadata": {},
   "outputs": [],
   "source": [
    "import sys\n",
    "src_dir = '/Users/palmerio/Science_projects/GRB_population_model/src/'\n",
    "sys.path.insert(0, src_dir)\n",
    "verbose = True\n",
    "run_mode = 'debug'\n",
    "import prototype_GRB_population as pt\n",
    "from GRB_population import GRBPopulation\n",
    "import physics as ph\n",
    "import numpy as np\n",
    "import io_grb_pop as io\n",
    "import miscellaneous as msc\n",
    "from cosmology import init_cosmology\n",
    "from ECLAIRs import init_ECLAIRs\n",
    "import observational_constraints as obs"
   ]
  },
  {
   "cell_type": "code",
   "execution_count": 2,
   "metadata": {},
   "outputs": [],
   "source": [
    "import pandas as pd\n",
    "import matplotlib\n",
    "import matplotlib.pyplot as plt\n",
    "plt.style.use('presentation')\n"
   ]
  },
  {
   "cell_type": "code",
   "execution_count": null,
   "metadata": {},
   "outputs": [],
   "source": [
    "paths_to_dir, paths_to_files = io.generate_paths()"
   ]
  },
  {
   "cell_type": "code",
   "execution_count": null,
   "metadata": {},
   "outputs": [],
   "source": [
    "config, params, instruments, samples = io.read_init_files(paths_to_files)\n",
    "config['Nb_GRBs'] = '2.5e5'\n",
    "config['samples'] = ['Stern', 'EpGBM', 'eBAT6']\n",
    "config['output_dir'] = 'debugger'\n",
    "params['spectral_shape']['model'] = 'GBM_Band_old'\n",
    "paths_to_dir['output'] = paths_to_dir['output']/config['output_dir']\n",
    "config\n",
    "params"
   ]
  },
  {
   "cell_type": "code",
   "execution_count": null,
   "metadata": {},
   "outputs": [],
   "source": [
    "print(paths_to_dir['output'])"
   ]
  },
  {
   "cell_type": "code",
   "execution_count": null,
   "metadata": {},
   "outputs": [],
   "source": [
    "cosmo = init_cosmology(paths_to_dir['cosmo'])\n",
    "ECLAIRs_prop = init_ECLAIRs(ECLAIRs_dir=paths_to_dir['ECLAIRs'],\n",
    "                            ECLAIRs_config=instruments['ECLAIRs'])\n",
    "samples['ECLAIRs']['pflx_min'] = ECLAIRs_prop['bkg_total']\n",
    "\n",
    "Nb_GRBs = int(float(config['Nb_GRBs']))\n",
    "\n",
    "incl_samples = msc.included_samples(config['samples'], samples)\n",
    "incl_instruments = msc.included_instruments(incl_samples, instruments)"
   ]
  },
  {
   "cell_type": "code",
   "execution_count": null,
   "metadata": {},
   "outputs": [],
   "source": [
    "# np.random.seed(1)\n",
    "GRB_population = GRBPopulation(Nb_GRBs, output_dir=paths_to_dir['output'])\n",
    "GRB_prop = GRB_population.draw_GRB_properties(cosmo=cosmo, params=params, run_mode='debug')\n",
    "\n",
    "ph.calc_peak_photon_flux(GRB_prop, incl_instruments, ECLAIRs_prop)\n",
    "# ph.calc_peak_energy_flux(GRB_prop, incl_instruments, ECLAIRs_prop)\n",
    "# ph.calc_photon_fluence(GRB_prop, incl_instruments)\n",
    "# ph.calc_energy_fluence(GRB_prop, incl_instruments)\n",
    "ph.calc_det_prob(GRB_prop, incl_samples, **ECLAIRs_prop)"
   ]
  },
  {
   "cell_type": "code",
   "execution_count": null,
   "metadata": {},
   "outputs": [],
   "source": [
    "df = pd.DataFrame(GRB_prop)\n",
    "df"
   ]
  },
  {
   "cell_type": "code",
   "execution_count": null,
   "metadata": {},
   "outputs": [],
   "source": [
    "norm_Stern, mod_Stern = obs.compare_to_Stern(df[df['pdet_Stern']==1]['pht_pflx_BATSE'],\n",
    "                         Stern_file=paths_to_dir['obs']/'Stern_lognlogp_rebinned.txt',\n",
    "                         Nb_GRBs=Nb_GRBs, show_plot=True)"
   ]
  },
  {
   "cell_type": "code",
   "execution_count": null,
   "metadata": {},
   "outputs": [],
   "source": [
    "obs.compare_to_EpGBM(df[df['pdet_EpGBM']==1]['Epobs'],\n",
    "                         GBM_file=paths_to_dir['obs']/'Ep_GBM_for_plotting.txt',\n",
    "                        show_plot=True)\n"
   ]
  },
  {
   "cell_type": "code",
   "execution_count": null,
   "metadata": {},
   "outputs": [],
   "source": [
    "obs.compare_to_eBAT6(df[df['pdet_eBAT6']==1]['z'],\n",
    "                     eBAT6_file=paths_to_dir['obs']/'eBAT6_constraint_for_plotting.txt',\n",
    "                     show_plot=True)\n"
   ]
  },
  {
   "cell_type": "code",
   "execution_count": null,
   "metadata": {},
   "outputs": [],
   "source": [
    "f90_dir = paths_to_dir['output'].parent/'191205_best_k1_LN_nF'\n"
   ]
  },
  {
   "cell_type": "code",
   "execution_count": null,
   "metadata": {},
   "outputs": [],
   "source": [
    "dt = 'i4,i4,12f8,11f8,i4'\n",
    "# i, L, z, D_L, Epobs, alpha, beta, ktild, Peakflux_Instrument, Prob_det\n",
    "with open(f90_dir/'GRB_properties 0.dat', 'rb') as f:\n",
    "    data = np.fromfile(f, dtype=dt, count=-1)\n",
    "df_f90 = np.zeros((len(data),12))\n",
    "for i,dat in enumerate(data):\n",
    "    df_f90[i] = dat[2]\n",
    "\n",
    "df_f90 = pd.DataFrame(df_f90, columns=['L', 'z', 'D_L', 'Epobs', 'alpha', 'beta', 'ktild',\n",
    "                                     'pht_pflx_BATSE','pht_pflx_BAT','pht_pflx_FREGATE','pht_pflx_WXM','pht_pflx_ECLAIRs'])\n",
    "# df_f90['L'] = np.log10(df_f90['L'])"
   ]
  },
  {
   "cell_type": "code",
   "execution_count": null,
   "metadata": {},
   "outputs": [],
   "source": [
    "norm_Stern, mod_Stern = obs.compare_to_Stern(df_f90[df_f90['pht_pflx_BATSE']>=0.066825]['pht_pflx_BATSE'],\n",
    "                         Stern_file=paths_to_dir['obs']/'Stern_lognlogp_rebinned.txt',\n",
    "                         Nb_GRBs=Nb_GRBs, show_plot=True)"
   ]
  },
  {
   "cell_type": "code",
   "execution_count": null,
   "metadata": {},
   "outputs": [],
   "source": [
    "df_cols=['L', 'z', 'D_L', 'Epobs', 'alpha', 'beta', 'ktild', 'pht_pflx_BATSE','pht_pflx_BAT']\n",
    "for col in df_cols:\n",
    "    plt.figure()\n",
    "    plt.title(col.replace('_',' '))\n",
    "    if col in ['L', 'D_L', 'Epobs', 'pht_pflx_BATSE','pht_pflx_BAT']:\n",
    "        binz = np.linspace(np.min([np.log10(df[col]),np.log10(df_f90[col])]),\n",
    "                           np.max([np.log10(df[col]),np.log10(df_f90[col])]), 100)\n",
    "        plt.hist(np.log10(df[col]), bins=binz, label='Py', density=True, histtype='step', linewidth=2)\n",
    "        plt.hist(np.log10(df_f90[col]), bins=binz, label='F90', density=True, histtype='step', linewidth=2)\n",
    "    else:\n",
    "        binz = np.linspace(np.min([df[col],df_f90[col]]),\n",
    "                           np.max([df[col],df_f90[col]]), 100)\n",
    "        plt.hist(df[col], bins=binz, label='Py', density=True, histtype='step', linewidth=2)\n",
    "        plt.hist(df_f90[col], bins=binz, label='F90', density=True, histtype='step', linewidth=2)\n",
    "    plt.legend()\n",
    "    plt.savefig(paths_to_dir['output']/(col.replace('_',' ')+'.pdf'))\n",
    "#     plt.yscale('log')\n",
    "plt.show()"
   ]
  },
  {
   "cell_type": "code",
   "execution_count": null,
   "metadata": {},
   "outputs": [],
   "source": []
  },
  {
   "cell_type": "code",
   "execution_count": null,
   "metadata": {},
   "outputs": [],
   "source": []
  }
 ],
 "metadata": {
  "kernelspec": {
   "display_name": "Python 3",
   "language": "python",
   "name": "python3"
  },
  "language_info": {
   "codemirror_mode": {
    "name": "ipython",
    "version": 3
   },
   "file_extension": ".py",
   "mimetype": "text/x-python",
   "name": "python",
   "nbconvert_exporter": "python",
   "pygments_lexer": "ipython3",
   "version": "3.7.2"
  }
 },
 "nbformat": 4,
 "nbformat_minor": 2
}
