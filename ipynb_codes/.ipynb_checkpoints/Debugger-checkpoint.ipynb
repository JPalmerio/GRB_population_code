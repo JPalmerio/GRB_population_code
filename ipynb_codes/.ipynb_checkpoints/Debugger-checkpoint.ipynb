{
 "cells": [
  {
   "cell_type": "code",
   "execution_count": 1,
   "metadata": {},
   "outputs": [],
   "source": [
    "import sys\n",
    "src_dir = '/Users/palmerio/Science_projects/GRB_population_model/src/'\n",
    "sys.path.insert(0, src_dir)\n",
    "verbose = True\n",
    "run_mode = 'debug'\n",
    "from GRB_population import GRBPopulation\n",
    "import physics as ph\n",
    "import numpy as np\n",
    "import io_grb_pop as io\n",
    "import miscellaneous as msc\n",
    "from cosmology import init_cosmology\n",
    "from ECLAIRs import init_ECLAIRs\n",
    "import plotting_functions as pf\n",
    "import pandas as pd\n",
    "import matplotlib\n",
    "import matplotlib.pyplot as plt\n",
    "plt.style.use('presentation')"
   ]
  },
  {
   "cell_type": "code",
   "execution_count": 2,
   "metadata": {},
   "outputs": [],
   "source": [
    "paths_to_dir, paths_to_files = io.generate_paths()"
   ]
  },
  {
   "cell_type": "code",
   "execution_count": 3,
   "metadata": {},
   "outputs": [],
   "source": [
    "config, params, instruments, samples, obs_constraints = io.read_init_files(paths_to_files)\n",
    "config['Nb_GRBs'] = '1e5'\n",
    "config['samples'] = ['Stern', 'EpGBM', 'eBAT6', 'SHOALS']\n",
    "config['output_dir'] = 'debugger'\n",
    "paths_to_dir['output'] = paths_to_dir['output']/config['output_dir']"
   ]
  },
  {
   "cell_type": "code",
   "execution_count": 4,
   "metadata": {},
   "outputs": [
    {
     "name": "stdout",
     "output_type": "stream",
     "text": [
      "/Users/palmerio/Science_projects/GRB_population_model/model_outputs/debugger\n"
     ]
    }
   ],
   "source": [
    "print(paths_to_dir['output'])"
   ]
  },
  {
   "cell_type": "code",
   "execution_count": 7,
   "metadata": {},
   "outputs": [],
   "source": [
    "cosmo = init_cosmology(paths_to_dir['cosmo'])\n",
    "ECLAIRs_prop = init_ECLAIRs(ECLAIRs_dir=paths_to_dir['ECLAIRs'],\n",
    "                            ECLAIRs_config=instruments['ECLAIRs'])\n",
    "samples['ECLAIRs']['pflx_min'] = ECLAIRs_prop['bkg_total']\n",
    "\n",
    "Nb_GRBs = int(1e5)\n",
    "\n",
    "incl_samples, incl_instruments, incl_constraints = io.create_config(config=config,\n",
    "                                                       samples=samples,\n",
    "                                                       instruments=instruments,\n",
    "                                                       obs_constraints=obs_constraints)"
   ]
  },
  {
   "cell_type": "code",
   "execution_count": 8,
   "metadata": {
    "scrolled": true
   },
   "outputs": [
    {
     "name": "stderr",
     "output_type": "stream",
     "text": [
      "Could not calculate T_sim_from_chi2 since no normalization was found for Stern\n"
     ]
    },
    {
     "name": "stdout",
     "output_type": "stream",
     "text": [
      "\n",
      "================================================================================\n",
      "|                                   SUMMARY                                    |\n",
      "================================================================================\n",
      "|                              Nb_GRBs = 1.00e+05                              |\n",
      "|                     Output directory = debugger                              |\n",
      "================================================================================\n",
      "|                                  Parameters                                  |\n",
      "================================================================================\n",
      "|                            redshift_distribution                             |\n",
      "--------------------------------------------------------------------------------\n",
      "|                                model = BExp                                  |\n",
      "|                                   zm = 2.18                                  |\n",
      "|                                    a = 0.94                                  |\n",
      "|                                    b = -0.52                                 |\n",
      "|                                 zeta = None                                  |\n",
      "--------------------------------------------------------------------------------\n",
      "|                             luminosity_function                              |\n",
      "--------------------------------------------------------------------------------\n",
      "|                                model = ES                                    |\n",
      "|                              logLmin = 49.6989700043                         |\n",
      "|                              logLmax = 53.0                                  |\n",
      "|                            logLbreak = 52.56                                 |\n",
      "|                                slope = 1.41                                  |\n",
      "|                               k_evol = 1.0                                   |\n",
      "--------------------------------------------------------------------------------\n",
      "|                           peak_energy_distribution                           |\n",
      "--------------------------------------------------------------------------------\n",
      "|                                model = LN                                    |\n",
      "|                                  Ep0 = 690                                   |\n",
      "|                              sigmaEp = 0.45                                  |\n",
      "|                          alpha_amati = 0.3                                   |\n",
      "--------------------------------------------------------------------------------\n",
      "|                                spectral_shape                                |\n",
      "--------------------------------------------------------------------------------\n",
      "|                                model = GBM_Band                              |\n",
      "|                                alpha = 0.6                                   |\n",
      "|                                 beta = 2.5                                   |\n",
      "--------------------------------------------------------------------------------\n",
      "|                             t90obs_distribution                              |\n",
      "--------------------------------------------------------------------------------\n",
      "|                                   mu = 1.45                                  |\n",
      "|                                sigma = 0.47                                  |\n",
      "--------------------------------------------------------------------------------\n",
      "|                              Cvar_distribution                               |\n",
      "--------------------------------------------------------------------------------\n",
      "|                                   mu = 0.04                                  |\n",
      "|                                sigma = 0.22                                  |\n",
      "|                         correl_slope = -0.413                                |\n",
      "--------------------------------------------------------------------------------\n",
      "================================================================================\n",
      "|                                  Properties                                  |\n",
      "================================================================================\n",
      " prop          |     median    |     stdev     |      min      |      max      \n",
      "--------------------------------------------------------------------------------\n",
      " z             |   2.3600e+00  |   1.3926e+00  |   4.5000e-02  |   1.7527e+01   \n",
      " D_L           |   1.9291e+04  |   1.4693e+04  |   1.9673e+02  |   1.9987e+05   \n",
      " L             |   7.5562e+50  |   2.1687e+52  |   5.5859e+49  |   1.0649e+54   \n",
      " Ep            |   6.8783e+02  |   1.6656e+03  |   8.9126e+00  |   7.5467e+04   \n",
      " alpha         |   6.5002e-01  |   3.2900e-01  |  -7.0564e-01  |   1.7264e+00   \n",
      " beta          |   2.4986e+00  |   4.0967e-01  |   2.0017e+00  |   4.0481e+00   \n",
      " ktild         |   1.0050e+00  |   7.5348e-01  |   2.1920e-03  |   8.8807e+00   \n",
      " Epobs         |   2.0307e+02  |   5.6231e+02  |   1.7572e+00  |   2.3424e+04   \n",
      " pht_pflx_BATSE|   2.5197e-02  |   1.2340e+01  |   2.1550e-06  |   2.2586e+03   \n",
      " t90           |   1.0481e+01  |   2.7856e+01  |   1.0443e-01  |   1.5963e+03   \n",
      " t90obs        |   3.5747e+01  |   1.1141e+02  |   3.9379e-01  |   4.5544e+03   \n",
      " Cvar          |   2.5123e-01  |   2.1285e-01  |   1.3072e-02  |   1.0000e+00   \n",
      " Eiso          |   2.1800e+51  |   1.0371e+53  |   1.7100e+49  |   9.5562e+54   \n",
      " pht_pflx_BAT  |   4.5575e-02  |   2.0024e+01  |   1.3592e-06  |   3.8724e+03   \n",
      " erg_pflx_BATSE|   4.8007e-09  |   2.5042e-06  |   5.7466e-13  |   5.2227e-04   \n",
      " erg_pflx_BAT  |   3.8652e-09  |   1.7449e-06  |   1.7317e-13  |   3.2138e-04   \n",
      " pht_flnc_BATSE|   2.3702e-01  |   1.2361e+02  |   2.0679e-05  |   3.2097e+04   \n",
      " pht_flnc_BAT  |   4.2294e-01  |   2.2367e+02  |   1.7275e-05  |   6.3031e+04   \n",
      " erg_flnc_BATSE|   4.4905e-08  |   2.3097e-05  |   5.1220e-12  |   5.6697e-03   \n",
      " erg_flnc_BAT  |   3.6198e-08  |   1.9015e-05  |   1.9712e-12  |   5.2312e-03   \n",
      " pdet_Stern    |   0.0000e+00  |   4.6473e-01  |   0.0000e+00  |   1.0000e+00   \n",
      " pdet_EpGBM    |   0.0000e+00  |   2.3804e-01  |   0.0000e+00  |   1.0000e+00   \n",
      " pdet_eBAT6    |   0.0000e+00  |   2.0123e-01  |   0.0000e+00  |   1.0000e+00   \n",
      " pdet_SHOALS   |   0.0000e+00  |   2.6741e-01  |   0.0000e+00  |   1.0000e+00   \n",
      "================================================================================\n",
      "|                                  Likelihood                                  |\n",
      "================================================================================\n",
      "|                           chi2_EpGBM = 11.944                                |\n",
      "|                           chi2_Stern = 20.594                                |\n",
      "|                           chi2_eBAT6 = 9.396                                 |\n",
      "|                             chi2_tot = 41.934                                |\n",
      "|                            lnL_EpGBM = -5.972                                |\n",
      "|                            lnL_Stern = -10.297                               |\n",
      "|                            lnL_eBAT6 = -4.698                                |\n",
      "|                              lnL_tot = -20.967                               |\n",
      "================================================================================\n",
      "|                                Normalization                                 |\n",
      "================================================================================\n",
      "|                               R_intr = 3.524e+03                             |\n",
      "|                           R_intr_err = 1.270e+02                             |\n",
      "|                                T_sim = 2.838e+01                             |\n",
      "|                            T_sim_err = 1.023e+00                             |\n",
      "|                                nGRB0 = 1.282e-09                             |\n",
      "|                            nGRB0_err = 4.621e-11                             |\n",
      "|                 pseudo_collapse_rate = 2.748e+12                             |\n",
      "================================================================================\n",
      "\n"
     ]
    }
   ],
   "source": [
    "np.random.seed(1)\n",
    "GRB_pop = GRBPopulation(Nb_GRBs, output_dir=paths_to_dir['output'])\n",
    "GRB_pop.draw_GRB_properties(cosmo=cosmo, params=params)\n",
    "GRB_pop.calculate_quantities(instruments=incl_instruments, samples=incl_samples, ECLAIRs_prop=ECLAIRs_prop)\n",
    "GRB_pop.create_mock_constraints(constraints=incl_constraints)\n",
    "GRB_pop.compare_to_observational_constraints(constraints=incl_constraints)\n",
    "GRB_pop.normalize_to_Stern()\n",
    "print(GRB_pop.summary())"
   ]
  },
  {
   "cell_type": "code",
   "execution_count": 9,
   "metadata": {},
   "outputs": [
    {
     "data": {
      "text/plain": [
       "<matplotlib.legend.Legend at 0x7fdb087cc9b0>"
      ]
     },
     "execution_count": 9,
     "metadata": {},
     "output_type": "execute_result"
    },
    {
     "data": {
      "image/png": "[encoded data removed]",
      "text/plain": [
       "<Figure size 720x576 with 1 Axes>"
      ]
     },
     "metadata": {
      "needs_background": "light"
     },
     "output_type": "display_data"
    }
   ],
   "source": [
    "plt.style.use('paper')\n",
    "fig, ax = plt.subplots(figsize=(10,8))\n",
    "pf.plot_intensity_constraint(ax=ax, pop=GRB_pop, label='Tsim')\n",
    "ax.legend()\n"
   ]
  },
  {
   "cell_type": "code",
   "execution_count": 10,
   "metadata": {},
   "outputs": [],
   "source": [
    "import pickle\n",
    "outfname = paths_to_dir['output']/'test2'\n",
    "GRB_pop.save_to(outfname)"
   ]
  },
  {
   "cell_type": "code",
   "execution_count": 13,
   "metadata": {},
   "outputs": [],
   "source": [
    "outfname = paths_to_dir['output']/'test'\n",
    "\n",
    "gp2 = io.load_GRBPopulation_from(outfname)"
   ]
  },
  {
   "cell_type": "code",
   "execution_count": 14,
   "metadata": {},
   "outputs": [
    {
     "name": "stdout",
     "output_type": "stream",
     "text": [
      "\n",
      "================================================================================\n",
      "|                                   SUMMARY                                    |\n",
      "================================================================================\n",
      "|                              Nb_GRBs = 1.00e+06                              |\n",
      "|                     Output directory = debugger                              |\n",
      "================================================================================\n",
      "|                                  Parameters                                  |\n",
      "================================================================================\n",
      "|                            redshift_distribution                             |\n",
      "--------------------------------------------------------------------------------\n",
      "|                                model = BExp                                  |\n",
      "|                                   zm = 2.18                                  |\n",
      "|                                    a = 0.94                                  |\n",
      "|                                    b = -0.52                                 |\n",
      "|                                 zeta = None                                  |\n",
      "--------------------------------------------------------------------------------\n",
      "|                             luminosity_function                              |\n",
      "--------------------------------------------------------------------------------\n",
      "|                                model = ES                                    |\n",
      "|                              logLmin = 49.6989700043                         |\n",
      "|                              logLmax = 53.0                                  |\n",
      "|                            logLbreak = 52.56                                 |\n",
      "|                                slope = 1.41                                  |\n",
      "|                               k_evol = 1.0                                   |\n",
      "--------------------------------------------------------------------------------\n",
      "|                           peak_energy_distribution                           |\n",
      "--------------------------------------------------------------------------------\n",
      "|                                model = LN                                    |\n",
      "|                                  Ep0 = 690                                   |\n",
      "|                              sigmaEp = 0.45                                  |\n",
      "|                          alpha_amati = 0.3                                   |\n",
      "--------------------------------------------------------------------------------\n",
      "|                                spectral_shape                                |\n",
      "--------------------------------------------------------------------------------\n",
      "|                                model = GBM_Band                              |\n",
      "|                                alpha = 0.6                                   |\n",
      "|                                 beta = 2.5                                   |\n",
      "--------------------------------------------------------------------------------\n",
      "|                             t90obs_distribution                              |\n",
      "--------------------------------------------------------------------------------\n",
      "|                                   mu = 1.45                                  |\n",
      "|                                sigma = 0.47                                  |\n",
      "--------------------------------------------------------------------------------\n",
      "|                              Cvar_distribution                               |\n",
      "--------------------------------------------------------------------------------\n",
      "|                                   mu = 0.04                                  |\n",
      "|                                sigma = 0.22                                  |\n",
      "|                         correl_slope = -0.413                                |\n",
      "--------------------------------------------------------------------------------\n",
      "================================================================================\n",
      "|                                  Properties                                  |\n",
      "================================================================================\n",
      " prop          |     median    |     stdev     |      min      |      max      \n",
      "--------------------------------------------------------------------------------\n",
      " z             |   2.3610e+00  |   1.3919e+00  |   1.4000e-02  |   1.9750e+01   \n",
      " D_L           |   1.9301e+04  |   1.4695e+04  |   5.9771e+01  |   2.2817e+05   \n",
      " L             |   7.5143e+50  |   2.2511e+52  |   5.2903e+49  |   2.0125e+54   \n",
      " Ep            |   6.8996e+02  |   1.6300e+03  |   4.0299e+00  |   7.8766e+04   \n",
      " alpha         |   6.5002e-01  |   3.3030e-01  |  -7.0564e-01  |   1.7264e+00   \n",
      " beta          |   2.4989e+00  |   4.0981e-01  |   2.0017e+00  |   4.0481e+00   \n",
      " ktild         |   1.0059e+00  |   7.5613e-01  |   2.1920e-03  |   8.8807e+00   \n",
      " Epobs         |   2.0236e+02  |   5.5145e+02  |   9.0750e-01  |   2.6984e+04   \n",
      " pht_pflx_BATSE|   2.5116e-02  |   6.6008e+00  |   2.0154e-07  |   4.5894e+03   \n",
      " t90           |   1.0453e+01  |   2.7924e+01  |   8.5597e-02  |   1.5963e+03   \n",
      " t90obs        |   3.5630e+01  |   1.1150e+02  |   2.1271e-01  |   6.3739e+03   \n",
      " Cvar          |   2.5043e-01  |   2.1328e-01  |   1.0232e-02  |   1.0000e+00   \n",
      " Eiso          |   2.1691e+51  |   1.0871e+53  |   1.3200e+49  |   1.6777e+55   \n",
      " pht_pflx_BAT  |   4.5461e-02  |   1.0793e+01  |   7.3001e-08  |   7.0879e+03   \n",
      " erg_pflx_BATSE|   4.7606e-09  |   1.3255e-06  |   6.1573e-14  |   9.0613e-04   \n",
      " erg_pflx_BAT  |   3.8506e-09  |   9.3626e-07  |   1.0988e-14  |   6.4463e-04   \n",
      " pht_flnc_BATSE|   2.3446e-01  |   4.5088e+01  |   3.6513e-06  |   2.0595e+04   \n",
      " pht_flnc_BAT  |   4.2058e-01  |   7.9732e+01  |   1.5155e-06  |   3.1807e+04   \n",
      " erg_flnc_BATSE|   4.4492e-08  |   8.8820e-06  |   9.7082e-13  |   4.0662e-03   \n",
      " erg_flnc_BAT  |   3.5891e-08  |   6.6725e-06  |   2.2810e-13  |   2.8927e-03   \n",
      " pdet_Stern    |   0.0000e+00  |   4.6438e-01  |   0.0000e+00  |   1.0000e+00   \n",
      " pdet_EpGBM    |   0.0000e+00  |   2.3681e-01  |   0.0000e+00  |   1.0000e+00   \n",
      " pdet_eBAT6    |   0.0000e+00  |   1.9962e-01  |   0.0000e+00  |   1.0000e+00   \n",
      " pdet_SHOALS   |   0.0000e+00  |   2.6637e-01  |   0.0000e+00  |   1.0000e+00   \n",
      "================================================================================\n",
      "|                                  Likelihood                                  |\n",
      "================================================================================\n",
      "|                           chi2_EpGBM = 9.499                                 |\n",
      "|                           chi2_Stern = 22.723                                |\n",
      "|                           chi2_eBAT6 = 10.936                                |\n",
      "|                             chi2_tot = 43.157                                |\n",
      "|                            lnL_EpGBM = -4.749                                |\n",
      "|                            lnL_Stern = -11.362                               |\n",
      "|                            lnL_eBAT6 = -5.468                                |\n",
      "|                              lnL_tot = -21.579                               |\n",
      "================================================================================\n",
      "|                                Normalization                                 |\n",
      "================================================================================\n",
      "|                               R_intr = 3.533e+03                             |\n",
      "|                           R_intr_err = 1.273e+02                             |\n",
      "|                                T_sim = 2.830e+02                             |\n",
      "|                            T_sim_err = 1.020e+01                             |\n",
      "|                                nGRB0 = 1.286e-09                             |\n",
      "|                            nGRB0_err = 4.633e-11                             |\n",
      "|                 pseudo_collapse_rate = 2.748e+12                             |\n",
      "================================================================================\n",
      "\n"
     ]
    }
   ],
   "source": [
    "print(gp2.summary())"
   ]
  },
  {
   "cell_type": "code",
   "execution_count": null,
   "metadata": {},
   "outputs": [],
   "source": []
  },
  {
   "cell_type": "code",
   "execution_count": null,
   "metadata": {},
   "outputs": [],
   "source": []
  },
  {
   "cell_type": "code",
   "execution_count": null,
   "metadata": {},
   "outputs": [],
   "source": []
  },
  {
   "cell_type": "code",
   "execution_count": null,
   "metadata": {},
   "outputs": [],
   "source": []
  },
  {
   "cell_type": "code",
   "execution_count": null,
   "metadata": {
    "scrolled": false
   },
   "outputs": [],
   "source": []
  },
  {
   "cell_type": "code",
   "execution_count": null,
   "metadata": {},
   "outputs": [],
   "source": []
  },
  {
   "cell_type": "code",
   "execution_count": null,
   "metadata": {},
   "outputs": [],
   "source": []
  },
  {
   "cell_type": "code",
   "execution_count": null,
   "metadata": {},
   "outputs": [],
   "source": []
  },
  {
   "cell_type": "code",
   "execution_count": null,
   "metadata": {},
   "outputs": [],
   "source": []
  },
  {
   "cell_type": "code",
   "execution_count": null,
   "metadata": {},
   "outputs": [],
   "source": []
  },
  {
   "cell_type": "code",
   "execution_count": null,
   "metadata": {
    "scrolled": false
   },
   "outputs": [],
   "source": []
  },
  {
   "cell_type": "code",
   "execution_count": null,
   "metadata": {},
   "outputs": [],
   "source": []
  },
  {
   "cell_type": "code",
   "execution_count": null,
   "metadata": {},
   "outputs": [],
   "source": []
  },
  {
   "cell_type": "code",
   "execution_count": null,
   "metadata": {},
   "outputs": [],
   "source": []
  },
  {
   "cell_type": "code",
   "execution_count": null,
   "metadata": {},
   "outputs": [],
   "source": []
  },
  {
   "cell_type": "code",
   "execution_count": null,
   "metadata": {},
   "outputs": [],
   "source": []
  },
  {
   "cell_type": "code",
   "execution_count": null,
   "metadata": {},
   "outputs": [],
   "source": []
  },
  {
   "cell_type": "code",
   "execution_count": null,
   "metadata": {},
   "outputs": [],
   "source": []
  },
  {
   "cell_type": "code",
   "execution_count": null,
   "metadata": {},
   "outputs": [],
   "source": []
  },
  {
   "cell_type": "code",
   "execution_count": null,
   "metadata": {},
   "outputs": [],
   "source": []
  },
  {
   "cell_type": "code",
   "execution_count": null,
   "metadata": {},
   "outputs": [],
   "source": []
  },
  {
   "cell_type": "code",
   "execution_count": null,
   "metadata": {},
   "outputs": [],
   "source": []
  },
  {
   "cell_type": "code",
   "execution_count": null,
   "metadata": {},
   "outputs": [],
   "source": []
  },
  {
   "cell_type": "code",
   "execution_count": null,
   "metadata": {},
   "outputs": [],
   "source": []
  },
  {
   "cell_type": "code",
   "execution_count": null,
   "metadata": {},
   "outputs": [],
   "source": []
  },
  {
   "cell_type": "code",
   "execution_count": null,
   "metadata": {},
   "outputs": [],
   "source": []
  },
  {
   "cell_type": "code",
   "execution_count": null,
   "metadata": {},
   "outputs": [],
   "source": []
  },
  {
   "cell_type": "code",
   "execution_count": null,
   "metadata": {},
   "outputs": [],
   "source": []
  },
  {
   "cell_type": "code",
   "execution_count": null,
   "metadata": {},
   "outputs": [],
   "source": []
  },
  {
   "cell_type": "code",
   "execution_count": null,
   "metadata": {},
   "outputs": [],
   "source": []
  }
 ],
 "metadata": {
  "kernelspec": {
   "display_name": "Python 3",
   "language": "python",
   "name": "python3"
  },
  "language_info": {
   "codemirror_mode": {
    "name": "ipython",
    "version": 3
   },
   "file_extension": ".py",
   "mimetype": "text/x-python",
   "name": "python",
   "nbconvert_exporter": "python",
   "pygments_lexer": "ipython3",
   "version": "3.7.2"
  }
 },
 "nbformat": 4,
 "nbformat_minor": 2
}
