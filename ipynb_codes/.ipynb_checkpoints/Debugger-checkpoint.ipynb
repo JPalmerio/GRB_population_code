{
 "cells": [
  {
   "cell_type": "code",
   "execution_count": 1,
   "metadata": {},
   "outputs": [],
   "source": [
    "import sys\n",
    "src_dir = '/Users/palmerio/Science_projects/GRB_population_model/grbpop/'\n",
    "sys.path.insert(0, src_dir)\n",
    "from GRB_population import GRBPopulation, create_GRB_population_from\n",
    "import physics as ph\n",
    "import numpy as np\n",
    "import io_grb_pop as io\n",
    "import miscellaneous as msc\n",
    "from cosmology import init_cosmology\n",
    "from ECLAIRs import init_ECLAIRs\n",
    "import plotting_functions as pf\n",
    "import pandas as pd\n",
    "import matplotlib\n",
    "import matplotlib.pyplot as plt\n",
    "import logging\n",
    "log = logging.getLogger(__name__)\n",
    "logging.basicConfig(stream=sys.stdout, level=logging.DEBUG,\n",
    "                    format='%(asctime)s.%(msecs)03d [%(levelname)s] %(message)s',\n",
    "                    datefmt='%H:%M:%S')\n",
    "logging.getLogger('matplotlib').setLevel(logging.WARNING)\n",
    "plt.style.use('presentation')"
   ]
  },
  {
   "cell_type": "code",
   "execution_count": 2,
   "metadata": {},
   "outputs": [
    {
     "name": "stdout",
     "output_type": "stream",
     "text": [
      "13:57:18.544 [DEBUG] Root directory is /Users/palmerio/Science_projects/GRB_population_model\n",
      "13:57:18.545 [DEBUG] Directory paths :\n",
      "    'root'    : /Users/palmerio/Science_projects/GRB_population_model\n",
      "    'obs'     : /Users/palmerio/Science_projects/GRB_population_model/observational_constraints\n",
      "    'init'    : /Users/palmerio/Science_projects/GRB_population_model/init\n",
      "    'output'  : /Users/palmerio/Science_projects/GRB_population_model/model_outputs\n",
      "    'data'    : /Users/palmerio/Science_projects/GRB_population_model/data\n",
      "    'cosmo'   : /Users/palmerio/Science_projects/GRB_population_model/data/cosmology\n",
      "    'ECLAIRs' : /Users/palmerio/Science_projects/GRB_population_model/data/ECLAIRs\n",
      "13:57:18.546 [DEBUG] File paths :\n",
      "    'config'          : /Users/palmerio/Science_projects/GRB_population_model/init/config.yml\n",
      "    'param'           : /Users/palmerio/Science_projects/GRB_population_model/init/parameters.yml\n",
      "    'instrum'         : /Users/palmerio/Science_projects/GRB_population_model/init/instruments.yml\n",
      "    'sample'          : /Users/palmerio/Science_projects/GRB_population_model/init/samples.yml\n",
      "    'obs_constraints' : /Users/palmerio/Science_projects/GRB_population_model/init/obs_constraints.yml\n"
     ]
    }
   ],
   "source": [
    "paths_to_dir, paths_to_files = io.generate_paths()"
   ]
  },
  {
   "cell_type": "code",
   "execution_count": 15,
   "metadata": {
    "scrolled": true
   },
   "outputs": [
    {
     "name": "stdout",
     "output_type": "stream",
     "text": [
      "12:39:33.459 [DEBUG] Input configuration:\n",
      "Nb_GRBs: 1e5\n",
      "constraints:\n",
      "- Stern\n",
      "- EpGBM\n",
      "- eBAT6\n",
      "output_dir: debugger\n",
      "samples:\n",
      "- Stern\n",
      "- EpGBM\n",
      "- eBAT6\n",
      "- Swift\n",
      "- ECLAIRs\n",
      "- SHOALS\n",
      "- GBM_sample\n",
      "- BATSE_5B_sample\n",
      "\n",
      "12:39:33.462 [DEBUG] Input parameters:\n",
      "Cvar_distribution:\n",
      "    correl_slope: -0.413\n",
      "    mu: 0.04\n",
      "    sigma: 0.22\n",
      "luminosity_function:\n",
      "    k_evol: 1.0\n",
      "    logLbreak: 52.56\n",
      "    logLmax: 53.0\n",
      "    logLmin: 49.6989700043\n",
      "    model: ES\n",
      "    slope: 1.41\n",
      "peak_energy_distribution:\n",
      "    Ep0: 690\n",
      "    alpha_amati: 0.3\n",
      "    model: LN\n",
      "    sigmaEp: 0.45\n",
      "redshift_distribution:\n",
      "    a: 0.94\n",
      "    b: -0.52\n",
      "    model: BExp\n",
      "    zeta: null\n",
      "    zm: 2.18\n",
      "    zmax: 20\n",
      "spectral_shape:\n",
      "    alpha: 0.6\n",
      "    beta: 2.5\n",
      "    model: GBM_Band\n",
      "t90obs_distribution:\n",
      "    mu: 1.45\n",
      "    sigma: 0.47\n",
      "\n"
     ]
    }
   ],
   "source": [
    "config, params, instruments, samples, obs_constraints = io.read_init_files(paths_to_files)\n",
    "config['Nb_GRBs'] = '1e5'\n",
    "config['samples'] = ['Stern']\n",
    "config['constraints'] = ['Stern']\n",
    "config['output_dir'] = 'debugger'\n",
    "# paths_to_dir['output'] = paths_to_dir['output']/config['output_dir']\n",
    "paths_to_dir['output']=Path('/Users/palmerio/Science_projects/GRB_population_model/model_outputs/debugger/')"
   ]
  },
  {
   "cell_type": "code",
   "execution_count": 17,
   "metadata": {},
   "outputs": [
    {
     "name": "stdout",
     "output_type": "stream",
     "text": [
      "/Users/palmerio/Science_projects/GRB_population_model/model_outputs/debugger/debugger/debugger\n"
     ]
    }
   ],
   "source": []
  },
  {
   "cell_type": "code",
   "execution_count": 16,
   "metadata": {
    "scrolled": false
   },
   "outputs": [
    {
     "name": "stdout",
     "output_type": "stream",
     "text": [
      "12:39:37.954 [DEBUG] Read cosmology from directory /Users/palmerio/Science_projects/GRB_population_model/data/cosmology: [0.3, 0.7, 0.7]\n",
      "12:39:37.954 [DEBUG] ==============================================\n",
      "12:39:37.955 [DEBUG] ===           ECLAIRs instrument           ===\n",
      "12:39:37.955 [DEBUG] ==============================================\n",
      "12:39:37.956 [DEBUG] ECLAIRs energy channel: 4.0 to 150.0 keV\n",
      "12:39:37.957 [DEBUG] ECLAIRs detection level: 6.5 sigmas\n",
      "12:39:37.982 [DEBUG] Effective area: from 1.013650e+02 cm2 at 4.00 keV\n",
      "12:39:37.983 [DEBUG] Effective area: to   1.811580e+02 cm2 at 250.00 keV\n",
      "12:39:37.984 [DEBUG] Background: from 2.819620e+02 cts/s/keV at 4.00 keV\n",
      "12:39:37.984 [DEBUG] Background: to   8.730200e-02 cts/s/keV at 250.00 keV\n",
      "12:39:37.984 [DEBUG] ECLAIRs background: 3.098396e+03 cts/s from 4.00 keV to 150.00 keV\n",
      "12:39:37.985 [DEBUG] ==============================================\n",
      "12:39:37.986 [INFO] Including samples: ['Stern']\n",
      "12:39:37.987 [DEBUG] Including samples:\n",
      "Stern:\n",
      "    instrument: BATSE\n",
      "    pflx_min: 0.066825\n",
      "\n",
      "12:39:37.987 [INFO] Including instruments: ['BATSE']\n",
      "12:39:37.989 [DEBUG] Including instruments:\n",
      "BATSE:\n",
      "    Emax: 300.0\n",
      "    Emin: 50.0\n",
      "\n",
      "12:39:37.990 [INFO] Including constraints: ['Stern']\n",
      "12:39:37.991 [DEBUG] Including constraints:\n",
      "Stern:\n",
      "    instrument: BATSE\n",
      "    last_bin: 50.0\n",
      "    prop_min: pht_pflx_BATSE\n",
      "    quantity: pht_pflx_BATSE\n",
      "    sum_ln_oi_factorial: 36306.10949982049\n",
      "    val_min: 0.066825\n",
      "\n"
     ]
    }
   ],
   "source": [
    "cosmo = init_cosmology(paths_to_dir['cosmo'])\n",
    "ECLAIRs_prop = init_ECLAIRs(ECLAIRs_dir=paths_to_dir['ECLAIRs'],\n",
    "                            ECLAIRs_config=instruments['ECLAIRs'])\n",
    "samples['ECLAIRs']['pflx_min'] = ECLAIRs_prop['bkg_total']\n",
    "\n",
    "incl_samples, incl_instruments, incl_constraints = io.create_config(config=config,\n",
    "                                                       samples=samples,\n",
    "                                                       instruments=instruments,\n",
    "                                                       obs_constraints=obs_constraints)"
   ]
  },
  {
   "cell_type": "code",
   "execution_count": null,
   "metadata": {},
   "outputs": [],
   "source": []
  },
  {
   "cell_type": "code",
   "execution_count": 14,
   "metadata": {
    "scrolled": true
   },
   "outputs": [
    {
     "name": "stdout",
     "output_type": "stream",
     "text": [
      "12:38:36.095 [INFO] Starting calculations of peak photon fluxes...\n",
      "12:38:36.095 [DEBUG] For BATSE instrument [50, 300 keV]:\n",
      "12:38:37.032 [DEBUG] Done in 0.937 s\n",
      "12:38:37.067 [INFO] Starting calculations of peak photon fluxes...\n",
      "12:38:37.067 [INFO] Starting calculations of peak energy fluxes...\n",
      "12:38:37.068 [DEBUG] For BATSE instrument [50.0, 300.0 keV]:\n",
      "12:38:37.993 [DEBUG] Done in 0.924 s\n",
      "12:38:37.994 [DEBUG] Starting calculations of photon fluences...\n",
      "12:38:37.996 [DEBUG] Done in 0.001 s\n",
      "12:38:37.997 [DEBUG] Starting calculations of energy fluences...\n",
      "12:38:37.999 [DEBUG] Done in 0.002 s\n",
      "12:38:38.000 [INFO] Starting calculations of detection probability...\n",
      "12:38:38.001 [DEBUG] Stern sample:\n",
      "12:38:38.004 [DEBUG] Done in 0.002 s\n"
     ]
    },
    {
     "ename": "KeyError",
     "evalue": "'pht_pflx_BAT'",
     "output_type": "error",
     "traceback": [
      "\u001b[0;31m---------------------------------------------------------------------------\u001b[0m",
      "\u001b[0;31mKeyError\u001b[0m                                  Traceback (most recent call last)",
      "\u001b[0;32m~/miniconda3/envs/python3/lib/python3.7/site-packages/pandas/core/indexes/base.py\u001b[0m in \u001b[0;36mget_loc\u001b[0;34m(self, key, method, tolerance)\u001b[0m\n\u001b[1;32m   2645\u001b[0m             \u001b[0;32mtry\u001b[0m\u001b[0;34m:\u001b[0m\u001b[0;34m\u001b[0m\u001b[0;34m\u001b[0m\u001b[0m\n\u001b[0;32m-> 2646\u001b[0;31m                 \u001b[0;32mreturn\u001b[0m \u001b[0mself\u001b[0m\u001b[0;34m.\u001b[0m\u001b[0m_engine\u001b[0m\u001b[0;34m.\u001b[0m\u001b[0mget_loc\u001b[0m\u001b[0;34m(\u001b[0m\u001b[0mkey\u001b[0m\u001b[0;34m)\u001b[0m\u001b[0;34m\u001b[0m\u001b[0;34m\u001b[0m\u001b[0m\n\u001b[0m\u001b[1;32m   2647\u001b[0m             \u001b[0;32mexcept\u001b[0m \u001b[0mKeyError\u001b[0m\u001b[0;34m:\u001b[0m\u001b[0;34m\u001b[0m\u001b[0;34m\u001b[0m\u001b[0m\n",
      "\u001b[0;32mpandas/_libs/index.pyx\u001b[0m in \u001b[0;36mpandas._libs.index.IndexEngine.get_loc\u001b[0;34m()\u001b[0m\n",
      "\u001b[0;32mpandas/_libs/index.pyx\u001b[0m in \u001b[0;36mpandas._libs.index.IndexEngine.get_loc\u001b[0;34m()\u001b[0m\n",
      "\u001b[0;32mpandas/_libs/hashtable_class_helper.pxi\u001b[0m in \u001b[0;36mpandas._libs.hashtable.PyObjectHashTable.get_item\u001b[0;34m()\u001b[0m\n",
      "\u001b[0;32mpandas/_libs/hashtable_class_helper.pxi\u001b[0m in \u001b[0;36mpandas._libs.hashtable.PyObjectHashTable.get_item\u001b[0;34m()\u001b[0m\n",
      "\u001b[0;31mKeyError\u001b[0m: 'pht_pflx_BAT'",
      "\nDuring handling of the above exception, another exception occurred:\n",
      "\u001b[0;31mKeyError\u001b[0m                                  Traceback (most recent call last)",
      "\u001b[0;32m<ipython-input-14-a6890500e44e>\u001b[0m in \u001b[0;36m<module>\u001b[0;34m\u001b[0m\n\u001b[1;32m      7\u001b[0m                                 \u001b[0mincl_constraints\u001b[0m\u001b[0;34m=\u001b[0m\u001b[0mincl_constraints\u001b[0m\u001b[0;34m,\u001b[0m\u001b[0;34m\u001b[0m\u001b[0;34m\u001b[0m\u001b[0m\n\u001b[1;32m      8\u001b[0m                                 \u001b[0mECLAIRs_prop\u001b[0m\u001b[0;34m=\u001b[0m\u001b[0mECLAIRs_prop\u001b[0m\u001b[0;34m,\u001b[0m\u001b[0;34m\u001b[0m\u001b[0;34m\u001b[0m\u001b[0m\n\u001b[0;32m----> 9\u001b[0;31m                                 output_dir=paths_to_dir['output'])\n\u001b[0m",
      "\u001b[0;32m~/Science_projects/GRB_population_model/src/GRB_population.py\u001b[0m in \u001b[0;36mcreate_GRB_population_from\u001b[0;34m(Nb_GRBs, cosmo, params, incl_instruments, incl_samples, incl_constraints, ECLAIRs_prop, output_dir, nGRB0, nGRB0_err, run_mode, savefig)\u001b[0m\n",
      "\u001b[0;32m~/Science_projects/GRB_population_model/src/GRB_population.py\u001b[0m in \u001b[0;36mcreate_mock_constraints\u001b[0;34m(self, constraints)\u001b[0m\n",
      "\u001b[0;32m~/miniconda3/envs/python3/lib/python3.7/site-packages/pandas/core/frame.py\u001b[0m in \u001b[0;36m__getitem__\u001b[0;34m(self, key)\u001b[0m\n\u001b[1;32m   2798\u001b[0m             \u001b[0;32mif\u001b[0m \u001b[0mself\u001b[0m\u001b[0;34m.\u001b[0m\u001b[0mcolumns\u001b[0m\u001b[0;34m.\u001b[0m\u001b[0mnlevels\u001b[0m \u001b[0;34m>\u001b[0m \u001b[0;36m1\u001b[0m\u001b[0;34m:\u001b[0m\u001b[0;34m\u001b[0m\u001b[0;34m\u001b[0m\u001b[0m\n\u001b[1;32m   2799\u001b[0m                 \u001b[0;32mreturn\u001b[0m \u001b[0mself\u001b[0m\u001b[0;34m.\u001b[0m\u001b[0m_getitem_multilevel\u001b[0m\u001b[0;34m(\u001b[0m\u001b[0mkey\u001b[0m\u001b[0;34m)\u001b[0m\u001b[0;34m\u001b[0m\u001b[0;34m\u001b[0m\u001b[0m\n\u001b[0;32m-> 2800\u001b[0;31m             \u001b[0mindexer\u001b[0m \u001b[0;34m=\u001b[0m \u001b[0mself\u001b[0m\u001b[0;34m.\u001b[0m\u001b[0mcolumns\u001b[0m\u001b[0;34m.\u001b[0m\u001b[0mget_loc\u001b[0m\u001b[0;34m(\u001b[0m\u001b[0mkey\u001b[0m\u001b[0;34m)\u001b[0m\u001b[0;34m\u001b[0m\u001b[0;34m\u001b[0m\u001b[0m\n\u001b[0m\u001b[1;32m   2801\u001b[0m             \u001b[0;32mif\u001b[0m \u001b[0mis_integer\u001b[0m\u001b[0;34m(\u001b[0m\u001b[0mindexer\u001b[0m\u001b[0;34m)\u001b[0m\u001b[0;34m:\u001b[0m\u001b[0;34m\u001b[0m\u001b[0;34m\u001b[0m\u001b[0m\n\u001b[1;32m   2802\u001b[0m                 \u001b[0mindexer\u001b[0m \u001b[0;34m=\u001b[0m \u001b[0;34m[\u001b[0m\u001b[0mindexer\u001b[0m\u001b[0;34m]\u001b[0m\u001b[0;34m\u001b[0m\u001b[0;34m\u001b[0m\u001b[0m\n",
      "\u001b[0;32m~/miniconda3/envs/python3/lib/python3.7/site-packages/pandas/core/indexes/base.py\u001b[0m in \u001b[0;36mget_loc\u001b[0;34m(self, key, method, tolerance)\u001b[0m\n\u001b[1;32m   2646\u001b[0m                 \u001b[0;32mreturn\u001b[0m \u001b[0mself\u001b[0m\u001b[0;34m.\u001b[0m\u001b[0m_engine\u001b[0m\u001b[0;34m.\u001b[0m\u001b[0mget_loc\u001b[0m\u001b[0;34m(\u001b[0m\u001b[0mkey\u001b[0m\u001b[0;34m)\u001b[0m\u001b[0;34m\u001b[0m\u001b[0;34m\u001b[0m\u001b[0m\n\u001b[1;32m   2647\u001b[0m             \u001b[0;32mexcept\u001b[0m \u001b[0mKeyError\u001b[0m\u001b[0;34m:\u001b[0m\u001b[0;34m\u001b[0m\u001b[0;34m\u001b[0m\u001b[0m\n\u001b[0;32m-> 2648\u001b[0;31m                 \u001b[0;32mreturn\u001b[0m \u001b[0mself\u001b[0m\u001b[0;34m.\u001b[0m\u001b[0m_engine\u001b[0m\u001b[0;34m.\u001b[0m\u001b[0mget_loc\u001b[0m\u001b[0;34m(\u001b[0m\u001b[0mself\u001b[0m\u001b[0;34m.\u001b[0m\u001b[0m_maybe_cast_indexer\u001b[0m\u001b[0;34m(\u001b[0m\u001b[0mkey\u001b[0m\u001b[0;34m)\u001b[0m\u001b[0;34m)\u001b[0m\u001b[0;34m\u001b[0m\u001b[0;34m\u001b[0m\u001b[0m\n\u001b[0m\u001b[1;32m   2649\u001b[0m         \u001b[0mindexer\u001b[0m \u001b[0;34m=\u001b[0m \u001b[0mself\u001b[0m\u001b[0;34m.\u001b[0m\u001b[0mget_indexer\u001b[0m\u001b[0;34m(\u001b[0m\u001b[0;34m[\u001b[0m\u001b[0mkey\u001b[0m\u001b[0;34m]\u001b[0m\u001b[0;34m,\u001b[0m \u001b[0mmethod\u001b[0m\u001b[0;34m=\u001b[0m\u001b[0mmethod\u001b[0m\u001b[0;34m,\u001b[0m \u001b[0mtolerance\u001b[0m\u001b[0;34m=\u001b[0m\u001b[0mtolerance\u001b[0m\u001b[0;34m)\u001b[0m\u001b[0;34m\u001b[0m\u001b[0;34m\u001b[0m\u001b[0m\n\u001b[1;32m   2650\u001b[0m         \u001b[0;32mif\u001b[0m \u001b[0mindexer\u001b[0m\u001b[0;34m.\u001b[0m\u001b[0mndim\u001b[0m \u001b[0;34m>\u001b[0m \u001b[0;36m1\u001b[0m \u001b[0;32mor\u001b[0m \u001b[0mindexer\u001b[0m\u001b[0;34m.\u001b[0m\u001b[0msize\u001b[0m \u001b[0;34m>\u001b[0m \u001b[0;36m1\u001b[0m\u001b[0;34m:\u001b[0m\u001b[0;34m\u001b[0m\u001b[0;34m\u001b[0m\u001b[0m\n",
      "\u001b[0;32mpandas/_libs/index.pyx\u001b[0m in \u001b[0;36mpandas._libs.index.IndexEngine.get_loc\u001b[0;34m()\u001b[0m\n",
      "\u001b[0;32mpandas/_libs/index.pyx\u001b[0m in \u001b[0;36mpandas._libs.index.IndexEngine.get_loc\u001b[0;34m()\u001b[0m\n",
      "\u001b[0;32mpandas/_libs/hashtable_class_helper.pxi\u001b[0m in \u001b[0;36mpandas._libs.hashtable.PyObjectHashTable.get_item\u001b[0;34m()\u001b[0m\n",
      "\u001b[0;32mpandas/_libs/hashtable_class_helper.pxi\u001b[0m in \u001b[0;36mpandas._libs.hashtable.PyObjectHashTable.get_item\u001b[0;34m()\u001b[0m\n",
      "\u001b[0;31mKeyError\u001b[0m: 'pht_pflx_BAT'"
     ]
    }
   ],
   "source": [
    "np.random.seed(12)\n",
    "gp = create_GRB_population_from(Nb_GRBs=config['Nb_GRBs'],\n",
    "                                cosmo=cosmo,\n",
    "                                params=params,\n",
    "                                incl_samples=incl_samples,\n",
    "                                incl_instruments=incl_instruments,\n",
    "                                incl_constraints=incl_constraints,\n",
    "                                ECLAIRs_prop=ECLAIRs_prop,\n",
    "                                output_dir=paths_to_dir['output'])\n"
   ]
  },
  {
   "cell_type": "code",
   "execution_count": 10,
   "metadata": {},
   "outputs": [
    {
     "name": "stdout",
     "output_type": "stream",
     "text": [
      "Sample size :82\n"
     ]
    },
    {
     "name": "stderr",
     "output_type": "stream",
     "text": [
      "/Users/palmerio/miniconda3/envs/python3/lib/python3.7/site-packages/statsmodels/nonparametric/kde.py:444: RuntimeWarning: invalid value encountered in greater\n",
      "  X = X[np.logical_and(X > clip[0], X < clip[1])] # will not work for two columns.\n",
      "/Users/palmerio/miniconda3/envs/python3/lib/python3.7/site-packages/statsmodels/nonparametric/kde.py:444: RuntimeWarning: invalid value encountered in less\n",
      "  X = X[np.logical_and(X > clip[0], X < clip[1])] # will not work for two columns.\n"
     ]
    },
    {
     "data": {
      "text/plain": [
       "<matplotlib.legend.Legend at 0x7fb310917e48>"
      ]
     },
     "execution_count": 10,
     "metadata": {},
     "output_type": "execute_result"
    },
    {
     "data": {
      "image/png": "[encoded data removed]",
      "text/plain": [
       "<Figure size 720x576 with 1 Axes>"
      ]
     },
     "metadata": {
      "needs_background": "light"
     },
     "output_type": "display_data"
    },
    {
     "data": {
      "image/png": "[encoded data removed]",
      "text/plain": [
       "<Figure size 720x576 with 1 Axes>"
      ]
     },
     "metadata": {
      "needs_background": "light"
     },
     "output_type": "display_data"
    }
   ],
   "source": [
    "plt.style.use('paper')\n",
    "fig, ax = plt.subplots(figsize=(10,8))\n",
    "pf.plot_intensity_constraint(ax=ax, pop=gp, label='Tsim')\n",
    "ax.legend()\n",
    "fig, ax = plt.subplots(figsize=(10,8))\n",
    "pf.plot_redshift_constraint(ax=ax, pop=gp, label='Tsim')\n",
    "ax.legend()"
   ]
  },
  {
   "cell_type": "code",
   "execution_count": null,
   "metadata": {},
   "outputs": [],
   "source": []
  },
  {
   "cell_type": "code",
   "execution_count": null,
   "metadata": {},
   "outputs": [],
   "source": []
  },
  {
   "cell_type": "code",
   "execution_count": null,
   "metadata": {},
   "outputs": [],
   "source": []
  },
  {
   "cell_type": "code",
   "execution_count": 11,
   "metadata": {},
   "outputs": [
    {
     "data": {
      "image/png": "[encoded data removed]",
      "text/plain": [
       "<Figure size 864x576 with 4 Axes>"
      ]
     },
     "metadata": {
      "needs_background": "light"
     },
     "output_type": "display_data"
    }
   ],
   "source": [
    "# def plot_ECLAIRs_pop(pop):\n",
    "pop = gp\n",
    "fig, axes = plt.subplots(2,2, figsize=(12,8))\n",
    "df = pop.properties\n",
    "# pflx distr\n",
    "axes[0,0].hist(np.log10(df['pht_pflx_BATSE']), weights=df['pdet_ECLAIRs_tot'], bins=np.linspace(-2,4, 50))\n",
    "axes[0,0].hist(np.log10(df['pht_pflx_BATSE']), weights=df['pdet_SHOALS'], bins=np.linspace(-2,4, 50), alpha=0.5)\n",
    "axes[0,0].set_yscale('log')\n",
    "    \n",
    "# z distr\n",
    "axes[0,1].hist(df['z'], weights=df['pdet_ECLAIRs_tot'], bins=np.linspace(0, 15, 50))\n",
    "axes[0,1].hist(df['z'], weights=df['pdet_SHOALS'], bins=np.linspace(0, 15, 50), alpha=0.5)\n",
    "axes[0,1].set_xlabel('Redshift (z)')\n",
    "# axes[0,1].set_yscale('log')\n",
    "\n",
    "# L distr\n",
    "axes[1,0].hist(np.log10(df['L']), weights=df['pdet_ECLAIRs_tot'], bins=np.linspace(49, 55, 51))\n",
    "axes[1,0].hist(np.log10(df['L']), weights=df['pdet_SHOALS'], bins=np.linspace(49, 55, 51), alpha=0.5)\n",
    "axes[1,0].set_xlabel('log Luminosity [erg/s]')\n",
    "axes[1,0].set_yscale('log')\n",
    "\n",
    "# Ep distr\n",
    "axes[1,1].hist(np.log10(df['Epobs']), weights=df['pdet_ECLAIRs_tot'], bins=np.linspace(0, 4, 51))\n",
    "axes[1,1].hist(np.log10(df['Epobs']), weights=df['pdet_SHOALS'], bins=np.linspace(0, 4, 51), alpha=0.5)\n",
    "axes[1,1].set_xlabel('Observed $E_p$ [keV]')\n",
    "axes[1,1].set_yscale('log')\n",
    "\n",
    "#     return"
   ]
  },
  {
   "cell_type": "code",
   "execution_count": 9,
   "metadata": {},
   "outputs": [
    {
     "data": {
      "text/html": [
       "<div>\n",
       "<style scoped>\n",
       "    .dataframe tbody tr th:only-of-type {\n",
       "        vertical-align: middle;\n",
       "    }\n",
       "\n",
       "    .dataframe tbody tr th {\n",
       "        vertical-align: top;\n",
       "    }\n",
       "\n",
       "    .dataframe thead th {\n",
       "        text-align: right;\n",
       "    }\n",
       "</style>\n",
       "<table border=\"1\" class=\"dataframe\">\n",
       "  <thead>\n",
       "    <tr style=\"text-align: right;\">\n",
       "      <th></th>\n",
       "      <th>z</th>\n",
       "      <th>D_L</th>\n",
       "      <th>L</th>\n",
       "      <th>Ep</th>\n",
       "      <th>alpha</th>\n",
       "      <th>beta</th>\n",
       "      <th>ktild</th>\n",
       "      <th>Epobs</th>\n",
       "      <th>pht_pflx_BATSE</th>\n",
       "      <th>t90</th>\n",
       "      <th>...</th>\n",
       "      <th>erg_flnc_BATSE</th>\n",
       "      <th>erg_flnc_BAT</th>\n",
       "      <th>erg_flnc_ECLAIRs</th>\n",
       "      <th>pdet_Stern</th>\n",
       "      <th>pdet_EpGBM</th>\n",
       "      <th>pdet_eBAT6</th>\n",
       "      <th>pdet_SHOALS</th>\n",
       "      <th>pdet_ECLAIRs_tot</th>\n",
       "      <th>pdet_ECLAIRs_pht_flnc</th>\n",
       "      <th>pdet_ECLAIRs_pht_cts</th>\n",
       "    </tr>\n",
       "  </thead>\n",
       "  <tbody>\n",
       "    <tr>\n",
       "      <th>0</th>\n",
       "      <td>2.170</td>\n",
       "      <td>17401.053714</td>\n",
       "      <td>3.614029e+50</td>\n",
       "      <td>1359.520128</td>\n",
       "      <td>0.860675</td>\n",
       "      <td>2.62545</td>\n",
       "      <td>0.918250</td>\n",
       "      <td>428.870703</td>\n",
       "      <td>0.013940</td>\n",
       "      <td>9.725305</td>\n",
       "      <td>...</td>\n",
       "      <td>1.831008e-08</td>\n",
       "      <td>1.123093e-08</td>\n",
       "      <td>4.114768e-06</td>\n",
       "      <td>0.0</td>\n",
       "      <td>0.0</td>\n",
       "      <td>0.0</td>\n",
       "      <td>0.0</td>\n",
       "      <td>0.000000</td>\n",
       "      <td>0.000000</td>\n",
       "      <td>0.000000</td>\n",
       "    </tr>\n",
       "    <tr>\n",
       "      <th>1</th>\n",
       "      <td>3.079</td>\n",
       "      <td>26674.280384</td>\n",
       "      <td>1.363275e+51</td>\n",
       "      <td>836.523242</td>\n",
       "      <td>0.631338</td>\n",
       "      <td>3.14171</td>\n",
       "      <td>1.518077</td>\n",
       "      <td>205.080471</td>\n",
       "      <td>0.044846</td>\n",
       "      <td>8.785559</td>\n",
       "      <td>...</td>\n",
       "      <td>6.081942e-08</td>\n",
       "      <td>4.346737e-08</td>\n",
       "      <td>1.583862e-05</td>\n",
       "      <td>0.0</td>\n",
       "      <td>0.0</td>\n",
       "      <td>0.0</td>\n",
       "      <td>0.0</td>\n",
       "      <td>0.000000</td>\n",
       "      <td>0.000000</td>\n",
       "      <td>0.000000</td>\n",
       "    </tr>\n",
       "    <tr>\n",
       "      <th>2</th>\n",
       "      <td>0.102</td>\n",
       "      <td>464.577272</td>\n",
       "      <td>7.374763e+49</td>\n",
       "      <td>1990.981125</td>\n",
       "      <td>0.528301</td>\n",
       "      <td>2.86500</td>\n",
       "      <td>1.596361</td>\n",
       "      <td>1806.697936</td>\n",
       "      <td>0.720202</td>\n",
       "      <td>13.665846</td>\n",
       "      <td>...</td>\n",
       "      <td>5.971089e-07</td>\n",
       "      <td>2.423974e-07</td>\n",
       "      <td>8.188913e-05</td>\n",
       "      <td>1.0</td>\n",
       "      <td>0.0</td>\n",
       "      <td>0.0</td>\n",
       "      <td>0.0</td>\n",
       "      <td>0.000000</td>\n",
       "      <td>0.000000</td>\n",
       "      <td>0.000000</td>\n",
       "    </tr>\n",
       "    <tr>\n",
       "      <th>3</th>\n",
       "      <td>1.897</td>\n",
       "      <td>14739.898648</td>\n",
       "      <td>3.543551e+50</td>\n",
       "      <td>2152.396189</td>\n",
       "      <td>0.621347</td>\n",
       "      <td>2.19460</td>\n",
       "      <td>0.601913</td>\n",
       "      <td>742.974176</td>\n",
       "      <td>0.004830</td>\n",
       "      <td>6.245621</td>\n",
       "      <td>...</td>\n",
       "      <td>5.306995e-09</td>\n",
       "      <td>2.541451e-09</td>\n",
       "      <td>8.804933e-07</td>\n",
       "      <td>0.0</td>\n",
       "      <td>0.0</td>\n",
       "      <td>0.0</td>\n",
       "      <td>0.0</td>\n",
       "      <td>0.000000</td>\n",
       "      <td>0.000000</td>\n",
       "      <td>0.000000</td>\n",
       "    </tr>\n",
       "    <tr>\n",
       "      <th>4</th>\n",
       "      <td>1.403</td>\n",
       "      <td>10129.311984</td>\n",
       "      <td>1.831243e+51</td>\n",
       "      <td>800.897126</td>\n",
       "      <td>0.451198</td>\n",
       "      <td>2.51653</td>\n",
       "      <td>1.394875</td>\n",
       "      <td>333.290523</td>\n",
       "      <td>0.211422</td>\n",
       "      <td>13.743068</td>\n",
       "      <td>...</td>\n",
       "      <td>4.891137e-07</td>\n",
       "      <td>2.640507e-07</td>\n",
       "      <td>9.131275e-05</td>\n",
       "      <td>1.0</td>\n",
       "      <td>0.0</td>\n",
       "      <td>0.0</td>\n",
       "      <td>0.0</td>\n",
       "      <td>0.000000</td>\n",
       "      <td>0.000000</td>\n",
       "      <td>0.000000</td>\n",
       "    </tr>\n",
       "    <tr>\n",
       "      <th>...</th>\n",
       "      <td>...</td>\n",
       "      <td>...</td>\n",
       "      <td>...</td>\n",
       "      <td>...</td>\n",
       "      <td>...</td>\n",
       "      <td>...</td>\n",
       "      <td>...</td>\n",
       "      <td>...</td>\n",
       "      <td>...</td>\n",
       "      <td>...</td>\n",
       "      <td>...</td>\n",
       "      <td>...</td>\n",
       "      <td>...</td>\n",
       "      <td>...</td>\n",
       "      <td>...</td>\n",
       "      <td>...</td>\n",
       "      <td>...</td>\n",
       "      <td>...</td>\n",
       "      <td>...</td>\n",
       "      <td>...</td>\n",
       "      <td>...</td>\n",
       "    </tr>\n",
       "    <tr>\n",
       "      <th>99995</th>\n",
       "      <td>3.305</td>\n",
       "      <td>29057.256652</td>\n",
       "      <td>1.012078e+51</td>\n",
       "      <td>510.985438</td>\n",
       "      <td>0.667765</td>\n",
       "      <td>2.31065</td>\n",
       "      <td>0.798291</td>\n",
       "      <td>118.695804</td>\n",
       "      <td>0.019168</td>\n",
       "      <td>9.215807</td>\n",
       "      <td>...</td>\n",
       "      <td>2.574960e-08</td>\n",
       "      <td>2.406587e-08</td>\n",
       "      <td>9.267541e-06</td>\n",
       "      <td>0.0</td>\n",
       "      <td>0.0</td>\n",
       "      <td>0.0</td>\n",
       "      <td>0.0</td>\n",
       "      <td>0.000000</td>\n",
       "      <td>0.000000</td>\n",
       "      <td>0.000000</td>\n",
       "    </tr>\n",
       "    <tr>\n",
       "      <th>99996</th>\n",
       "      <td>3.107</td>\n",
       "      <td>26968.073361</td>\n",
       "      <td>4.635448e+50</td>\n",
       "      <td>1534.558289</td>\n",
       "      <td>0.602841</td>\n",
       "      <td>3.18291</td>\n",
       "      <td>1.590126</td>\n",
       "      <td>373.644580</td>\n",
       "      <td>0.009690</td>\n",
       "      <td>15.889507</td>\n",
       "      <td>...</td>\n",
       "      <td>1.450302e-08</td>\n",
       "      <td>8.073213e-09</td>\n",
       "      <td>2.840249e-06</td>\n",
       "      <td>0.0</td>\n",
       "      <td>0.0</td>\n",
       "      <td>0.0</td>\n",
       "      <td>0.0</td>\n",
       "      <td>0.000000</td>\n",
       "      <td>0.000000</td>\n",
       "      <td>0.000000</td>\n",
       "    </tr>\n",
       "    <tr>\n",
       "      <th>99997</th>\n",
       "      <td>3.615</td>\n",
       "      <td>32366.378595</td>\n",
       "      <td>7.944843e+50</td>\n",
       "      <td>2214.639660</td>\n",
       "      <td>0.841180</td>\n",
       "      <td>2.56481</td>\n",
       "      <td>0.901327</td>\n",
       "      <td>479.878583</td>\n",
       "      <td>0.007684</td>\n",
       "      <td>12.330635</td>\n",
       "      <td>...</td>\n",
       "      <td>6.194006e-08</td>\n",
       "      <td>3.668010e-08</td>\n",
       "      <td>1.334548e-05</td>\n",
       "      <td>0.0</td>\n",
       "      <td>0.0</td>\n",
       "      <td>0.0</td>\n",
       "      <td>0.0</td>\n",
       "      <td>0.000000</td>\n",
       "      <td>0.000000</td>\n",
       "      <td>0.000000</td>\n",
       "    </tr>\n",
       "    <tr>\n",
       "      <th>99998</th>\n",
       "      <td>2.541</td>\n",
       "      <td>21117.997938</td>\n",
       "      <td>1.664388e+52</td>\n",
       "      <td>1079.630387</td>\n",
       "      <td>0.655990</td>\n",
       "      <td>3.14171</td>\n",
       "      <td>1.469114</td>\n",
       "      <td>304.894207</td>\n",
       "      <td>0.670358</td>\n",
       "      <td>12.154898</td>\n",
       "      <td>...</td>\n",
       "      <td>1.331976e-06</td>\n",
       "      <td>8.134591e-07</td>\n",
       "      <td>2.910054e-04</td>\n",
       "      <td>1.0</td>\n",
       "      <td>0.0</td>\n",
       "      <td>0.0</td>\n",
       "      <td>0.0</td>\n",
       "      <td>0.319026</td>\n",
       "      <td>0.319026</td>\n",
       "      <td>0.151261</td>\n",
       "    </tr>\n",
       "    <tr>\n",
       "      <th>99999</th>\n",
       "      <td>2.678</td>\n",
       "      <td>22515.792318</td>\n",
       "      <td>6.134515e+52</td>\n",
       "      <td>2652.919460</td>\n",
       "      <td>0.714753</td>\n",
       "      <td>2.66658</td>\n",
       "      <td>1.139592</td>\n",
       "      <td>721.294035</td>\n",
       "      <td>0.840994</td>\n",
       "      <td>10.397139</td>\n",
       "      <td>...</td>\n",
       "      <td>1.966874e-06</td>\n",
       "      <td>1.002695e-06</td>\n",
       "      <td>3.531150e-04</td>\n",
       "      <td>1.0</td>\n",
       "      <td>0.0</td>\n",
       "      <td>0.0</td>\n",
       "      <td>1.0</td>\n",
       "      <td>0.412298</td>\n",
       "      <td>0.412298</td>\n",
       "      <td>0.187318</td>\n",
       "    </tr>\n",
       "  </tbody>\n",
       "</table>\n",
       "<p>100000 rows × 31 columns</p>\n",
       "</div>"
      ],
      "text/plain": [
       "           z           D_L             L           Ep     alpha     beta  \\\n",
       "0      2.170  17401.053714  3.614029e+50  1359.520128  0.860675  2.62545   \n",
       "1      3.079  26674.280384  1.363275e+51   836.523242  0.631338  3.14171   \n",
       "2      0.102    464.577272  7.374763e+49  1990.981125  0.528301  2.86500   \n",
       "3      1.897  14739.898648  3.543551e+50  2152.396189  0.621347  2.19460   \n",
       "4      1.403  10129.311984  1.831243e+51   800.897126  0.451198  2.51653   \n",
       "...      ...           ...           ...          ...       ...      ...   \n",
       "99995  3.305  29057.256652  1.012078e+51   510.985438  0.667765  2.31065   \n",
       "99996  3.107  26968.073361  4.635448e+50  1534.558289  0.602841  3.18291   \n",
       "99997  3.615  32366.378595  7.944843e+50  2214.639660  0.841180  2.56481   \n",
       "99998  2.541  21117.997938  1.664388e+52  1079.630387  0.655990  3.14171   \n",
       "99999  2.678  22515.792318  6.134515e+52  2652.919460  0.714753  2.66658   \n",
       "\n",
       "          ktild        Epobs  pht_pflx_BATSE        t90  ...  erg_flnc_BATSE  \\\n",
       "0      0.918250   428.870703        0.013940   9.725305  ...    1.831008e-08   \n",
       "1      1.518077   205.080471        0.044846   8.785559  ...    6.081942e-08   \n",
       "2      1.596361  1806.697936        0.720202  13.665846  ...    5.971089e-07   \n",
       "3      0.601913   742.974176        0.004830   6.245621  ...    5.306995e-09   \n",
       "4      1.394875   333.290523        0.211422  13.743068  ...    4.891137e-07   \n",
       "...         ...          ...             ...        ...  ...             ...   \n",
       "99995  0.798291   118.695804        0.019168   9.215807  ...    2.574960e-08   \n",
       "99996  1.590126   373.644580        0.009690  15.889507  ...    1.450302e-08   \n",
       "99997  0.901327   479.878583        0.007684  12.330635  ...    6.194006e-08   \n",
       "99998  1.469114   304.894207        0.670358  12.154898  ...    1.331976e-06   \n",
       "99999  1.139592   721.294035        0.840994  10.397139  ...    1.966874e-06   \n",
       "\n",
       "       erg_flnc_BAT  erg_flnc_ECLAIRs  pdet_Stern  pdet_EpGBM  pdet_eBAT6  \\\n",
       "0      1.123093e-08      4.114768e-06         0.0         0.0         0.0   \n",
       "1      4.346737e-08      1.583862e-05         0.0         0.0         0.0   \n",
       "2      2.423974e-07      8.188913e-05         1.0         0.0         0.0   \n",
       "3      2.541451e-09      8.804933e-07         0.0         0.0         0.0   \n",
       "4      2.640507e-07      9.131275e-05         1.0         0.0         0.0   \n",
       "...             ...               ...         ...         ...         ...   \n",
       "99995  2.406587e-08      9.267541e-06         0.0         0.0         0.0   \n",
       "99996  8.073213e-09      2.840249e-06         0.0         0.0         0.0   \n",
       "99997  3.668010e-08      1.334548e-05         0.0         0.0         0.0   \n",
       "99998  8.134591e-07      2.910054e-04         1.0         0.0         0.0   \n",
       "99999  1.002695e-06      3.531150e-04         1.0         0.0         0.0   \n",
       "\n",
       "       pdet_SHOALS  pdet_ECLAIRs_tot  pdet_ECLAIRs_pht_flnc  \\\n",
       "0              0.0          0.000000               0.000000   \n",
       "1              0.0          0.000000               0.000000   \n",
       "2              0.0          0.000000               0.000000   \n",
       "3              0.0          0.000000               0.000000   \n",
       "4              0.0          0.000000               0.000000   \n",
       "...            ...               ...                    ...   \n",
       "99995          0.0          0.000000               0.000000   \n",
       "99996          0.0          0.000000               0.000000   \n",
       "99997          0.0          0.000000               0.000000   \n",
       "99998          0.0          0.319026               0.319026   \n",
       "99999          1.0          0.412298               0.412298   \n",
       "\n",
       "       pdet_ECLAIRs_pht_cts  \n",
       "0                  0.000000  \n",
       "1                  0.000000  \n",
       "2                  0.000000  \n",
       "3                  0.000000  \n",
       "4                  0.000000  \n",
       "...                     ...  \n",
       "99995              0.000000  \n",
       "99996              0.000000  \n",
       "99997              0.000000  \n",
       "99998              0.151261  \n",
       "99999              0.187318  \n",
       "\n",
       "[100000 rows x 31 columns]"
      ]
     },
     "execution_count": 9,
     "metadata": {},
     "output_type": "execute_result"
    }
   ],
   "source": [
    "df"
   ]
  },
  {
   "cell_type": "code",
   "execution_count": 7,
   "metadata": {},
   "outputs": [
    {
     "data": {
      "text/plain": [
       "{'OmegaM': 0.3, 'OmegaL': 0.7, 'h': 0.7}"
      ]
     },
     "execution_count": 7,
     "metadata": {},
     "output_type": "execute_result"
    }
   ],
   "source": [
    "gp.parameters['cosmology']"
   ]
  },
  {
   "cell_type": "code",
   "execution_count": null,
   "metadata": {},
   "outputs": [],
   "source": []
  },
  {
   "cell_type": "code",
   "execution_count": 15,
   "metadata": {
    "scrolled": false
   },
   "outputs": [
    {
     "data": {
      "text/plain": [
       "{'OmegaM': 0.3, 'OmegaL': 0.7, 'h': 0.7}"
      ]
     },
     "execution_count": 15,
     "metadata": {},
     "output_type": "execute_result"
    }
   ],
   "source": [
    "cosmo['parameters']['parameters']"
   ]
  },
  {
   "cell_type": "code",
   "execution_count": null,
   "metadata": {},
   "outputs": [],
   "source": []
  },
  {
   "cell_type": "code",
   "execution_count": null,
   "metadata": {},
   "outputs": [],
   "source": []
  },
  {
   "cell_type": "code",
   "execution_count": null,
   "metadata": {},
   "outputs": [],
   "source": []
  },
  {
   "cell_type": "code",
   "execution_count": null,
   "metadata": {},
   "outputs": [],
   "source": []
  },
  {
   "cell_type": "code",
   "execution_count": null,
   "metadata": {},
   "outputs": [],
   "source": []
  },
  {
   "cell_type": "code",
   "execution_count": null,
   "metadata": {
    "scrolled": false
   },
   "outputs": [],
   "source": []
  },
  {
   "cell_type": "code",
   "execution_count": null,
   "metadata": {},
   "outputs": [],
   "source": []
  },
  {
   "cell_type": "code",
   "execution_count": null,
   "metadata": {},
   "outputs": [],
   "source": []
  },
  {
   "cell_type": "code",
   "execution_count": null,
   "metadata": {},
   "outputs": [],
   "source": []
  },
  {
   "cell_type": "code",
   "execution_count": null,
   "metadata": {},
   "outputs": [],
   "source": []
  },
  {
   "cell_type": "code",
   "execution_count": null,
   "metadata": {},
   "outputs": [],
   "source": []
  },
  {
   "cell_type": "code",
   "execution_count": null,
   "metadata": {},
   "outputs": [],
   "source": []
  },
  {
   "cell_type": "code",
   "execution_count": null,
   "metadata": {},
   "outputs": [],
   "source": []
  },
  {
   "cell_type": "code",
   "execution_count": null,
   "metadata": {},
   "outputs": [],
   "source": []
  },
  {
   "cell_type": "code",
   "execution_count": null,
   "metadata": {},
   "outputs": [],
   "source": []
  },
  {
   "cell_type": "code",
   "execution_count": null,
   "metadata": {},
   "outputs": [],
   "source": []
  },
  {
   "cell_type": "code",
   "execution_count": null,
   "metadata": {},
   "outputs": [],
   "source": []
  },
  {
   "cell_type": "code",
   "execution_count": null,
   "metadata": {},
   "outputs": [],
   "source": []
  },
  {
   "cell_type": "code",
   "execution_count": null,
   "metadata": {},
   "outputs": [],
   "source": []
  },
  {
   "cell_type": "code",
   "execution_count": null,
   "metadata": {},
   "outputs": [],
   "source": []
  },
  {
   "cell_type": "code",
   "execution_count": null,
   "metadata": {},
   "outputs": [],
   "source": []
  },
  {
   "cell_type": "code",
   "execution_count": null,
   "metadata": {},
   "outputs": [],
   "source": []
  },
  {
   "cell_type": "code",
   "execution_count": null,
   "metadata": {},
   "outputs": [],
   "source": []
  },
  {
   "cell_type": "code",
   "execution_count": null,
   "metadata": {},
   "outputs": [],
   "source": []
  },
  {
   "cell_type": "code",
   "execution_count": null,
   "metadata": {},
   "outputs": [],
   "source": []
  }
 ],
 "metadata": {
  "kernelspec": {
   "display_name": "Python 3",
   "language": "python",
   "name": "python3"
  },
  "language_info": {
   "codemirror_mode": {
    "name": "ipython",
    "version": 3
   },
   "file_extension": ".py",
   "mimetype": "text/x-python",
   "name": "python",
   "nbconvert_exporter": "python",
   "pygments_lexer": "ipython3",
   "version": "3.7.2"
  }
 },
 "nbformat": 4,
 "nbformat_minor": 2
}
