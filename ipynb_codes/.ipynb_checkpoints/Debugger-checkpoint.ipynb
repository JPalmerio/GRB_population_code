{
 "cells": [
  {
   "cell_type": "code",
   "execution_count": 1,
   "metadata": {},
   "outputs": [],
   "source": [
    "import sys\n",
    "src_dir = '/Users/palmerio/Science_projects/GRB_population_model/src/'\n",
    "sys.path.insert(0, src_dir)\n",
    "verbose = True\n",
    "run_mode = 'debug'\n",
    "import prototype_GRB_population as pt\n",
    "from GRB_population import GRBPopulation\n",
    "import physics as ph\n",
    "import numpy as np\n",
    "import io_grb_pop as io\n",
    "import miscelaneous as msc\n",
    "from cosmology import init_cosmology\n",
    "from ECLAIRs import init_ECLAIRs\n",
    "import observational_constraints as obs"
   ]
  },
  {
   "cell_type": "code",
   "execution_count": 2,
   "metadata": {},
   "outputs": [],
   "source": [
    "import pandas as pd\n",
    "import matplotlib\n",
    "matplotlib.get_configdir()\n",
    "import matplotlib.pyplot as plt\n",
    "plt.style.use('presentation')\n"
   ]
  },
  {
   "cell_type": "code",
   "execution_count": 3,
   "metadata": {},
   "outputs": [
    {
     "name": "stdout",
     "output_type": "stream",
     "text": [
      "23:03:45.418 [DEBUG] Root directory is /Users/palmerio/Science_projects/GRB_population_model\n",
      "23:03:45.419 [DEBUG] Directory paths :\n",
      "    'root'    : /Users/palmerio/Science_projects/GRB_population_model\n",
      "    'obs'     : /Users/palmerio/Science_projects/GRB_population_model/observational_constraints\n",
      "    'init'    : /Users/palmerio/Science_projects/GRB_population_model/init\n",
      "    'output'  : /Users/palmerio/Science_projects/GRB_population_model/model_outputs\n",
      "    'data'    : /Users/palmerio/Science_projects/GRB_population_model/data\n",
      "    'cosmo'   : /Users/palmerio/Science_projects/GRB_population_model/data/cosmology\n",
      "    'ECLAIRs' : /Users/palmerio/Science_projects/GRB_population_model/data/ECLAIRs\n",
      "23:03:45.420 [DEBUG] File paths :\n",
      "    'config'  : /Users/palmerio/Science_projects/GRB_population_model/init/config.yml\n",
      "    'param'   : /Users/palmerio/Science_projects/GRB_population_model/init/parameters.yml\n",
      "    'instrum' : /Users/palmerio/Science_projects/GRB_population_model/init/instruments.yml\n",
      "    'sample'  : /Users/palmerio/Science_projects/GRB_population_model/init/samples.yml\n"
     ]
    }
   ],
   "source": [
    "paths_to_dir, paths_to_files = io.generate_paths()"
   ]
  },
  {
   "cell_type": "code",
   "execution_count": 4,
   "metadata": {},
   "outputs": [
    {
     "name": "stdout",
     "output_type": "stream",
     "text": [
      "23:03:45.442 [DEBUG] Input configuration:\n",
      "Nb_GRBs: 1e6\n",
      "likelihood:\n",
      "    epsilon: 0.001\n",
      "output_dir: ECLAIRs_best_A\n",
      "samples:\n",
      "- Stern\n",
      "- EpGBM\n",
      "- Swift\n",
      "- ECLAIRs\n",
      "save_all_GRBs: false\n",
      "\n",
      "23:03:45.445 [DEBUG] Input parameters:\n",
      "Cvar_distribution:\n",
      "    correl_slope: 0.413\n",
      "    mu: 0.04\n",
      "    sigma: 0.22\n",
      "luminosity_function:\n",
      "    k_evol: 1.0\n",
      "    logLbreak: 52.56\n",
      "    logLmax: 53.0\n",
      "    logLmin: 49.6989700043\n",
      "    model: ES\n",
      "    slope: 1.41\n",
      "peak_energy_distribution:\n",
      "    Ep0: 690\n",
      "    alpha_amati: 0.3\n",
      "    model: LN\n",
      "    sigmaEp: 0.45\n",
      "redshift_distribution:\n",
      "    a: 0.94\n",
      "    b: -0.52\n",
      "    model: BExp\n",
      "    zeta: null\n",
      "    zm: 2.18\n",
      "    zmax: 20\n",
      "spectral_shape:\n",
      "    alpha: 0.6\n",
      "    beta: 2.5\n",
      "    model: GBM_Band\n",
      "t90obs_distribution:\n",
      "    mu: 1.45\n",
      "    sigma: 0.47\n",
      "\n"
     ]
    },
    {
     "data": {
      "text/plain": [
       "{'output_dir': 'debugger',\n",
       " 'Nb_GRBs': '1e5',\n",
       " 'samples': ['Stern', 'EpGBM', 'eBAT6'],\n",
       " 'save_all_GRBs': False,\n",
       " 'likelihood': {'epsilon': 0.001}}"
      ]
     },
     "execution_count": 4,
     "metadata": {},
     "output_type": "execute_result"
    }
   ],
   "source": [
    "config, params, instruments, samples = io.read_init_files(paths_to_files)\n",
    "config['Nb_GRBs'] = '1e5'\n",
    "config['samples'] = ['Stern', 'EpGBM', 'eBAT6']\n",
    "config['output_dir'] = 'debugger'\n",
    "paths_to_dir['output'] = paths_to_dir['output']/config['output_dir']\n",
    "config"
   ]
  },
  {
   "cell_type": "code",
   "execution_count": 5,
   "metadata": {},
   "outputs": [
    {
     "name": "stdout",
     "output_type": "stream",
     "text": [
      "/Users/palmerio/Science_projects/GRB_population_model/model_outputs/debugger\n"
     ]
    }
   ],
   "source": [
    "print(paths_to_dir['output'])"
   ]
  },
  {
   "cell_type": "code",
   "execution_count": 6,
   "metadata": {},
   "outputs": [
    {
     "name": "stdout",
     "output_type": "stream",
     "text": [
      "23:03:45.470 [DEBUG] ==============================================\n",
      "23:03:45.470 [DEBUG] ===           ECLAIRs instrument           ===\n",
      "23:03:45.471 [DEBUG] ==============================================\n",
      "23:03:45.472 [DEBUG] ECLAIRs energy channel: 4.0 to 150.0 keV\n",
      "23:03:45.472 [DEBUG] ECLAIRs detection level: 6.5 sigmas\n",
      "23:03:45.506 [DEBUG] Effective area: from 1.013650e+02 cm2 at 4.00 keV\n",
      "23:03:45.506 [DEBUG] Effective area: to   1.811580e+02 cm2 at 250.00 keV\n",
      "23:03:45.507 [DEBUG] Background: from 2.819620e+02 cts/s/keV at 4.00 keV\n",
      "23:03:45.508 [DEBUG] Background: to   8.730200e-02 cts/s/keV at 250.00 keV\n",
      "23:03:45.509 [DEBUG] ECLAIRs background: 3.098396e+03 cts/s from 4.00 keV to 150.00 keV\n",
      "23:03:45.509 [DEBUG] ==============================================\n",
      "23:03:45.510 [INFO] Including samples: ['Stern', 'EpGBM', 'eBAT6']\n",
      "23:03:45.512 [DEBUG] Including samples:\n",
      "EpGBM:\n",
      "    instrument: BATSE\n",
      "    pflx_min: 0.9\n",
      "Stern:\n",
      "    instrument: BATSE\n",
      "    pflx_min: 0.066825\n",
      "eBAT6:\n",
      "    instrument: BAT\n",
      "    pflx_min: 2.6\n",
      "\n",
      "23:03:45.513 [INFO] Including instruments: ['BATSE', 'BAT']\n",
      "23:03:45.517 [DEBUG] Including instruments:\n",
      "BAT:\n",
      "    Emax: 150.0\n",
      "    Emin: 15.0\n",
      "BATSE:\n",
      "    Emax: 300.0\n",
      "    Emin: 50.0\n",
      "\n"
     ]
    }
   ],
   "source": [
    "cosmo = init_cosmology(paths_to_dir['cosmo'])\n",
    "ECLAIRs_prop = init_ECLAIRs(ECLAIRs_dir=paths_to_dir['ECLAIRs'],\n",
    "                            ECLAIRs_config=instruments['ECLAIRs'])\n",
    "samples['ECLAIRs']['pflx_min'] = ECLAIRs_prop['bkg_total']\n",
    "\n",
    "Nb_GRBs = int(float(config['Nb_GRBs']))\n",
    "\n",
    "incl_samples = msc.included_samples(config['samples'], samples)\n",
    "incl_instruments = msc.included_instruments(incl_samples, instruments)"
   ]
  },
  {
   "cell_type": "code",
   "execution_count": 7,
   "metadata": {},
   "outputs": [
    {
     "name": "stdout",
     "output_type": "stream",
     "text": [
      "23:03:45.557 [INFO] Debug mode activated; plotting z pdf\n",
      "23:03:45.641 [INFO] Debug mode activated; plotting L pdf\n",
      "23:03:45.699 [INFO] Debug mode activated; plotting Ep pdf\n",
      "23:03:45.744 [INFO] Debug mode activated; plotting t90obs pdf\n",
      "23:03:45.790 [INFO] Debug mode activated; plotting Cvar pdf\n",
      "23:03:45.895 [INFO] Debug mode activated; plotting spectral params pdf\n",
      "======================================================================\n",
      "===                         SUMMARY                                ===\n",
      "======================================================================\n",
      " prop \t| median \t| stdev \t| min    \t| max\n",
      "---------------------------------------------------------------------- \n",
      " z\t| 2.35600e+00 \t| 1.38920e+00 \t| 3.70000e-02 \t| 1.70460e+01 \n",
      " L\t| 7.55256e+50 \t| 2.35974e+52 \t| 5.58587e+49 \t| 1.43101e+54 \n",
      " Ep\t| 6.90826e+02 \t| 1.60575e+03 \t| 8.00873e+00 \t| 5.38436e+04 \n",
      " t90obs\t| 2.81516e+01 \t| 7.41268e+01 \t| 2.36156e-01 \t| 3.33212e+03 \n",
      " Cvar\t| 2.75650e-01 \t| 2.22021e-01 \t| 1.48330e-02 \t| 1.00000e+00 \n",
      " alpha\t| 6.50022e-01 \t| 3.29554e-01 \t| -7.05642e-01 \t| 1.72638e+00 \n",
      " beta\t| 2.49859e+00 \t| 4.07982e-01 \t| 2.00168e+00 \t| 4.04809e+00 \n",
      " ktild\t| 1.00698e+00 \t| 7.51920e-01 \t| 2.97748e-03 \t| 8.88068e+00 \n",
      " D_L\t| 1.92513e+04 \t| 1.46545e+04 \t| 1.60785e+02 \t| 1.93782e+05 \n",
      " Epobs\t| 2.02422e+02 \t| 5.53457e+02 \t| 1.97056e+00 \t| 1.97013e+04 \n",
      " Eiso\t| 1.88582e+51 \t| 8.93749e+52 \t| 1.95533e+49 \t| 6.56686e+54 \n",
      " t90\t| 8.25491e+00 \t| 2.48264e+01 \t| 5.58286e-02 \t| 8.87140e+02 \n",
      "======================================================================\n",
      "\n",
      "23:03:45.972 [DEBUG] Starting calculations of peak photon fluxes...\n",
      "23:03:45.973 [DEBUG] For BATSE instrument [50.0, 300.0 keV]:\n",
      "23:03:46.882 [DEBUG] Done in 0.909 s\n",
      "23:03:46.882 [DEBUG] For BAT instrument [15.0, 150.0 keV]:\n",
      "23:03:47.678 [DEBUG] Done in 0.796 s\n",
      "23:03:47.679 [DEBUG] Starting calculations of detection probability...\n",
      "23:03:47.680 [DEBUG] Stern sample:\n",
      "23:03:47.681 [DEBUG] Done in 0.001 s\n",
      "23:03:47.682 [DEBUG] EpGBM sample:\n",
      "23:03:47.683 [DEBUG] Done in 0.001 s\n",
      "23:03:47.684 [DEBUG] eBAT6 sample:\n",
      "23:03:47.685 [DEBUG] Done in 0.001 s\n"
     ]
    },
    {
     "data": {
      "image/png": "[encoded data removed]",
      "text/plain": [
       "<Figure size 432x504 with 2 Axes>"
      ]
     },
     "metadata": {
      "needs_background": "light"
     },
     "output_type": "display_data"
    },
    {
     "data": {
      "image/png": "[encoded data removed]",
      "text/plain": [
       "<Figure size 432x360 with 1 Axes>"
      ]
     },
     "metadata": {
      "needs_background": "light"
     },
     "output_type": "display_data"
    },
    {
     "data": {
      "image/png": "[encoded data removed]",
      "text/plain": [
       "<Figure size 432x360 with 1 Axes>"
      ]
     },
     "metadata": {
      "needs_background": "light"
     },
     "output_type": "display_data"
    },
    {
     "data": {
      "image/png": "[encoded data removed]",
      "text/plain": [
       "<Figure size 432x360 with 1 Axes>"
      ]
     },
     "metadata": {
      "needs_background": "light"
     },
     "output_type": "display_data"
    },
    {
     "data": {
      "image/png": "[encoded data removed]",
      "text/plain": [
       "<Figure size 432x360 with 1 Axes>"
      ]
     },
     "metadata": {
      "needs_background": "light"
     },
     "output_type": "display_data"
    },
    {
     "data": {
      "image/png": "[encoded data removed]",
      "text/plain": [
       "<Figure size 432x504 with 2 Axes>"
      ]
     },
     "metadata": {
      "needs_background": "light"
     },
     "output_type": "display_data"
    }
   ],
   "source": [
    "# np.random.seed(1)\n",
    "GRB_population = GRBPopulation(Nb_GRBs, output_dir=paths_to_dir['output'])\n",
    "GRB_prop = GRB_population.draw_GRB_properties(cosmo=cosmo, params=params, run_mode='debug')\n",
    "\n",
    "ph.calc_peak_photon_flux(GRB_prop, incl_instruments, ECLAIRs_prop)\n",
    "# ph.calc_peak_energy_flux(GRB_prop, incl_instruments, ECLAIRs_prop)\n",
    "# ph.calc_photon_fluence(GRB_prop, incl_instruments)\n",
    "# ph.calc_energy_fluence(GRB_prop, incl_instruments)\n",
    "ph.calc_det_prob(GRB_prop, incl_samples, **ECLAIRs_prop)"
   ]
  },
  {
   "cell_type": "code",
   "execution_count": 8,
   "metadata": {},
   "outputs": [
    {
     "data": {
      "text/html": [
       "<div>\n",
       "<style scoped>\n",
       "    .dataframe tbody tr th:only-of-type {\n",
       "        vertical-align: middle;\n",
       "    }\n",
       "\n",
       "    .dataframe tbody tr th {\n",
       "        vertical-align: top;\n",
       "    }\n",
       "\n",
       "    .dataframe thead th {\n",
       "        text-align: right;\n",
       "    }\n",
       "</style>\n",
       "<table border=\"1\" class=\"dataframe\">\n",
       "  <thead>\n",
       "    <tr style=\"text-align: right;\">\n",
       "      <th></th>\n",
       "      <th>Nb_GRBs</th>\n",
       "      <th>z</th>\n",
       "      <th>L</th>\n",
       "      <th>Ep</th>\n",
       "      <th>t90obs</th>\n",
       "      <th>Cvar</th>\n",
       "      <th>alpha</th>\n",
       "      <th>beta</th>\n",
       "      <th>ktild</th>\n",
       "      <th>D_L</th>\n",
       "      <th>Epobs</th>\n",
       "      <th>Eiso</th>\n",
       "      <th>t90</th>\n",
       "      <th>pht_pflx_BATSE</th>\n",
       "      <th>pht_pflx_BAT</th>\n",
       "      <th>pdet_Stern</th>\n",
       "      <th>pdet_EpGBM</th>\n",
       "      <th>pdet_eBAT6</th>\n",
       "    </tr>\n",
       "  </thead>\n",
       "  <tbody>\n",
       "    <tr>\n",
       "      <th>0</th>\n",
       "      <td>100000</td>\n",
       "      <td>1.772</td>\n",
       "      <td>1.384965e+51</td>\n",
       "      <td>1680.247817</td>\n",
       "      <td>32.774084</td>\n",
       "      <td>0.228301</td>\n",
       "      <td>0.419314</td>\n",
       "      <td>2.12157</td>\n",
       "      <td>0.509513</td>\n",
       "      <td>13545.939762</td>\n",
       "      <td>606.150006</td>\n",
       "      <td>3.738389e+51</td>\n",
       "      <td>11.823263</td>\n",
       "      <td>0.016413</td>\n",
       "      <td>0.015532</td>\n",
       "      <td>0.0</td>\n",
       "      <td>0.0</td>\n",
       "      <td>0.0</td>\n",
       "    </tr>\n",
       "    <tr>\n",
       "      <th>1</th>\n",
       "      <td>100000</td>\n",
       "      <td>2.812</td>\n",
       "      <td>3.481145e+51</td>\n",
       "      <td>319.054911</td>\n",
       "      <td>59.005095</td>\n",
       "      <td>0.180501</td>\n",
       "      <td>0.463553</td>\n",
       "      <td>2.51697</td>\n",
       "      <td>1.375239</td>\n",
       "      <td>23894.751947</td>\n",
       "      <td>83.697511</td>\n",
       "      <td>9.726069e+51</td>\n",
       "      <td>15.478776</td>\n",
       "      <td>0.138721</td>\n",
       "      <td>0.319942</td>\n",
       "      <td>1.0</td>\n",
       "      <td>0.0</td>\n",
       "      <td>0.0</td>\n",
       "    </tr>\n",
       "    <tr>\n",
       "      <th>2</th>\n",
       "      <td>100000</td>\n",
       "      <td>1.914</td>\n",
       "      <td>6.385173e+50</td>\n",
       "      <td>958.833382</td>\n",
       "      <td>4.477919</td>\n",
       "      <td>1.000000</td>\n",
       "      <td>0.319481</td>\n",
       "      <td>2.66895</td>\n",
       "      <td>1.856142</td>\n",
       "      <td>14903.535033</td>\n",
       "      <td>329.043714</td>\n",
       "      <td>9.812041e+50</td>\n",
       "      <td>1.536691</td>\n",
       "      <td>0.038057</td>\n",
       "      <td>0.040052</td>\n",
       "      <td>0.0</td>\n",
       "      <td>0.0</td>\n",
       "      <td>0.0</td>\n",
       "    </tr>\n",
       "    <tr>\n",
       "      <th>3</th>\n",
       "      <td>100000</td>\n",
       "      <td>1.389</td>\n",
       "      <td>1.840340e+50</td>\n",
       "      <td>1690.927007</td>\n",
       "      <td>99.596512</td>\n",
       "      <td>0.090352</td>\n",
       "      <td>0.862171</td>\n",
       "      <td>2.43768</td>\n",
       "      <td>0.774208</td>\n",
       "      <td>10003.305274</td>\n",
       "      <td>707.796989</td>\n",
       "      <td>6.932070e+50</td>\n",
       "      <td>41.689624</td>\n",
       "      <td>0.011811</td>\n",
       "      <td>0.015163</td>\n",
       "      <td>0.0</td>\n",
       "      <td>0.0</td>\n",
       "      <td>0.0</td>\n",
       "    </tr>\n",
       "    <tr>\n",
       "      <th>4</th>\n",
       "      <td>100000</td>\n",
       "      <td>2.004</td>\n",
       "      <td>1.836445e+50</td>\n",
       "      <td>145.575912</td>\n",
       "      <td>10.614325</td>\n",
       "      <td>0.201376</td>\n",
       "      <td>0.735167</td>\n",
       "      <td>2.18247</td>\n",
       "      <td>0.504759</td>\n",
       "      <td>15774.605505</td>\n",
       "      <td>48.460690</td>\n",
       "      <td>1.306708e+50</td>\n",
       "      <td>3.533397</td>\n",
       "      <td>0.008218</td>\n",
       "      <td>0.026504</td>\n",
       "      <td>0.0</td>\n",
       "      <td>0.0</td>\n",
       "      <td>0.0</td>\n",
       "    </tr>\n",
       "    <tr>\n",
       "      <th>...</th>\n",
       "      <td>...</td>\n",
       "      <td>...</td>\n",
       "      <td>...</td>\n",
       "      <td>...</td>\n",
       "      <td>...</td>\n",
       "      <td>...</td>\n",
       "      <td>...</td>\n",
       "      <td>...</td>\n",
       "      <td>...</td>\n",
       "      <td>...</td>\n",
       "      <td>...</td>\n",
       "      <td>...</td>\n",
       "      <td>...</td>\n",
       "      <td>...</td>\n",
       "      <td>...</td>\n",
       "      <td>...</td>\n",
       "      <td>...</td>\n",
       "      <td>...</td>\n",
       "    </tr>\n",
       "    <tr>\n",
       "      <th>99995</th>\n",
       "      <td>100000</td>\n",
       "      <td>2.120</td>\n",
       "      <td>3.121310e+50</td>\n",
       "      <td>1058.125436</td>\n",
       "      <td>19.374042</td>\n",
       "      <td>0.374118</td>\n",
       "      <td>0.838359</td>\n",
       "      <td>3.28154</td>\n",
       "      <td>1.172480</td>\n",
       "      <td>16908.572461</td>\n",
       "      <td>339.142768</td>\n",
       "      <td>7.251226e+50</td>\n",
       "      <td>6.209629</td>\n",
       "      <td>0.018785</td>\n",
       "      <td>0.027009</td>\n",
       "      <td>0.0</td>\n",
       "      <td>0.0</td>\n",
       "      <td>0.0</td>\n",
       "    </tr>\n",
       "    <tr>\n",
       "      <th>99996</th>\n",
       "      <td>100000</td>\n",
       "      <td>2.224</td>\n",
       "      <td>3.161160e+50</td>\n",
       "      <td>723.065717</td>\n",
       "      <td>43.844895</td>\n",
       "      <td>0.149285</td>\n",
       "      <td>0.241049</td>\n",
       "      <td>2.12397</td>\n",
       "      <td>0.625031</td>\n",
       "      <td>17935.328131</td>\n",
       "      <td>224.275967</td>\n",
       "      <td>6.417794e+50</td>\n",
       "      <td>13.599533</td>\n",
       "      <td>0.005512</td>\n",
       "      <td>0.006560</td>\n",
       "      <td>0.0</td>\n",
       "      <td>0.0</td>\n",
       "      <td>0.0</td>\n",
       "    </tr>\n",
       "    <tr>\n",
       "      <th>99997</th>\n",
       "      <td>100000</td>\n",
       "      <td>3.252</td>\n",
       "      <td>5.046465e+50</td>\n",
       "      <td>1098.605466</td>\n",
       "      <td>23.624628</td>\n",
       "      <td>0.323537</td>\n",
       "      <td>0.699403</td>\n",
       "      <td>2.28823</td>\n",
       "      <td>0.732114</td>\n",
       "      <td>28496.077664</td>\n",
       "      <td>258.373816</td>\n",
       "      <td>9.071591e+50</td>\n",
       "      <td>5.556121</td>\n",
       "      <td>0.006645</td>\n",
       "      <td>0.009475</td>\n",
       "      <td>0.0</td>\n",
       "      <td>0.0</td>\n",
       "      <td>0.0</td>\n",
       "    </tr>\n",
       "    <tr>\n",
       "      <th>99998</th>\n",
       "      <td>100000</td>\n",
       "      <td>1.506</td>\n",
       "      <td>7.131230e+50</td>\n",
       "      <td>374.605632</td>\n",
       "      <td>5.219030</td>\n",
       "      <td>0.445991</td>\n",
       "      <td>0.786780</td>\n",
       "      <td>2.88288</td>\n",
       "      <td>1.148077</td>\n",
       "      <td>11065.093310</td>\n",
       "      <td>149.483493</td>\n",
       "      <td>6.623676e+50</td>\n",
       "      <td>2.082614</td>\n",
       "      <td>0.142008</td>\n",
       "      <td>0.265033</td>\n",
       "      <td>1.0</td>\n",
       "      <td>0.0</td>\n",
       "      <td>0.0</td>\n",
       "    </tr>\n",
       "    <tr>\n",
       "      <th>99999</th>\n",
       "      <td>100000</td>\n",
       "      <td>4.402</td>\n",
       "      <td>2.838096e+51</td>\n",
       "      <td>136.117418</td>\n",
       "      <td>3.024292</td>\n",
       "      <td>1.000000</td>\n",
       "      <td>0.704579</td>\n",
       "      <td>2.31065</td>\n",
       "      <td>0.764757</td>\n",
       "      <td>40946.445692</td>\n",
       "      <td>25.197597</td>\n",
       "      <td>1.588899e+51</td>\n",
       "      <td>0.559847</td>\n",
       "      <td>0.021355</td>\n",
       "      <td>0.099335</td>\n",
       "      <td>0.0</td>\n",
       "      <td>0.0</td>\n",
       "      <td>0.0</td>\n",
       "    </tr>\n",
       "  </tbody>\n",
       "</table>\n",
       "<p>100000 rows × 18 columns</p>\n",
       "</div>"
      ],
      "text/plain": [
       "       Nb_GRBs      z             L           Ep     t90obs      Cvar  \\\n",
       "0       100000  1.772  1.384965e+51  1680.247817  32.774084  0.228301   \n",
       "1       100000  2.812  3.481145e+51   319.054911  59.005095  0.180501   \n",
       "2       100000  1.914  6.385173e+50   958.833382   4.477919  1.000000   \n",
       "3       100000  1.389  1.840340e+50  1690.927007  99.596512  0.090352   \n",
       "4       100000  2.004  1.836445e+50   145.575912  10.614325  0.201376   \n",
       "...        ...    ...           ...          ...        ...       ...   \n",
       "99995   100000  2.120  3.121310e+50  1058.125436  19.374042  0.374118   \n",
       "99996   100000  2.224  3.161160e+50   723.065717  43.844895  0.149285   \n",
       "99997   100000  3.252  5.046465e+50  1098.605466  23.624628  0.323537   \n",
       "99998   100000  1.506  7.131230e+50   374.605632   5.219030  0.445991   \n",
       "99999   100000  4.402  2.838096e+51   136.117418   3.024292  1.000000   \n",
       "\n",
       "          alpha     beta     ktild           D_L       Epobs          Eiso  \\\n",
       "0      0.419314  2.12157  0.509513  13545.939762  606.150006  3.738389e+51   \n",
       "1      0.463553  2.51697  1.375239  23894.751947   83.697511  9.726069e+51   \n",
       "2      0.319481  2.66895  1.856142  14903.535033  329.043714  9.812041e+50   \n",
       "3      0.862171  2.43768  0.774208  10003.305274  707.796989  6.932070e+50   \n",
       "4      0.735167  2.18247  0.504759  15774.605505   48.460690  1.306708e+50   \n",
       "...         ...      ...       ...           ...         ...           ...   \n",
       "99995  0.838359  3.28154  1.172480  16908.572461  339.142768  7.251226e+50   \n",
       "99996  0.241049  2.12397  0.625031  17935.328131  224.275967  6.417794e+50   \n",
       "99997  0.699403  2.28823  0.732114  28496.077664  258.373816  9.071591e+50   \n",
       "99998  0.786780  2.88288  1.148077  11065.093310  149.483493  6.623676e+50   \n",
       "99999  0.704579  2.31065  0.764757  40946.445692   25.197597  1.588899e+51   \n",
       "\n",
       "             t90  pht_pflx_BATSE  pht_pflx_BAT  pdet_Stern  pdet_EpGBM  \\\n",
       "0      11.823263        0.016413      0.015532         0.0         0.0   \n",
       "1      15.478776        0.138721      0.319942         1.0         0.0   \n",
       "2       1.536691        0.038057      0.040052         0.0         0.0   \n",
       "3      41.689624        0.011811      0.015163         0.0         0.0   \n",
       "4       3.533397        0.008218      0.026504         0.0         0.0   \n",
       "...          ...             ...           ...         ...         ...   \n",
       "99995   6.209629        0.018785      0.027009         0.0         0.0   \n",
       "99996  13.599533        0.005512      0.006560         0.0         0.0   \n",
       "99997   5.556121        0.006645      0.009475         0.0         0.0   \n",
       "99998   2.082614        0.142008      0.265033         1.0         0.0   \n",
       "99999   0.559847        0.021355      0.099335         0.0         0.0   \n",
       "\n",
       "       pdet_eBAT6  \n",
       "0             0.0  \n",
       "1             0.0  \n",
       "2             0.0  \n",
       "3             0.0  \n",
       "4             0.0  \n",
       "...           ...  \n",
       "99995         0.0  \n",
       "99996         0.0  \n",
       "99997         0.0  \n",
       "99998         0.0  \n",
       "99999         0.0  \n",
       "\n",
       "[100000 rows x 18 columns]"
      ]
     },
     "execution_count": 8,
     "metadata": {},
     "output_type": "execute_result"
    }
   ],
   "source": [
    "df = pd.DataFrame(GRB_prop)\n",
    "df"
   ]
  },
  {
   "cell_type": "code",
   "execution_count": 9,
   "metadata": {},
   "outputs": [
    {
     "name": "stdout",
     "output_type": "stream",
     "text": [
      "23:03:53.299 [INFO]           Stern chi2: 6.0338e+01\n",
      "23:03:53.300 [INFO]  Stern normalization: 3.5761e-01 yr-1\n",
      "23:03:53.300 [INFO]  Simulation duration: 2.7963e+00 yr\n",
      "23:03:53.301 [INFO]            ndot_LGRB: 3.5761e+04 LGRB/yr\n"
     ]
    },
    {
     "data": {
      "image/png": "[encoded data removed]",
      "text/plain": [
       "<Figure size 432x288 with 1 Axes>"
      ]
     },
     "metadata": {
      "needs_background": "light"
     },
     "output_type": "display_data"
    }
   ],
   "source": [
    "norm_Stern, mod_Stern = obs.compare_to_Stern(df[df['pdet_Stern']==1]['pht_pflx_BATSE'],\n",
    "                         Stern_file=paths_to_dir['obs']/'Stern_lognlogp_rebinned.txt',\n",
    "                         Nb_GRBs=Nb_GRBs, show_plot=True)"
   ]
  },
  {
   "cell_type": "code",
   "execution_count": 10,
   "metadata": {},
   "outputs": [
    {
     "name": "stdout",
     "output_type": "stream",
     "text": [
      "23:03:53.951 [INFO]           EpGBM chi2: 7.0360e+00\n",
      "23:03:53.952 [INFO]  EpGBM normalization: 1.7127e-01\n"
     ]
    },
    {
     "data": {
      "text/plain": [
       "7.036021515473908"
      ]
     },
     "execution_count": 10,
     "metadata": {},
     "output_type": "execute_result"
    },
    {
     "data": {
      "image/png": "[encoded data removed]",
      "text/plain": [
       "<Figure size 432x288 with 1 Axes>"
      ]
     },
     "metadata": {
      "needs_background": "light"
     },
     "output_type": "display_data"
    }
   ],
   "source": [
    "obs.compare_to_EpGBM(df[df['pdet_EpGBM']==1]['Epobs'],\n",
    "                         GBM_file=paths_to_dir['obs']/'Ep_GBM_for_plotting.txt',\n",
    "                        show_plot=True)\n"
   ]
  },
  {
   "cell_type": "code",
   "execution_count": 11,
   "metadata": {},
   "outputs": [
    {
     "name": "stdout",
     "output_type": "stream",
     "text": [
      "23:03:54.577 [INFO]           eBAT6 chi2: 9.6093e+00\n",
      "23:03:54.578 [INFO]  eBAT6 normalization: 1.8326e-02\n"
     ]
    },
    {
     "data": {
      "text/plain": [
       "9.609309737905459"
      ]
     },
     "execution_count": 11,
     "metadata": {},
     "output_type": "execute_result"
    },
    {
     "data": {
      "image/png": "[encoded data removed]",
      "text/plain": [
       "<Figure size 432x288 with 1 Axes>"
      ]
     },
     "metadata": {
      "needs_background": "light"
     },
     "output_type": "display_data"
    }
   ],
   "source": [
    "obs.compare_to_eBAT6(df[df['pdet_eBAT6']==1]['z'],\n",
    "                     eBAT6_file=paths_to_dir['obs']/'eBAT6_constraint_for_plotting.txt',\n",
    "                     show_plot=True)\n"
   ]
  },
  {
   "cell_type": "code",
   "execution_count": 13,
   "metadata": {},
   "outputs": [],
   "source": [
    "f90_dir = paths_to_dir['output'].parent/'191205_best_k1_LN_nF'\n"
   ]
  },
  {
   "cell_type": "code",
   "execution_count": 37,
   "metadata": {},
   "outputs": [
    {
     "data": {
      "text/html": [
       "<div>\n",
       "<style scoped>\n",
       "    .dataframe tbody tr th:only-of-type {\n",
       "        vertical-align: middle;\n",
       "    }\n",
       "\n",
       "    .dataframe tbody tr th {\n",
       "        vertical-align: top;\n",
       "    }\n",
       "\n",
       "    .dataframe thead th {\n",
       "        text-align: right;\n",
       "    }\n",
       "</style>\n",
       "<table border=\"1\" class=\"dataframe\">\n",
       "  <thead>\n",
       "    <tr style=\"text-align: right;\">\n",
       "      <th></th>\n",
       "      <th>L</th>\n",
       "      <th>z</th>\n",
       "      <th>D_L</th>\n",
       "      <th>Epobs</th>\n",
       "      <th>alpha</th>\n",
       "      <th>beta</th>\n",
       "      <th>ktild</th>\n",
       "      <th>pht_pflx_BATSE</th>\n",
       "      <th>pht_pflx_BAT</th>\n",
       "      <th>pht_pflx_FREGATE</th>\n",
       "      <th>pht_pflx_WXM</th>\n",
       "      <th>pht_pflx_ECLAIRs</th>\n",
       "    </tr>\n",
       "  </thead>\n",
       "  <tbody>\n",
       "    <tr>\n",
       "      <th>0</th>\n",
       "      <td>50.246032</td>\n",
       "      <td>0.913010</td>\n",
       "      <td>5922.619578</td>\n",
       "      <td>845.481457</td>\n",
       "      <td>0.328012</td>\n",
       "      <td>7.367347</td>\n",
       "      <td>2.611616</td>\n",
       "      <td>0.030724</td>\n",
       "      <td>0.025655</td>\n",
       "      <td>0.0</td>\n",
       "      <td>0.0</td>\n",
       "      <td>0.026272</td>\n",
       "    </tr>\n",
       "    <tr>\n",
       "      <th>1</th>\n",
       "      <td>50.607419</td>\n",
       "      <td>2.682127</td>\n",
       "      <td>22558.088206</td>\n",
       "      <td>415.759925</td>\n",
       "      <td>0.941468</td>\n",
       "      <td>16.424971</td>\n",
       "      <td>1.095552</td>\n",
       "      <td>0.012932</td>\n",
       "      <td>0.019141</td>\n",
       "      <td>0.0</td>\n",
       "      <td>0.0</td>\n",
       "      <td>0.028732</td>\n",
       "    </tr>\n",
       "    <tr>\n",
       "      <th>2</th>\n",
       "      <td>51.030731</td>\n",
       "      <td>4.998571</td>\n",
       "      <td>47593.154644</td>\n",
       "      <td>91.757215</td>\n",
       "      <td>1.489275</td>\n",
       "      <td>2.537410</td>\n",
       "      <td>0.331401</td>\n",
       "      <td>0.007704</td>\n",
       "      <td>0.023319</td>\n",
       "      <td>0.0</td>\n",
       "      <td>0.0</td>\n",
       "      <td>0.061088</td>\n",
       "    </tr>\n",
       "    <tr>\n",
       "      <th>3</th>\n",
       "      <td>50.293804</td>\n",
       "      <td>2.197369</td>\n",
       "      <td>17671.535084</td>\n",
       "      <td>140.191942</td>\n",
       "      <td>0.342772</td>\n",
       "      <td>4.868140</td>\n",
       "      <td>2.526748</td>\n",
       "      <td>0.020776</td>\n",
       "      <td>0.033704</td>\n",
       "      <td>0.0</td>\n",
       "      <td>0.0</td>\n",
       "      <td>0.041899</td>\n",
       "    </tr>\n",
       "    <tr>\n",
       "      <th>4</th>\n",
       "      <td>50.574835</td>\n",
       "      <td>5.329312</td>\n",
       "      <td>51322.970078</td>\n",
       "      <td>129.619884</td>\n",
       "      <td>1.307008</td>\n",
       "      <td>2.145088</td>\n",
       "      <td>0.217140</td>\n",
       "      <td>0.001238</td>\n",
       "      <td>0.003079</td>\n",
       "      <td>0.0</td>\n",
       "      <td>0.0</td>\n",
       "      <td>0.006721</td>\n",
       "    </tr>\n",
       "    <tr>\n",
       "      <th>...</th>\n",
       "      <td>...</td>\n",
       "      <td>...</td>\n",
       "      <td>...</td>\n",
       "      <td>...</td>\n",
       "      <td>...</td>\n",
       "      <td>...</td>\n",
       "      <td>...</td>\n",
       "      <td>...</td>\n",
       "      <td>...</td>\n",
       "      <td>...</td>\n",
       "      <td>...</td>\n",
       "      <td>...</td>\n",
       "    </tr>\n",
       "    <tr>\n",
       "      <th>249995</th>\n",
       "      <td>50.992523</td>\n",
       "      <td>0.905056</td>\n",
       "      <td>5858.385234</td>\n",
       "      <td>192.159161</td>\n",
       "      <td>0.126326</td>\n",
       "      <td>2.208049</td>\n",
       "      <td>1.084874</td>\n",
       "      <td>0.271088</td>\n",
       "      <td>0.332703</td>\n",
       "      <td>0.0</td>\n",
       "      <td>0.0</td>\n",
       "      <td>0.360669</td>\n",
       "    </tr>\n",
       "    <tr>\n",
       "      <th>249996</th>\n",
       "      <td>51.120535</td>\n",
       "      <td>1.292967</td>\n",
       "      <td>9147.104839</td>\n",
       "      <td>66.168688</td>\n",
       "      <td>0.718629</td>\n",
       "      <td>2.327691</td>\n",
       "      <td>0.778590</td>\n",
       "      <td>0.267009</td>\n",
       "      <td>0.744750</td>\n",
       "      <td>0.0</td>\n",
       "      <td>0.0</td>\n",
       "      <td>1.316716</td>\n",
       "    </tr>\n",
       "    <tr>\n",
       "      <th>249997</th>\n",
       "      <td>50.443156</td>\n",
       "      <td>3.444270</td>\n",
       "      <td>30538.392374</td>\n",
       "      <td>359.155726</td>\n",
       "      <td>0.742104</td>\n",
       "      <td>3.092702</td>\n",
       "      <td>1.294291</td>\n",
       "      <td>0.004690</td>\n",
       "      <td>0.006232</td>\n",
       "      <td>0.0</td>\n",
       "      <td>0.0</td>\n",
       "      <td>0.008307</td>\n",
       "    </tr>\n",
       "    <tr>\n",
       "      <th>249998</th>\n",
       "      <td>51.288688</td>\n",
       "      <td>2.092387</td>\n",
       "      <td>16637.535552</td>\n",
       "      <td>26.996060</td>\n",
       "      <td>-0.076542</td>\n",
       "      <td>2.292546</td>\n",
       "      <td>1.750268</td>\n",
       "      <td>0.095505</td>\n",
       "      <td>0.421509</td>\n",
       "      <td>0.0</td>\n",
       "      <td>0.0</td>\n",
       "      <td>0.851218</td>\n",
       "    </tr>\n",
       "    <tr>\n",
       "      <th>249999</th>\n",
       "      <td>50.372085</td>\n",
       "      <td>2.009770</td>\n",
       "      <td>15830.715352</td>\n",
       "      <td>470.728429</td>\n",
       "      <td>0.516720</td>\n",
       "      <td>5.329596</td>\n",
       "      <td>2.012037</td>\n",
       "      <td>0.012644</td>\n",
       "      <td>0.013521</td>\n",
       "      <td>0.0</td>\n",
       "      <td>0.0</td>\n",
       "      <td>0.015616</td>\n",
       "    </tr>\n",
       "  </tbody>\n",
       "</table>\n",
       "<p>250000 rows × 12 columns</p>\n",
       "</div>"
      ],
      "text/plain": [
       "                L         z           D_L       Epobs     alpha       beta  \\\n",
       "0       50.246032  0.913010   5922.619578  845.481457  0.328012   7.367347   \n",
       "1       50.607419  2.682127  22558.088206  415.759925  0.941468  16.424971   \n",
       "2       51.030731  4.998571  47593.154644   91.757215  1.489275   2.537410   \n",
       "3       50.293804  2.197369  17671.535084  140.191942  0.342772   4.868140   \n",
       "4       50.574835  5.329312  51322.970078  129.619884  1.307008   2.145088   \n",
       "...           ...       ...           ...         ...       ...        ...   \n",
       "249995  50.992523  0.905056   5858.385234  192.159161  0.126326   2.208049   \n",
       "249996  51.120535  1.292967   9147.104839   66.168688  0.718629   2.327691   \n",
       "249997  50.443156  3.444270  30538.392374  359.155726  0.742104   3.092702   \n",
       "249998  51.288688  2.092387  16637.535552   26.996060 -0.076542   2.292546   \n",
       "249999  50.372085  2.009770  15830.715352  470.728429  0.516720   5.329596   \n",
       "\n",
       "           ktild  pht_pflx_BATSE  pht_pflx_BAT  pht_pflx_FREGATE  \\\n",
       "0       2.611616        0.030724      0.025655               0.0   \n",
       "1       1.095552        0.012932      0.019141               0.0   \n",
       "2       0.331401        0.007704      0.023319               0.0   \n",
       "3       2.526748        0.020776      0.033704               0.0   \n",
       "4       0.217140        0.001238      0.003079               0.0   \n",
       "...          ...             ...           ...               ...   \n",
       "249995  1.084874        0.271088      0.332703               0.0   \n",
       "249996  0.778590        0.267009      0.744750               0.0   \n",
       "249997  1.294291        0.004690      0.006232               0.0   \n",
       "249998  1.750268        0.095505      0.421509               0.0   \n",
       "249999  2.012037        0.012644      0.013521               0.0   \n",
       "\n",
       "        pht_pflx_WXM  pht_pflx_ECLAIRs  \n",
       "0                0.0          0.026272  \n",
       "1                0.0          0.028732  \n",
       "2                0.0          0.061088  \n",
       "3                0.0          0.041899  \n",
       "4                0.0          0.006721  \n",
       "...              ...               ...  \n",
       "249995           0.0          0.360669  \n",
       "249996           0.0          1.316716  \n",
       "249997           0.0          0.008307  \n",
       "249998           0.0          0.851218  \n",
       "249999           0.0          0.015616  \n",
       "\n",
       "[250000 rows x 12 columns]"
      ]
     },
     "execution_count": 37,
     "metadata": {},
     "output_type": "execute_result"
    }
   ],
   "source": [
    "dt = 'i4,i4,12f8,11f8,i4'\n",
    "# i, L, z, D_L, Epobs, alpha, beta, ktild, Peakflux_Instrument, Prob_det\n",
    "with open(f90_dir/'GRB_properties 0.dat', 'rb') as f:\n",
    "    data = np.fromfile(f, dtype=dt, count=-1)\n",
    "df_f90 = np.zeros((len(data),12))\n",
    "for i,dat in enumerate(data):\n",
    "    df_f90[i] = dat[2]\n",
    "\n",
    "df_f90 = pd.DataFrame(df_f90, columns=['L', 'z', 'D_L', 'Epobs', 'alpha', 'beta', 'ktild',\n",
    "                                     'pht_pflx_BATSE','pht_pflx_BAT','pht_pflx_FREGATE','pht_pflx_WXM','pht_pflx_ECLAIRs'])\n",
    "df_f90['L'] = np.log10(df_f90['L'])"
   ]
  },
  {
   "cell_type": "code",
   "execution_count": 38,
   "metadata": {},
   "outputs": [
    {
     "name": "stdout",
     "output_type": "stream",
     "text": [
      "23:41:37.702 [INFO]           Stern chi2: 7.2798e+01\n",
      "23:41:37.703 [INFO]  Stern normalization: 1.1775e-01 yr-1\n",
      "23:41:37.704 [INFO]  Simulation duration: 8.4929e+00 yr\n",
      "23:41:37.704 [INFO]            ndot_LGRB: 1.1775e+04 LGRB/yr\n"
     ]
    },
    {
     "data": {
      "image/png": "[encoded data removed]",
      "text/plain": [
       "<Figure size 432x288 with 1 Axes>"
      ]
     },
     "metadata": {
      "needs_background": "light"
     },
     "output_type": "display_data"
    }
   ],
   "source": [
    "norm_Stern, mod_Stern = obs.compare_to_Stern(df_f90[df_f90['pht_pflx_BATSE']>=0.066825]['pht_pflx_BATSE'],\n",
    "                         Stern_file=paths_to_dir['obs']/'Stern_lognlogp_rebinned.txt',\n",
    "                         Nb_GRBs=Nb_GRBs, show_plot=True)"
   ]
  },
  {
   "cell_type": "code",
   "execution_count": null,
   "metadata": {},
   "outputs": [],
   "source": [
    "df_cols=['L', 'z', 'D_L', 'Epobs', 'alpha', 'beta', 'ktild', 'pht_pflx_BATSE','pht_pflx_BAT']\n",
    "\n"
   ]
  }
 ],
 "metadata": {
  "kernelspec": {
   "display_name": "Python 3",
   "language": "python",
   "name": "python3"
  },
  "language_info": {
   "codemirror_mode": {
    "name": "ipython",
    "version": 3
   },
   "file_extension": ".py",
   "mimetype": "text/x-python",
   "name": "python",
   "nbconvert_exporter": "python",
   "pygments_lexer": "ipython3",
   "version": "3.7.2"
  }
 },
 "nbformat": 4,
 "nbformat_minor": 2
}
