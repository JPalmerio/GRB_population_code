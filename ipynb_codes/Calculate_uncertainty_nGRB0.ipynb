{
 "cells": [
  {
   "cell_type": "code",
   "execution_count": 1,
   "metadata": {},
   "outputs": [],
   "source": [
    "import sys\n",
    "src_dir = '/Users/palmerio/Science_projects/GRB_population_model/grbpop/'\n",
    "sys.path.insert(0, src_dir)\n",
    "\n",
    "# GRB pop module imports\n",
    "from GRB_population import GRBPopulation\n",
    "import physics as ph\n",
    "import stats as st\n",
    "import io_grb_pop as io\n",
    "import miscellaneous as msc\n",
    "import plotting_functions as pf\n",
    "from cosmology import init_cosmology\n",
    "from ECLAIRs import init_ECLAIRs\n",
    "\n",
    "# General imports\n",
    "import yaml\n",
    "import logging\n",
    "import corner\n",
    "import pandas as pd\n",
    "import numpy as np\n",
    "import seaborn as sns\n",
    "import matplotlib\n",
    "import matplotlib.pyplot as plt\n",
    "\n",
    "# specific imports\n",
    "from scipy.stats import ks_2samp\n",
    "from scipy.stats import mstats\n",
    "from itertools import product\n",
    "\n",
    "log = logging.getLogger(__name__)\n",
    "logging.basicConfig(stream=sys.stdout, level=logging.DEBUG,\n",
    "                    format='%(asctime)s.%(msecs)03d [%(levelname)s] %(message)s',\n",
    "                    datefmt='%H:%M:%S')\n",
    "logging.getLogger('matplotlib').setLevel(logging.WARNING)\n",
    "\n",
    "plt.style.use('paper')"
   ]
  },
  {
   "cell_type": "code",
   "execution_count": 2,
   "metadata": {},
   "outputs": [
    {
     "name": "stdout",
     "output_type": "stream",
     "text": [
      "15:10:35.506 [DEBUG] Root directory is /Users/palmerio/Science_projects/GRB_population_model\n",
      "15:10:35.507 [DEBUG] Directory paths :\n",
      "    'root'    : /Users/palmerio/Science_projects/GRB_population_model\n",
      "    'obs'     : /Users/palmerio/Science_projects/GRB_population_model/observational_constraints\n",
      "    'init'    : /Users/palmerio/Science_projects/GRB_population_model/init\n",
      "    'output'  : /Users/palmerio/Science_projects/GRB_population_model/model_outputs\n",
      "    'data'    : /Users/palmerio/Science_projects/GRB_population_model/data\n",
      "    'cosmo'   : /Users/palmerio/Science_projects/GRB_population_model/data/cosmology\n",
      "    'ECLAIRs' : /Users/palmerio/Science_projects/GRB_population_model/data/ECLAIRs\n",
      "15:10:35.507 [DEBUG] File paths :\n",
      "    'config'          : /Users/palmerio/Science_projects/GRB_population_model/init/config.yml\n",
      "    'param'           : /Users/palmerio/Science_projects/GRB_population_model/init/parameters.yml\n",
      "    'instrum'         : /Users/palmerio/Science_projects/GRB_population_model/init/instruments.yml\n",
      "    'sample'          : /Users/palmerio/Science_projects/GRB_population_model/init/samples.yml\n",
      "    'obs_constraints' : /Users/palmerio/Science_projects/GRB_population_model/init/obs_constraints.yml\n"
     ]
    }
   ],
   "source": [
    "paths_to_dir, paths_to_files = io.generate_paths()"
   ]
  },
  {
   "cell_type": "code",
   "execution_count": null,
   "metadata": {},
   "outputs": [],
   "source": [
    "# Generate the populations for the best model in each scenario\n",
    "np.random.seed(1)\n",
    "model_names = ['kF_LN_nSFR',\n",
    "               'k0_LN_nF', \n",
    "               'k05_LN_nF', \n",
    "               'k1_LN_nF', \n",
    "               'k2_LN_nF', \n",
    "               'kF_A_nSFR',\n",
    "               'k0_A_nF', \n",
    "               'k05_A_nF',\n",
    "               'k05_A_nF_2',\n",
    "               'k1_A_nF', \n",
    "               'k1_A_nF_2', \n",
    "               'k2_A_nF']\n",
    "\n",
    "model_names_ks = ['k0_LN_nF', 'k2_LN_nF', 'k0_A_nF', 'k2_A_nF']\n",
    "# colors = ['#225ea8', '#41b6c4', '#ae017e', '#f768a1']\n",
    "colors = ['#225ea8', '#41b6c4', '#d94801', '#fd8d3c']\n",
    "\n",
    "parameters = {}\n",
    "pops = {}\n",
    "for mod in model_names:\n",
    "    print(f'Calculating {mod}... ')\n",
    "    with open(paths_to_files['param'].parent / f'parameters_{mod}.yml', 'r') as f:\n",
    "        parameters[mod] = yaml.safe_load(f)\n",
    "\n",
    "    dfs[mod] = GRBPopulation(Nb_GRBs, output_dir=paths_to_dir['output'])\n",
    "    dfs[mod].draw_GRB_properties(cosmo=cosmo, params=parameters[mod], run_mode=None)\n",
    "    dfs[mod].calculate_quantities(instruments=incl_instruments, samples=incl_samples, ECLAIRs_prop=ECLAIRs_prop)\n",
    "    dfs[mod].create_mock_constraints(constraints=incl_constraints)\n",
    "    dfs[mod].compare_to_observational_constraints(constraints=incl_constraints)\n",
    "    dfs[mod].normalize_to_Stern()\n"
   ]
  }
 ],
 "metadata": {
  "kernelspec": {
   "display_name": "Python 3",
   "language": "python",
   "name": "python3"
  },
  "language_info": {
   "codemirror_mode": {
    "name": "ipython",
    "version": 3
   },
   "file_extension": ".py",
   "mimetype": "text/x-python",
   "name": "python",
   "nbconvert_exporter": "python",
   "pygments_lexer": "ipython3",
   "version": "3.7.2"
  }
 },
 "nbformat": 4,
 "nbformat_minor": 4
}
