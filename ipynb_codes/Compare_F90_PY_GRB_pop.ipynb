{
 "cells": [
  {
   "cell_type": "code",
   "execution_count": 102,
   "metadata": {},
   "outputs": [],
   "source": [
    "import pandas as pd\n",
    "import matplotlib.pyplot as plt\n",
    "import numpy as np"
   ]
  },
  {
   "cell_type": "code",
   "execution_count": 111,
   "metadata": {},
   "outputs": [],
   "source": [
    "filename_py = './Model_outputs/190328_test_ab/GRB_Properties'\n",
    "filename_f90 = './Model_outputs/190328_test/GRB_Properties.dat'\n",
    "df_py = pd.read_msgpack(filename_py)"
   ]
  },
  {
   "cell_type": "code",
   "execution_count": 112,
   "metadata": {},
   "outputs": [],
   "source": [
    "dt = np.dtype([('fill', 'i4'), \n",
    "\t\t\t   ('Rank', 'i4'), \n",
    "\t\t\t   (r'Lum (erg/s)',        'f8'), \n",
    "\t\t\t   (r'Redshift',           'f8'), \n",
    "\t\t\t   (r'Lum distance (Mpc)', 'f8'), \n",
    "\t\t\t   (r'Epobs (keV)',        'f8'), \n",
    "\t\t\t   (r'$\\alpha$',           'f8'), \n",
    "\t\t\t   (r'$\\beta$',            'f8'), \n",
    "\t\t\t   (r'ktild',              'f8'), \n",
    "\t\t\t   ('Pflx BATSE',   'f8'), \n",
    "\t\t\t   ('Pflx BAT',     'f8'), \n",
    "\t\t\t   ('Pflx FREGATE', 'f8'), \n",
    "\t\t\t   ('Pflx WXM',     'f8'), \n",
    "\t\t\t   ('Pflx ECLAIRs', 'f8'), \n",
    "\t\t\t   ('Pdet Intrinsic'  , 'f8'), \n",
    "\t\t\t   ('Pdet Kommers'    , 'f8'), \n",
    "\t\t\t   ('Pdet Preece'     , 'f8'), \n",
    "\t\t\t   ('Pdet Stern'      , 'f8'), \n",
    "\t\t\t   ('Pdet SWIFTweak'  , 'f8'), \n",
    "\t\t\t   ('Pdet SWIFT'      , 'f8'), \n",
    "\t\t\t   ('Pdet SWIFTbright', 'f8'), \n",
    "\t\t\t   ('Pdet HETE2'      , 'f8'), \n",
    "\t\t\t   ('Pdet EpGBM'      , 'f8'), \n",
    "\t\t\t   ('Pdet eBAT6'      , 'f8'), \n",
    "\t\t\t   ('Pdet SVOM'       , 'f8'), \n",
    "\t\t\t   ('fill2','i4')])\n",
    "data = np.fromfile(filename_f90, dtype=dt)\n",
    "df_f90 = pd.DataFrame(data, columns=data.dtype.names)"
   ]
  },
  {
   "cell_type": "code",
   "execution_count": 122,
   "metadata": {
    "scrolled": true
   },
   "outputs": [
    {
     "data": {
      "text/plain": [
       "Index(['Nb_GRBs', 'z', 'L', 'Ep', 't90', 'Cvar', 'alpha', 'beta', 'ktild',\n",
       "       'D_L', 'Epobs', 'pdet_Stern', 'pflx_BATSE', 'pdet_eBAT6', 'pflx_BAT',\n",
       "       'cts_ECLAIRs', 'pdet_ECLAIRs_cts', 'pdet_ECLAIRs_flnc'],\n",
       "      dtype='object')"
      ]
     },
     "execution_count": 122,
     "metadata": {},
     "output_type": "execute_result"
    }
   ],
   "source": [
    "df_py.columns"
   ]
  },
  {
   "cell_type": "code",
   "execution_count": 114,
   "metadata": {
    "scrolled": true
   },
   "outputs": [
    {
     "data": {
      "text/html": [
       "<div>\n",
       "<style scoped>\n",
       "    .dataframe tbody tr th:only-of-type {\n",
       "        vertical-align: middle;\n",
       "    }\n",
       "\n",
       "    .dataframe tbody tr th {\n",
       "        vertical-align: top;\n",
       "    }\n",
       "\n",
       "    .dataframe thead th {\n",
       "        text-align: right;\n",
       "    }\n",
       "</style>\n",
       "<table border=\"1\" class=\"dataframe\">\n",
       "  <thead>\n",
       "    <tr style=\"text-align: right;\">\n",
       "      <th></th>\n",
       "      <th>fill</th>\n",
       "      <th>Rank</th>\n",
       "      <th>Lum (erg/s)</th>\n",
       "      <th>Redshift</th>\n",
       "      <th>Lum distance (Mpc)</th>\n",
       "      <th>Epobs (keV)</th>\n",
       "      <th>$\\alpha$</th>\n",
       "      <th>$\\beta$</th>\n",
       "      <th>ktild</th>\n",
       "      <th>Pflx BATSE</th>\n",
       "      <th>...</th>\n",
       "      <th>Pdet Preece</th>\n",
       "      <th>Pdet Stern</th>\n",
       "      <th>Pdet SWIFTweak</th>\n",
       "      <th>Pdet SWIFT</th>\n",
       "      <th>Pdet SWIFTbright</th>\n",
       "      <th>Pdet HETE2</th>\n",
       "      <th>Pdet EpGBM</th>\n",
       "      <th>Pdet eBAT6</th>\n",
       "      <th>Pdet SVOM</th>\n",
       "      <th>fill2</th>\n",
       "    </tr>\n",
       "  </thead>\n",
       "  <tbody>\n",
       "    <tr>\n",
       "      <th>0</th>\n",
       "      <td>188</td>\n",
       "      <td>1</td>\n",
       "      <td>1.315451e+50</td>\n",
       "      <td>1.168470</td>\n",
       "      <td>8059.850747</td>\n",
       "      <td>164.192093</td>\n",
       "      <td>0.328012</td>\n",
       "      <td>7.367347</td>\n",
       "      <td>2.611616</td>\n",
       "      <td>0.063676</td>\n",
       "      <td>...</td>\n",
       "      <td>0.0</td>\n",
       "      <td>0.0</td>\n",
       "      <td>0.0</td>\n",
       "      <td>0.0</td>\n",
       "      <td>0.0</td>\n",
       "      <td>0.0</td>\n",
       "      <td>0.0</td>\n",
       "      <td>0.0</td>\n",
       "      <td>0.0</td>\n",
       "      <td>188</td>\n",
       "    </tr>\n",
       "    <tr>\n",
       "      <th>1</th>\n",
       "      <td>188</td>\n",
       "      <td>2</td>\n",
       "      <td>2.244626e+50</td>\n",
       "      <td>3.497096</td>\n",
       "      <td>31102.586500</td>\n",
       "      <td>87.865201</td>\n",
       "      <td>0.941468</td>\n",
       "      <td>16.424971</td>\n",
       "      <td>1.095552</td>\n",
       "      <td>0.006738</td>\n",
       "      <td>...</td>\n",
       "      <td>0.0</td>\n",
       "      <td>0.0</td>\n",
       "      <td>0.0</td>\n",
       "      <td>0.0</td>\n",
       "      <td>0.0</td>\n",
       "      <td>0.0</td>\n",
       "      <td>0.0</td>\n",
       "      <td>0.0</td>\n",
       "      <td>0.0</td>\n",
       "      <td>188</td>\n",
       "    </tr>\n",
       "    <tr>\n",
       "      <th>2</th>\n",
       "      <td>188</td>\n",
       "      <td>3</td>\n",
       "      <td>5.040986e+50</td>\n",
       "      <td>7.875366</td>\n",
       "      <td>80855.406634</td>\n",
       "      <td>19.974098</td>\n",
       "      <td>1.489275</td>\n",
       "      <td>2.537410</td>\n",
       "      <td>0.331401</td>\n",
       "      <td>0.000739</td>\n",
       "      <td>...</td>\n",
       "      <td>0.0</td>\n",
       "      <td>0.0</td>\n",
       "      <td>0.0</td>\n",
       "      <td>0.0</td>\n",
       "      <td>0.0</td>\n",
       "      <td>0.0</td>\n",
       "      <td>0.0</td>\n",
       "      <td>0.0</td>\n",
       "      <td>0.0</td>\n",
       "      <td>188</td>\n",
       "    </tr>\n",
       "  </tbody>\n",
       "</table>\n",
       "<p>3 rows × 26 columns</p>\n",
       "</div>"
      ],
      "text/plain": [
       "   fill  Rank   Lum (erg/s)  Redshift  Lum distance (Mpc)  Epobs (keV)  \\\n",
       "0   188     1  1.315451e+50  1.168470         8059.850747   164.192093   \n",
       "1   188     2  2.244626e+50  3.497096        31102.586500    87.865201   \n",
       "2   188     3  5.040986e+50  7.875366        80855.406634    19.974098   \n",
       "\n",
       "   $\\alpha$    $\\beta$     ktild  Pflx BATSE  ...  Pdet Preece  Pdet Stern  \\\n",
       "0  0.328012   7.367347  2.611616    0.063676  ...          0.0         0.0   \n",
       "1  0.941468  16.424971  1.095552    0.006738  ...          0.0         0.0   \n",
       "2  1.489275   2.537410  0.331401    0.000739  ...          0.0         0.0   \n",
       "\n",
       "   Pdet SWIFTweak  Pdet SWIFT  Pdet SWIFTbright  Pdet HETE2  Pdet EpGBM  \\\n",
       "0             0.0         0.0               0.0         0.0         0.0   \n",
       "1             0.0         0.0               0.0         0.0         0.0   \n",
       "2             0.0         0.0               0.0         0.0         0.0   \n",
       "\n",
       "   Pdet eBAT6  Pdet SVOM  fill2  \n",
       "0         0.0        0.0    188  \n",
       "1         0.0        0.0    188  \n",
       "2         0.0        0.0    188  \n",
       "\n",
       "[3 rows x 26 columns]"
      ]
     },
     "execution_count": 114,
     "metadata": {},
     "output_type": "execute_result"
    }
   ],
   "source": [
    "df_f90[:3]"
   ]
  },
  {
   "cell_type": "code",
   "execution_count": 115,
   "metadata": {},
   "outputs": [
    {
     "data": {
      "image/png": "[encoded data removed]",
      "text/plain": [
       "<Figure size 432x288 with 1 Axes>"
      ]
     },
     "metadata": {
      "needs_background": "light"
     },
     "output_type": "display_data"
    }
   ],
   "source": [
    "_, bins, _ = plt.hist(df_f90['Redshift'], bins = 30, alpha=0.7, label='F90', edgecolor='k', linewidth=0.5)\n",
    "plt.hist(df_py['z'], bins = bins, alpha=0.7, label='Py', edgecolor='k', linewidth=0.5)\n",
    "plt.yscale('log')\n",
    "plt.legend()\n",
    "plt.xlabel('Redshift')\n",
    "plt.show()"
   ]
  },
  {
   "cell_type": "code",
   "execution_count": 116,
   "metadata": {},
   "outputs": [
    {
     "data": {
      "image/png": "[encoded data removed]",
      "text/plain": [
       "<Figure size 432x288 with 1 Axes>"
      ]
     },
     "metadata": {
      "needs_background": "light"
     },
     "output_type": "display_data"
    }
   ],
   "source": [
    "_, bins, _ = plt.hist(np.log10(df_f90['Lum (erg/s)']), bins = 30, alpha=0.7, label='F90', edgecolor='k', linewidth=0.5)\n",
    "plt.hist(np.log10(df_py['L']), bins = bins, alpha=0.7, label='Py', edgecolor='k', linewidth=0.5)\n",
    "plt.yscale('log')\n",
    "plt.xlabel('log(Lum [erg/s])')\n",
    "plt.legend()\n",
    "plt.show()"
   ]
  },
  {
   "cell_type": "code",
   "execution_count": 117,
   "metadata": {},
   "outputs": [
    {
     "data": {
      "image/png": "[encoded data removed]",
      "text/plain": [
       "<Figure size 432x288 with 1 Axes>"
      ]
     },
     "metadata": {
      "needs_background": "light"
     },
     "output_type": "display_data"
    }
   ],
   "source": [
    "_, bins, _ = plt.hist(np.log10(df_f90['Epobs (keV)']), bins = 30, alpha=0.7, label='F90', edgecolor='k', linewidth=0.5)\n",
    "plt.hist(np.log10(df_py['Epobs']), bins = bins, alpha=0.7, label='Py', edgecolor='k', linewidth=0.5)\n",
    "plt.yscale('log')\n",
    "plt.legend()\n",
    "plt.xlabel('log(Ep obs [keV])')\n",
    "plt.show()"
   ]
  },
  {
   "cell_type": "code",
   "execution_count": 118,
   "metadata": {},
   "outputs": [
    {
     "data": {
      "image/png": "[encoded data removed]",
      "text/plain": [
       "<Figure size 432x288 with 1 Axes>"
      ]
     },
     "metadata": {
      "needs_background": "light"
     },
     "output_type": "display_data"
    }
   ],
   "source": [
    "_, bins, _ = plt.hist(np.log10(df_f90['Pflx BATSE']), bins = 30, alpha=0.7, label='F90', edgecolor='k', linewidth=0.5)\n",
    "plt.hist(np.log10(df_py['pflx_BATSE']), bins = bins, alpha=0.7, label='Py', edgecolor='k', linewidth=0.5)\n",
    "plt.yscale('log')\n",
    "plt.legend()\n",
    "plt.show()\n",
    "# df_py['beta'].replace(2.0, 2.01, inplace=True)\n",
    "# df_py"
   ]
  },
  {
   "cell_type": "code",
   "execution_count": 119,
   "metadata": {},
   "outputs": [
    {
     "data": {
      "image/png": "[encoded data removed]",
      "text/plain": [
       "<Figure size 432x288 with 1 Axes>"
      ]
     },
     "metadata": {
      "needs_background": "light"
     },
     "output_type": "display_data"
    }
   ],
   "source": [
    "_, bins, _ = plt.hist(df_f90[r'$\\alpha$'], bins = 30, alpha=0.7, label='F90', edgecolor='k', linewidth=0.5)\n",
    "plt.hist(df_py['alpha'], bins = bins, alpha=0.7, label='Py', edgecolor='k', linewidth=0.5)\n",
    "plt.yscale('log')\n",
    "plt.xlabel(r'$\\alpha$')\n",
    "plt.legend()\n",
    "plt.show()"
   ]
  },
  {
   "cell_type": "code",
   "execution_count": 120,
   "metadata": {},
   "outputs": [
    {
     "data": {
      "image/png": "[encoded data removed]",
      "text/plain": [
       "<Figure size 432x288 with 1 Axes>"
      ]
     },
     "metadata": {
      "needs_background": "light"
     },
     "output_type": "display_data"
    }
   ],
   "source": [
    "_, bins, _ = plt.hist(df_f90[r'$\\beta$'], bins = 30, alpha=0.7, label='F90', edgecolor='k', linewidth=0.5)\n",
    "plt.hist(df_py['beta'], bins = bins, alpha=0.7, label='Py', edgecolor='k', linewidth=0.5)\n",
    "plt.yscale('log')\n",
    "plt.xlabel(r'$\\beta$')\n",
    "plt.legend()\n",
    "plt.show()"
   ]
  },
  {
   "cell_type": "code",
   "execution_count": 121,
   "metadata": {},
   "outputs": [
    {
     "data": {
      "image/png": "[encoded data removed]",
      "text/plain": [
       "<Figure size 432x288 with 1 Axes>"
      ]
     },
     "metadata": {
      "needs_background": "light"
     },
     "output_type": "display_data"
    }
   ],
   "source": [
    "_, bins, _ = plt.hist(df_f90['ktild'], bins = 30, alpha=0.7, label='F90', edgecolor='k', linewidth=0.5)\n",
    "plt.hist(df_py['ktild'], bins = bins, alpha=0.7, label='Py', edgecolor='k', linewidth=0.5)\n",
    "plt.yscale('log')\n",
    "plt.xlabel('ktild')\n",
    "plt.legend()\n",
    "plt.show()"
   ]
  },
  {
   "cell_type": "code",
   "execution_count": null,
   "metadata": {},
   "outputs": [],
   "source": []
  }
 ],
 "metadata": {
  "kernelspec": {
   "display_name": "Python 3",
   "language": "python",
   "name": "python3"
  },
  "language_info": {
   "codemirror_mode": {
    "name": "ipython",
    "version": 3
   },
   "file_extension": ".py",
   "mimetype": "text/x-python",
   "name": "python",
   "nbconvert_exporter": "python",
   "pygments_lexer": "ipython3",
   "version": "3.7.2"
  }
 },
 "nbformat": 4,
 "nbformat_minor": 2
}
