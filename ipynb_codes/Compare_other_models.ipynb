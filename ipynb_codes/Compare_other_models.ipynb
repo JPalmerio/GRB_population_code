{
 "cells": [
  {
   "cell_type": "code",
   "execution_count": 1,
   "metadata": {},
   "outputs": [],
   "source": [
    "import sys\n",
    "src_dir = '/Users/palmerio/Science_projects/GRB_population_model/src/'\n",
    "sys.path.insert(0, src_dir)\n",
    "verbose = True\n",
    "run_mode = 'debug'\n",
    "\n",
    "# GRB pop module imports\n",
    "from GRB_population import GRBPopulation\n",
    "import physics as ph\n",
    "import stats as st\n",
    "import io_grb_pop as io\n",
    "from io_grb_pop import root_dir\n",
    "import miscellaneous as msc\n",
    "import plotting_functions as pf\n",
    "from cosmology import init_cosmology\n",
    "from ECLAIRs import init_ECLAIRs\n",
    "import observational_constraints as obs\n",
    "import cosmology as cs\n",
    "\n",
    "# General imports\n",
    "import yaml\n",
    "import logging\n",
    "import corner\n",
    "import time\n",
    "import pandas as pd\n",
    "import numpy as np\n",
    "import seaborn as sns\n",
    "import matplotlib\n",
    "import matplotlib.pyplot as plt\n",
    "from pathlib import Path\n",
    "\n",
    "log = logging.getLogger(__name__)\n",
    "logging.basicConfig(stream=sys.stdout, level=logging.DEBUG,\n",
    "                    format='%(asctime)s.%(msecs)03d [%(levelname)s] %(message)s',\n",
    "                    datefmt='%H:%M:%S')\n",
    "logging.getLogger('matplotlib').setLevel(logging.WARNING)\n",
    "plt.style.use('paper')\n",
    "colors = ['#225ea8', '#41b6c4', '#d94801', '#fd8d3c']"
   ]
  },
  {
   "cell_type": "code",
   "execution_count": 30,
   "metadata": {
    "scrolled": true
   },
   "outputs": [
    {
     "name": "stdout",
     "output_type": "stream",
     "text": [
      "15:48:51.623 [DEBUG] Root directory is /Users/palmerio/Science_projects/GRB_population_model\n",
      "15:48:51.624 [DEBUG] Directory paths :\n",
      "    'root'    : /Users/palmerio/Science_projects/GRB_population_model\n",
      "    'obs'     : /Users/palmerio/Science_projects/GRB_population_model/observational_constraints\n",
      "    'init'    : /Users/palmerio/Science_projects/GRB_population_model/init\n",
      "    'output'  : /Users/palmerio/Science_projects/GRB_population_model/model_outputs\n",
      "    'data'    : /Users/palmerio/Science_projects/GRB_population_model/data\n",
      "    'cosmo'   : /Users/palmerio/Science_projects/GRB_population_model/data/cosmology\n",
      "    'ECLAIRs' : /Users/palmerio/Science_projects/GRB_population_model/data/ECLAIRs\n",
      "15:48:51.625 [DEBUG] File paths :\n",
      "    'config'          : /Users/palmerio/Science_projects/GRB_population_model/init/config.yml\n",
      "    'param'           : /Users/palmerio/Science_projects/GRB_population_model/init/parameters.yml\n",
      "    'instrum'         : /Users/palmerio/Science_projects/GRB_population_model/init/instruments.yml\n",
      "    'sample'          : /Users/palmerio/Science_projects/GRB_population_model/init/samples.yml\n",
      "    'obs_constraints' : /Users/palmerio/Science_projects/GRB_population_model/init/obs_constraints.yml\n",
      "15:48:51.646 [DEBUG] Input configuration:\n",
      "Nb_GRBs: 1e5\n",
      "constraints:\n",
      "- Stern\n",
      "- EpGBM\n",
      "- eBAT6\n",
      "likelihood:\n",
      "    epsilon: 0.001\n",
      "output_dir: debugger\n",
      "samples:\n",
      "- Stern\n",
      "- EpGBM\n",
      "- eBAT6\n",
      "- Swift\n",
      "- ECLAIRs\n",
      "- SHOALS\n",
      "- GBM_sample\n",
      "- BATSE_5B_sample\n",
      "save_all_GRBs: false\n",
      "\n",
      "15:48:51.649 [DEBUG] Input parameters:\n",
      "Cvar_distribution:\n",
      "    correl_slope: -0.413\n",
      "    mu: 0.04\n",
      "    sigma: 0.22\n",
      "luminosity_function:\n",
      "    k_evol: 1.0\n",
      "    logLbreak: 52.56\n",
      "    logLmax: 53.0\n",
      "    logLmin: 49.6989700043\n",
      "    model: ES\n",
      "    slope: 1.41\n",
      "peak_energy_distribution:\n",
      "    Ep0: 690\n",
      "    alpha_amati: 0.3\n",
      "    model: LN\n",
      "    sigmaEp: 0.45\n",
      "redshift_distribution:\n",
      "    a: 0.94\n",
      "    b: -0.52\n",
      "    model: BExp\n",
      "    zeta: null\n",
      "    zm: 2.18\n",
      "    zmax: 20\n",
      "spectral_shape:\n",
      "    alpha: 0.6\n",
      "    beta: 2.5\n",
      "    model: GBM_Band\n",
      "t90obs_distribution:\n",
      "    mu: 1.45\n",
      "    sigma: 0.47\n",
      "\n",
      "Creating cosmology with: OmegaM = 0.27, OmegaL = 0.73, H0 = 70.0\n"
     ]
    }
   ],
   "source": [
    "# Wanderman & Piran 2010\n",
    "paths_to_dir, paths_to_files = io.generate_paths()\n",
    "config, params, instruments, samples, obs_constraints = io.read_init_files(paths_to_files)\n",
    "cosmo = cs.create_cosmology(OmegaM=0.27, OmegaL=0.73, h=0.7, zmax=100)\n",
    "\n",
    "# ECLAIRs_prop = init_ECLAIRs(ECLAIRs_dir=paths_to_dir['ECLAIRs'],\n",
    "#                             ECLAIRs_config=instruments['ECLAIRs'])\n",
    "# samples['ECLAIRs']['pflx_min'] = ECLAIRs_prop['bkg_total']\n",
    "# incl_samples, incl_instruments, incl_constraints = msc.create_config(config=config,\n",
    "#                                                        samples=samples,\n",
    "#                                                        instruments=instruments,\n",
    "#                                                        obs_constraints=obs_constraints)"
   ]
  },
  {
   "cell_type": "code",
   "execution_count": 6,
   "metadata": {},
   "outputs": [
    {
     "name": "stdout",
     "output_type": "stream",
     "text": [
      "Creating cosmology with: OmegaM = 0.27, OmegaL = 0.73, H0 = 71.0\n"
     ]
    }
   ],
   "source": []
  },
  {
   "cell_type": "code",
   "execution_count": null,
   "metadata": {},
   "outputs": [],
   "source": []
  },
  {
   "cell_type": "code",
   "execution_count": null,
   "metadata": {},
   "outputs": [],
   "source": []
  }
 ],
 "metadata": {
  "kernelspec": {
   "display_name": "Python 3",
   "language": "python",
   "name": "python3"
  },
  "language_info": {
   "codemirror_mode": {
    "name": "ipython",
    "version": 3
   },
   "file_extension": ".py",
   "mimetype": "text/x-python",
   "name": "python",
   "nbconvert_exporter": "python",
   "pygments_lexer": "ipython3",
   "version": "3.7.2"
  }
 },
 "nbformat": 4,
 "nbformat_minor": 4
}
