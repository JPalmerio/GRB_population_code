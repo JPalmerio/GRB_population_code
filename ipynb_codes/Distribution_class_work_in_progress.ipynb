{
 "cells": [
  {
   "cell_type": "code",
   "execution_count": 116,
   "metadata": {},
   "outputs": [],
   "source": [
    "import yaml\n",
    "import numpy as np\n",
    "import matplotlib.pyplot as plt\n",
    "import logging\n",
    "import sys\n",
    "log = logging.getLogger(__name__)\n",
    "logging.basicConfig(stream=sys.stdout, level=logging.DEBUG,\n",
    "                    format='%(asctime)s.%(msecs)03d [%(levelname)s] %(message)s',\n",
    "                    datefmt='%H:%M:%S')\n",
    "logging.getLogger('matplotlib').setLevel(logging.WARNING)\n",
    "with open('/Users/palmerio/Science_projects/GRB_population_model/init/parameters.yml', 'r') as f:\n",
    "        params = yaml.safe_load(f)\n",
    "def BPL_lum(logL, logLbreak, slopeL, slopeH):\n",
    "    \"\"\"\n",
    "        Returns the unnormalized broken power law function\n",
    "        Expects Lum arguments to be in log scale\n",
    "    \"\"\"\n",
    "    x = 10.**(logL - logLbreak)\n",
    "    BPL_func = np.where(x <= 1, x**(1.-slopeL), x**(1.-slopeH))\n",
    "    return BPL_func\n",
    "def Schechter_log(self, logL, logLbreak, slope):\n",
    "    \"\"\"\n",
    "        Returns the unnormalized Schechter function\n",
    "        Expects Lum arguments to be in log scale\n",
    "    \"\"\"\n",
    "    x = 10.**(logL - logLbreak)\n",
    "    Sch = x**(1.-slope) * np.exp(-x)\n",
    "    return Sch"
   ]
  },
  {
   "cell_type": "code",
   "execution_count": 112,
   "metadata": {},
   "outputs": [],
   "source": [
    "class Distribution:\n",
    "    def __init__(self, name, func=None, func_args={}, lim_min=None, lim_max=None, filename=None):\n",
    "        if not isinstance(name, str):\n",
    "            raise TypeError('The name of your Distribution must be a string.')\n",
    "        self.func = func\n",
    "        self.func_args = self._check_args(func, func_args)\n",
    "        self.lim_min = lim_min\n",
    "        self.lim_max = lim_max\n",
    "        \n",
    "    def plot(self, xrange=None, ax=None):\n",
    "        if ax is None:\n",
    "            ax = plt.gca()\n",
    "        if xrange is None:\n",
    "            xrange = np.linspace(lim_min, lim_max, 100)\n",
    "        ax.plot(xrange, self.func(xrange, **self.func_args))\n",
    "\n",
    "    def _check_args(self, func, args):\n",
    "        import inspect\n",
    "        req_args = inspect.signature(func).parameters.keys()\n",
    "        ign_args = {k:args[k] for k in args if k not in req_args}\n",
    "        clean_args = args.copy()\n",
    "        if ign_args:\n",
    "            log.warning(\"These provided arguments will be ignored because they \"\n",
    "                        \"are not used by the provided function: {}\".format(ign_args))\n",
    "            for k in ign_args.keys():\n",
    "                clean_args.pop(k)\n",
    "        return clean_args"
   ]
  },
  {
   "cell_type": "code",
   "execution_count": 117,
   "metadata": {},
   "outputs": [
    {
     "name": "stdout",
     "output_type": "stream",
     "text": [
      "16:19:57.228 [WARNING] These provided arguments will be ignored because they are not used by the provided function: {'model': 'ES', 'logLmin': 49.6989700043, 'logLmax': 53.0, 'k_evol': 1.0}\n"
     ]
    }
   ],
   "source": [
    "a = Distribution(name='ES', func=Schechter_log, func_args=params['luminosity_function'])"
   ]
  },
  {
   "cell_type": "code",
   "execution_count": 118,
   "metadata": {},
   "outputs": [
    {
     "ename": "TypeError",
     "evalue": "Schechter_log() missing 1 required positional argument: 'logL'",
     "output_type": "error",
     "traceback": [
      "\u001b[0;31m---------------------------------------------------------------------------\u001b[0m",
      "\u001b[0;31mTypeError\u001b[0m                                 Traceback (most recent call last)",
      "\u001b[0;32m<ipython-input-118-ea32c0348cd3>\u001b[0m in \u001b[0;36m<module>\u001b[0;34m\u001b[0m\n\u001b[0;32m----> 1\u001b[0;31m \u001b[0ma\u001b[0m\u001b[0;34m.\u001b[0m\u001b[0mplot\u001b[0m\u001b[0;34m(\u001b[0m\u001b[0mxrange\u001b[0m\u001b[0;34m=\u001b[0m\u001b[0mnp\u001b[0m\u001b[0;34m.\u001b[0m\u001b[0mlinspace\u001b[0m\u001b[0;34m(\u001b[0m\u001b[0;36m50\u001b[0m\u001b[0;34m,\u001b[0m \u001b[0;36m55\u001b[0m\u001b[0;34m)\u001b[0m\u001b[0;34m)\u001b[0m\u001b[0;34m\u001b[0m\u001b[0;34m\u001b[0m\u001b[0m\n\u001b[0m",
      "\u001b[0;32m<ipython-input-112-8e035ef6fb04>\u001b[0m in \u001b[0;36mplot\u001b[0;34m(self, xrange, ax)\u001b[0m\n\u001b[1;32m     13\u001b[0m         \u001b[0;32mif\u001b[0m \u001b[0mxrange\u001b[0m \u001b[0;32mis\u001b[0m \u001b[0;32mNone\u001b[0m\u001b[0;34m:\u001b[0m\u001b[0;34m\u001b[0m\u001b[0;34m\u001b[0m\u001b[0m\n\u001b[1;32m     14\u001b[0m             \u001b[0mxrange\u001b[0m \u001b[0;34m=\u001b[0m \u001b[0mnp\u001b[0m\u001b[0;34m.\u001b[0m\u001b[0mlinspace\u001b[0m\u001b[0;34m(\u001b[0m\u001b[0mlim_min\u001b[0m\u001b[0;34m,\u001b[0m \u001b[0mlim_max\u001b[0m\u001b[0;34m,\u001b[0m \u001b[0;36m100\u001b[0m\u001b[0;34m)\u001b[0m\u001b[0;34m\u001b[0m\u001b[0;34m\u001b[0m\u001b[0m\n\u001b[0;32m---> 15\u001b[0;31m         \u001b[0max\u001b[0m\u001b[0;34m.\u001b[0m\u001b[0mplot\u001b[0m\u001b[0;34m(\u001b[0m\u001b[0mxrange\u001b[0m\u001b[0;34m,\u001b[0m \u001b[0mself\u001b[0m\u001b[0;34m.\u001b[0m\u001b[0mfunc\u001b[0m\u001b[0;34m(\u001b[0m\u001b[0mxrange\u001b[0m\u001b[0;34m,\u001b[0m \u001b[0;34m**\u001b[0m\u001b[0mself\u001b[0m\u001b[0;34m.\u001b[0m\u001b[0mfunc_args\u001b[0m\u001b[0;34m)\u001b[0m\u001b[0;34m)\u001b[0m\u001b[0;34m\u001b[0m\u001b[0;34m\u001b[0m\u001b[0m\n\u001b[0m\u001b[1;32m     16\u001b[0m \u001b[0;34m\u001b[0m\u001b[0m\n\u001b[1;32m     17\u001b[0m     \u001b[0;32mdef\u001b[0m \u001b[0m_check_args\u001b[0m\u001b[0;34m(\u001b[0m\u001b[0mself\u001b[0m\u001b[0;34m,\u001b[0m \u001b[0mfunc\u001b[0m\u001b[0;34m,\u001b[0m \u001b[0margs\u001b[0m\u001b[0;34m)\u001b[0m\u001b[0;34m:\u001b[0m\u001b[0;34m\u001b[0m\u001b[0;34m\u001b[0m\u001b[0m\n",
      "\u001b[0;31mTypeError\u001b[0m: Schechter_log() missing 1 required positional argument: 'logL'"
     ]
    },
    {
     "data": {
      "image/png": "[encoded data removed]",
      "text/plain": [
       "<Figure size 432x288 with 1 Axes>"
      ]
     },
     "metadata": {
      "needs_background": "light"
     },
     "output_type": "display_data"
    }
   ],
   "source": [
    "a.plot(xrange=np.linspace(50, 55))"
   ]
  },
  {
   "cell_type": "code",
   "execution_count": 119,
   "metadata": {},
   "outputs": [],
   "source": [
    "testdict={'logL':3,\n",
    "           'logLbreak':1,\n",
    "         'slopeL':-2,\n",
    "         'zololo':'pi'}\n",
    "\n",
    "def _check_args(func, args):\n",
    "    import inspect\n",
    "    req_args = inspect.signature(func).parameters.keys()\n",
    "    ign_args = {k:args[k] for k in args if k not in req_args}\n",
    "    clean_args = args.copy()\n",
    "    if ign_args:\n",
    "        log.warning(\"These provided arguments will be ignored because they \"\n",
    "                    \"are not used by the provided function: {}\".format(ign_args))\n",
    "        for k in ign_args.keys():\n",
    "            clean_args.pop(k)\n",
    "    return clean_args\n"
   ]
  },
  {
   "cell_type": "code",
   "execution_count": 102,
   "metadata": {},
   "outputs": [
    {
     "name": "stdout",
     "output_type": "stream",
     "text": [
      "16:13:51.060 [WARNING] These provided arguments will be ignored because theyare not used by the provided function: {'zololo': 'pi'}\n"
     ]
    }
   ],
   "source": [
    "x = _check_args(BPL_lum, testdict)"
   ]
  },
  {
   "cell_type": "code",
   "execution_count": 122,
   "metadata": {},
   "outputs": [
    {
     "data": {
      "text/plain": [
       "array(2)"
      ]
     },
     "execution_count": 122,
     "metadata": {},
     "output_type": "execute_result"
    }
   ],
   "source": [
    "np.where(3<4, 2, 1)"
   ]
  },
  {
   "cell_type": "code",
   "execution_count": 129,
   "metadata": {},
   "outputs": [],
   "source": [
    "\n",
    "\n",
    "def create_Stern_hist_for_lnL(fname=None, verbose=False):\n",
    "    \"\"\"\n",
    "        Create the histogram from [Stern et al. 2001]\n",
    "        (https://ui.adsabs.harvard.edu/abs/2001ApJ...563...80S/abstract)\n",
    "        Fig. 23 rebinned to avoid low counts\n",
    "        The logN-logP is converted to number count histogram for\n",
    "        comparison with the likelihood function\n",
    "    \"\"\"\n",
    "    global T_live_BATSE, T_BATSE_mission\n",
    "    if fname is None:\n",
    "        fname = '../observational_constraints/Stern.txt'\n",
    "\n",
    "    bins = read_column(fname, 0, array=False)\n",
    "    hist = read_column(fname, 1)\n",
    "    err = read_column(fname, 2)\n",
    "    bins.append(50.0)  # append right edge of last bin\n",
    "    bins = np.array(bins)\n",
    "\n",
    "    # Uncorrect for delta_bin, time and fraction of sky observed\n",
    "    delta_bin = np.log10(bins[1:]/bins[:-1])\n",
    "    hist, err, _u = log_to_lin(hist, err)\n",
    "    hist *= delta_bin * T_BATSE_mission * Omega_BATSE/(4*np.pi)\n",
    "    err *= delta_bin * T_BATSE_mission * Omega_BATSE/(4*np.pi)\n",
    "\n",
    "    if verbose:\n",
    "        ln_oi = 0.\n",
    "        for i, val in enumerate(hist):\n",
    "            val2 = 10**val\n",
    "            delta_bin = np.log10(bins[i+1]/bins[i])\n",
    "            val2 *= delta_bin * T_live_BATSE\n",
    "            ln_oi += val2*np.log(val2) - val2\n",
    "        print(f\"ln(o_i!) = {ln_oi} from Stern histogram\")\n",
    "\n",
    "    return bins, hist, err\n",
    "def read_column(filename, column_nb, end=None, dtype=float, array=True, splitter=None, stripper=None, verbose=False):\n",
    "    \"\"\"\n",
    "    Function used to read ASCII files.\n",
    "    It will skip lines starting with '#', '!' or '%'.\n",
    "\n",
    "    Parameters\n",
    "    ----------\n",
    "    filename : [str]\n",
    "        Name of the file containing the data\n",
    "\n",
    "    column_nb: [int]\n",
    "        Number of the column for the data.\n",
    "\n",
    "    end   : [int]\n",
    "        Number of lines to read. Note: commented lines (i.e. starting with '#', '!', or '%') do not count as lines for this purpose.\n",
    "        Default is None, which reads the whole file.\n",
    "\n",
    "    dtype : [data-type]\n",
    "        Type of the returned data. Default is float.\n",
    "\n",
    "    array : [boolean]\n",
    "        If True returns xdata as an array rather than a list. Default is True (arrays are faster)\n",
    "\n",
    "    splitter : [str]\n",
    "        String to use as a delimiter between columns. Default is None (uses default for str.split() which is a whitespace)\n",
    "\n",
    "    stripper : [str]\n",
    "        String to strip at the end of each line. Default is None (uses default for str.strip() which is a whitespace)\n",
    "\n",
    "    Returns\n",
    "    -------\n",
    "    xdata : [array/list]\n",
    "        x data\n",
    "    \"\"\"\n",
    "\n",
    "    nan = False\n",
    "\n",
    "    xdata = []\n",
    "    i_counter = 0\n",
    "    with open(filename, 'r') as f:\n",
    "        for i, line in enumerate(f):\n",
    "            if len(line) != 0:\n",
    "                if line[0] != '#' and line[0] != '!' and line[0] != '%':\n",
    "                    i_counter += 1\n",
    "                    line = line.strip(stripper)\n",
    "                    columns = line.split(splitter)\n",
    "                    try:\n",
    "                        xdata.append(dtype(columns[column_nb]))\n",
    "                    except ValueError:\n",
    "                        nan = True\n",
    "                        xdata.append(np.nan)\n",
    "                        if verbose:\n",
    "                            log.error(\"In read_column for {}: could not convert {} to {}, \\\n",
    "                                       so added NaN.\".format(filename, columns[column_nb], dtype))\n",
    "                    except IndexError:\n",
    "                        if verbose:\n",
    "                            log.error(\"In read_column for {}: no data found for column {:d}, line {:d}. \\\n",
    "                                       Input will be NaN.\".format(filename, column_nb, i))\n",
    "            if (end is not None) and (i_counter >= end):\n",
    "                break\n",
    "    if array:\n",
    "        xdata = np.asarray(xdata, dtype=dtype)\n",
    "    if nan:\n",
    "        log.warning(\"In read_column for {}: some strings could not be converted to {} \\\n",
    "            NaNs were added instead.\".format(filename, dtype))\n",
    "\n",
    "    return xdata\n",
    "\n",
    "def log_to_lin(log_x, log_x_errp, log_x_errm=None):\n",
    "    \"\"\"\n",
    "        Takes logscale data with errors and converts to linear scale with correct error propagation.\n",
    "        If log_x_errm is not provided, errors are assumed symmetric.\n",
    "        Returns : x, x_errp, x_errm\n",
    "    \"\"\"\n",
    "    if log_x_errm is None:\n",
    "        log_x_errm = log_x_errp\n",
    "    x = 10**log_x\n",
    "    x_errp = x * (10**log_x_errp - 1.0)\n",
    "    x_errm = x * (1.0 - 10**(-log_x_errm))\n",
    "\n",
    "    return x, x_errp, x_errm\n",
    "\n",
    "T_live_BATSE = 6.54  # years (Goldstein et al. 2013)\n",
    "T_BATSE_mission = 9.1  # years (Stern et al. 2001)\n",
    "Omega_BATSE = 0.7 * 4. * np.pi  # years (Stern et al. 2001)\n",
    "R_tot_BATSE = 1110.  # LGRBs per year in 4 pi above 0.066825 ph/s/cm2\n",
    "R_tot_BATSE_err = 40.  # LGRBs per year in 4 pi above 0.066825 ph/s/cm2\n",
    "\n",
    "\n"
   ]
  },
  {
   "cell_type": "code",
   "execution_count": 130,
   "metadata": {},
   "outputs": [],
   "source": [
    "bins, hist, err = create_Stern_hist_for_lnL()"
   ]
  },
  {
   "cell_type": "code",
   "execution_count": 135,
   "metadata": {},
   "outputs": [],
   "source": [
    "outfname = '/Users/palmerio/Science_projects/GRB_population_model/observational_constraints/Stern.txt'\n",
    "with open(outfname,'w') as f:\n",
    "    for i in range(len(hist)):\n",
    "        f.write(\"{:12.5e} \\t{:12.5e} \\t{:12.5e}\\n\".format(bins[i], hist[i], err[i]))"
   ]
  },
  {
   "cell_type": "code",
   "execution_count": 148,
   "metadata": {},
   "outputs": [
    {
     "data": {
      "text/plain": [
       "7248.74150961954"
      ]
     },
     "execution_count": 148,
     "metadata": {},
     "output_type": "execute_result"
    }
   ],
   "source": [
    "np.sum(hist)"
   ]
  },
  {
   "cell_type": "code",
   "execution_count": null,
   "metadata": {},
   "outputs": [],
   "source": []
  }
 ],
 "metadata": {
  "kernelspec": {
   "display_name": "Python 3",
   "language": "python",
   "name": "python3"
  },
  "language_info": {
   "codemirror_mode": {
    "name": "ipython",
    "version": 3
   },
   "file_extension": ".py",
   "mimetype": "text/x-python",
   "name": "python",
   "nbconvert_exporter": "python",
   "pygments_lexer": "ipython3",
   "version": "3.7.2"
  }
 },
 "nbformat": 4,
 "nbformat_minor": 4
}
